{
 "cells": [
  {
   "cell_type": "markdown",
   "id": "d50175ae-4a55-4a72-b392-c123b63faefb",
   "metadata": {},
   "source": [
    "# **Universidad Galileo**"
   ]
  },
  {
   "cell_type": "markdown",
   "id": "6b329851-3a9b-46fa-bec2-5a85efd23d3d",
   "metadata": {},
   "source": [
    "## **Ciencia de Datos en Python**"
   ]
  },
  {
   "cell_type": "markdown",
   "id": "0e3d3fc4-6043-41da-bcdd-0e0a98f8afa2",
   "metadata": {},
   "source": [
    "### **César Luis Polanco, 20062088**\n",
    "### **Tarea No. 5 - Vectores y Numpy**"
   ]
  },
  {
   "cell_type": "markdown",
   "id": "53002fd4-91e5-4f3b-96d9-a1c7791a0967",
   "metadata": {},
   "source": [
    "## **Introducción del proyecto final de curso**"
   ]
  },
  {
   "cell_type": "markdown",
   "id": "11860fde-5d1f-4820-bd3d-48497a822888",
   "metadata": {},
   "source": [
    "El proyecto consiste en aplicar los conocimientos aprendidos en clase (y apoyándose de referencias adicionales útiles) para crear **modelos predictivos de regresión lineal uni-variable** sencillos de la forma: $$y = f(x) =  mx +b$$ \n",
    "\n",
    "Donde:\n",
    "- y = la variable dependiente\n",
    "- x = variable independiente\n",
    "- m = pendiente de la recta(parámetro del modelo)\n",
    "- b = intercepto(parámetro del modelo)\n",
    "\n"
   ]
  },
  {
   "cell_type": "code",
   "execution_count": null,
   "id": "b59224d9-c13e-4fc3-8f53-d27b9578ee40",
   "metadata": {},
   "outputs": [],
   "source": []
  }
 ],
 "metadata": {
  "kernelspec": {
   "display_name": "Python 3 (ipykernel)",
   "language": "python",
   "name": "python3"
  },
  "language_info": {
   "codemirror_mode": {
    "name": "ipython",
    "version": 3
   },
   "file_extension": ".py",
   "mimetype": "text/x-python",
   "name": "python",
   "nbconvert_exporter": "python",
   "pygments_lexer": "ipython3",
   "version": "3.7.4"
  }
 },
 "nbformat": 4,
 "nbformat_minor": 5
}
