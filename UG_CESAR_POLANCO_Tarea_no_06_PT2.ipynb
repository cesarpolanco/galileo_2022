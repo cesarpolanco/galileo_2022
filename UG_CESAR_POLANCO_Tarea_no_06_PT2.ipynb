{
 "cells": [
  {
   "cell_type": "markdown",
   "metadata": {},
   "source": [
    "# **Universidad Galileo**"
   ]
  },
  {
   "cell_type": "markdown",
   "metadata": {},
   "source": [
    "## **Ciencia de Datos en Python**"
   ]
  },
  {
   "cell_type": "markdown",
   "metadata": {},
   "source": [
    "### **César Luis Polanco, 20062088**"
   ]
  },
  {
   "cell_type": "markdown",
   "metadata": {
    "id": "LgycrXmbpfjN"
   },
   "source": [
    "# NumPy y algebra lineal(parte 2) \n",
    "\n",
    "Ya hemos estudiado el objeto básico en álgebra lineal: **el vector**, algunos de sus usos e interpretaciones, así como la forma de trabajar con estos en Python a través de NumPy,funciones matemáticas útiles y comunes entre otras cosas.\n",
    " \n",
    "Además mencionamos el objeto general **Tensor** y su equivalente en NumPy : **np.ndarray**.\n",
    " \n",
    "En esta parte del curso nos enfocamos en otro objeto muy importante en álgebra lineal y en ciencia de datos: **la matriz**.\n",
    " \n",
    "Muchas de las cosas que aprendimos en vectores aplican también a matrices,algunas exactamente igual, algunas con pequeñas variaciones, y algunas otras sí son específicas .De manera similar muchas cosas que aprenderemos en matrices también aplican y son consistentes en el caso más general: **arreglos multidimensionales(o tensores matemáticamente)** de manera que podemos generalizar mucho de lo aprendido.\n",
    "\n",
    "¿Por qué estudiamos matrices en ciencia de datos?\n",
    " \n",
    "Similar al caso de vectores, usamos matrices para almacenar y operar en colecciones de datos.\n",
    " \n",
    "Cuando estudiamos previamente vectores , los vectores representaban en la mayoría de casos 2 tipos de información:\n",
    " \n",
    "* Una única observación o entidad con múltiples características: Por ejemplo los ejemplos de distribuciones discretas de probabilidad usadas en los ejemplos de entropía,una única observación con múltiples características(la probabilidad de ocurrencia de cada valor).\n",
    "* Múltiples observaciones o entidades, con una sola característica: cuando hicimos el ejemplo de medias móviles teníamos múltiples observaciones o entidades(cada punto de datos) pero cada observación tenía una sola característica.\n",
    " \n",
    "Esto puede bastar en muchos casos, pero para la mayoría de problemas trabajaremos con  muchas observaciones que poseen más de una característica. Por lo cual necesitamos una estructura más general que nos permita hacer esto, la estructura que nos permite hacer esto es lo que conocemos en matemática como **matriz** y en programación comúnmente llamamos **arreglo bi-dimensional**\n",
    " \n",
    "**nota**: desafortunadamente el término dimensión(y su derivado :dimensional) puede llegar a ser ambiguo , por ejemplo  : un vector bi-dimensional es algo completamente diferente a un arreglo bi-dimensional ,el vector bi-dimensional es una colección de 2 elementos mientras que el arreglo bi-dimensional es una estructura tabular que requiere de 2 coordenadas(o índices) para ser accedido.\n",
    " \n",
    "## ¿ Que es una matriz?\n",
    " \n",
    "Hay diversas definiciones de matriz, siendo la más común: **un arreglo bidimensional de números**. Algunas otras definiciones desde el punto de vista matemático son:\n",
    " \n",
    "* Conjunto de números distribuidos ORDENADAMENTE de forma rectangular formando filas y columnas.\n",
    "* Tabla de números ORDENADOS.\n",
    "* Colección tabular de elementos distribuidos en filas y columnas.\n",
    "\n",
    "<img src=\"https://ekuatio.com/wp-content/uploads/tipos-de-matrices-12.png\"/>\n",
    "\n",
    "\n",
    "### Dimension o tamaño de una matriz\n",
    "\n",
    "El tamaño o dimensión de una matriz nos indica cuantos elementos esta posee y como estos se organizan en filas y columnas, comunmente denotamos el t amaño o dimensión como:\n",
    "$$ m x n $$\n",
    "\n",
    "* m = número de filas: comunmente número de observaciones, entidades o eventos\n",
    "* n = número de columnas : número de características de interes o descriptivas de cada elemento.\n",
    "\n",
    "<img src=\"https://upload.wikimedia.org/wikipedia/commons/thumb/b/bb/Matrix.svg/1200px-Matrix.svg.png\">\n",
    "\n",
    "**Nota** : esto no es un estandar y pueden llegar a variar:\n",
    "* encontrarse casos donde la data este organizada por columna siendo m = número de columnas y n = número de filas.\n",
    "* En computer visión aveces se toman las posiciones en filas de abajo hacia arriba.\n",
    "### Ejemplos:\n",
    "\n",
    "* En Machine Learning para datos estructurados comunmente trabajamos con muchas observaciones llamadas \"ejemplos de entrenamiento\" donde cada ejemplo esta caracterizado por múltiples características(llamadas features en ML), para esto usamos una matriz.\n",
    "* En analisis de correlación entre variables podemos almacenar múltiples variables para múltiples observaciones.\n",
    "* En deep learnig los parametros(pesos sinapticos) de una red neuronal  son representados como matrices \n",
    "\n",
    "\n",
    "## Matriz como Tensor\n",
    "\n",
    "Tal como ya hemos mencionado, el objeto mas general en algebra lineal es el **tensor** y tanto vectores como matrices son un **tensor** , la característica que determina cuando un tensor es una matriz o un vector es el **rango del tensor**, el rango es un entero que nos indica cuantos valores necesitamos para poder acceder o especificar a un elemento dentro del tensor.\n",
    "\n",
    "* **Escalares**: tensor de rango 0, puesto que son un único elemento numérico y no pertenecen a una colección , no tiene sentido la noción de tener un número indicando su posición en una colección.\n",
    "* **Vectores**: tensor de rango 1, lo conceptualizamos como una lista de elementos por lo tanto necesitamos 1 número para especificar la posición de cierto elemento en la lista.\n",
    "* **Matriz**: tensor de rango 2, pensamos en la matriz como una colección de números organizados de forma  rectangular en filas y columnas por lo tanto para acceder o especificar un elemento de la matriz necesitamos 2 números : 1 para la fila(que comunmente representamos con \"i\") y otro para la columna(que comunmente representamos con \"j\") en la que se encuentra cierto elemento.\n",
    "\n",
    "## Representación o interpretación geométrica/gráfica de una matriz\n",
    "\n",
    "**Nota** El siguiente punto no es demasiado relevante para esta parte del curso.\n",
    "\n",
    "Tal como vimos que un vector podía tener una representación geométrica como puntos en el espacio(o flechas apuntando del origen a puntos) una matriz también interpretarse de manera geométrica o gráfica ,hablaremos un poco de esto en el futuro :\n",
    "\n",
    "* **Matriz como transformación lineal**\n",
    "\n",
    "<img src=\"https://thumbs.gfycat.com/HealthyPerfectHaddock-max-1mb.gif\">\n",
    "\n",
    "<img src=\"https://thumbs.gfycat.com/SmartNearAmericancrocodile-max-1mb.gif\">\n",
    "\n",
    "## Matrices en NumPy\n",
    "\n",
    "En NumPy las matrices son(de manera similar a los vectores) son objetos del tipo **np.ndarray**, la diferencia es la forma en que estos estan organizados y por lo tanto ciertas características de los mismos. Para una matríz tenemos que:\n",
    "\n",
    "* **ndim**: el rango es igual a 2\n",
    "* **shape** : la forma o tamaño de la matriz es una **tupla de la forma (m,n)** con m siendo el número de filas y n el número de columnas. De manera similar muchas funciones  para crear matrices utilizan como parámetro una tupla para definir la forma en la que será creada.\n"
   ]
  },
  {
   "cell_type": "code",
   "execution_count": 1,
   "metadata": {
    "executionInfo": {
     "elapsed": 2726,
     "status": "ok",
     "timestamp": 1617673429469,
     "user": {
      "displayName": "Luis Fernando Leal Hernandez",
      "photoUrl": "",
      "userId": "08643725771405988586"
     },
     "user_tz": 300
    },
    "id": "4ica6dIJpfjS"
   },
   "outputs": [],
   "source": [
    "## Para poder utilizar numpy debemos importar el paquete, es casi un estandar de la industria importarlo bajo el alias **\"np\"**\n",
    "import numpy as np"
   ]
  },
  {
   "cell_type": "markdown",
   "metadata": {
    "id": "8XVZaPiBpfjS"
   },
   "source": [
    "## Visualización de datos en Python\n",
    " \n",
    "Con el conocimiento que ya poseemos para trabajar con Python y Numpy, y el conocimiento de matrices podemos empezar a estudiar un tema muy importante en ciencia de datos: **visualización de datos**.\n",
    " \n",
    "La visualización de datos es sumamente importante y tiene muchos usos, es una herramienta esencial en la fase de todo proyecto de data science conocida como **\"análisis exploratorio de datos\"**.\n",
    " \n",
    "### Análisis exploratorio de datos\n",
    " \n",
    "El análisis exploratorio de datos , tal y como su nombre indica nos permite explorar, entender, conocer y familiarizarnos con los datos,lo cual es muy recomendable en todo proyecto y se recomienda hacerlo antes de empezar a hacer pruebas de hipótesis, modelado matemático/estadístico o modelado por machine learning o cualquier otra técnica  de ciencia de datos.\n",
    "\n",
    "<img src=\"https://cdn-images-1.medium.com/max/1200/1*vJULpN2xQfyVsvTVW-JSkA.png\">\n",
    "\n",
    "### Otros usos\n",
    "\n",
    "Además del análisis exploratorio de datos, la visualización de los mismos es muy útil y aplicado en muchas otras áreas:\n",
    " \n",
    "*   Modelación y simulación: análisis del comportamiento de una variable bajo \n",
    "análisis a través de simulación.\n",
    "\n",
    "<img src=\"https://risk-engineering.org/static/img/large/monte-carlo-VaR.png\">\n",
    "*   Curvas de aprendizaje: durante el desarrollo de un proyecto de ML es necesario evaluar el funcionamiento de un modelo de ML y su comportamiento a través del tiempo durante el entrenamiento.\n",
    "<img src=\"https://3qeqpr26caki16dnhd19sv6by6v-wpengine.netdna-ssl.com/wp-content/uploads/2018/10/Line-Plot-of-Train-and-Test-Loss-During-Training-With-Simple-Early-Stopping.png\">\n",
    "\n",
    "\n",
    "*   Comparar modelo de ML vs datos reales\n",
    "<img src=\"https://s3.amazonaws.com/stackabuse/media/linear-regression-python-scikit-learn-1.png\">\n",
    "\n",
    "\n",
    "*   Visualización de imagenenes en proyectos de vision por computadora.\n",
    "<img src=\"https://encrypted-tbn0.gstatic.com/images?q=tbn:ANd9GcQY4FRGTsV_ugt6DyJmolPHiiaDH3lLCEaGSuh_ZN0NUjrOM_VE7Q\">\n",
    "\n",
    "\n",
    "Existen diversos paquetes para visualizacion de datos en Python,pero el mas popular, usado y conocido en la industria es: \n",
    "#### Matplotlib"
   ]
  },
  {
   "cell_type": "code",
   "execution_count": 2,
   "metadata": {
    "executionInfo": {
     "elapsed": 2721,
     "status": "ok",
     "timestamp": 1617673429470,
     "user": {
      "displayName": "Luis Fernando Leal Hernandez",
      "photoUrl": "",
      "userId": "08643725771405988586"
     },
     "user_tz": 300
    },
    "id": "yxLWpNvJpfjT"
   },
   "outputs": [],
   "source": [
    "import matplotlib.pyplot as plt"
   ]
  },
  {
   "cell_type": "markdown",
   "metadata": {
    "id": "W1zW5unppfjT"
   },
   "source": [
    "Veamos ahora cómo manipular detalles de la gráfica como:\n",
    "* Grid de las coordenadas de la gráfica.\n",
    "* Especificar manualmente los intervalos de \"x\" y \"y\" en la gráfica."
   ]
  },
  {
   "cell_type": "code",
   "execution_count": 3,
   "metadata": {
    "colab": {
     "base_uri": "https://localhost:8080/",
     "height": 294
    },
    "executionInfo": {
     "elapsed": 2814,
     "status": "ok",
     "timestamp": 1617673429833,
     "user": {
      "displayName": "Luis Fernando Leal Hernandez",
      "photoUrl": "",
      "userId": "08643725771405988586"
     },
     "user_tz": 300
    },
    "id": "xKvVsUVhpfjU",
    "outputId": "f7eca7d1-db39-4b4b-b625-960b9c9030e5"
   },
   "outputs": [
    {
     "data": {
      "image/png": "[encoded data removed]",
      "text/plain": [
       "<Figure size 432x288 with 1 Axes>"
      ]
     },
     "metadata": {
      "needs_background": "light"
     },
     "output_type": "display_data"
    }
   ],
   "source": [
    "x = np.linspace(-5,5,100)\n",
    "y = np.square(x) -2 \n",
    "\n",
    "fig = plt.figure()\n",
    "ax = fig.add_subplot(1,1,1) #creamos un canvas con  1 fila, 1 columna y devolvemos una referencia a la primera grafica\n",
    "#ax = fig.add_subplot(111) \n",
    "\n",
    "ax.grid()\n",
    "ax.set_xlim(-7,7)\n",
    "ax.set_ylim(-5,25)\n",
    "ax.plot(x,y)\n",
    "\n",
    "ax.set_xlabel('datos x')\n",
    "ax.set_ylabel('datos y')\n",
    "ax.set_title('Grafica de y = x**2 - 2')\n",
    "\n",
    "plt.show()"
   ]
  },
  {
   "cell_type": "markdown",
   "metadata": {
    "id": "kLqt8jGLpfjV"
   },
   "source": [
    "Veamos ahora un caso de uso muy común en data science: **multiples curvas en una sola gráfica**"
   ]
  },
  {
   "cell_type": "code",
   "execution_count": 4,
   "metadata": {
    "colab": {
     "base_uri": "https://localhost:8080/",
     "height": 294
    },
    "executionInfo": {
     "elapsed": 2998,
     "status": "ok",
     "timestamp": 1617673430065,
     "user": {
      "displayName": "Luis Fernando Leal Hernandez",
      "photoUrl": "",
      "userId": "08643725771405988586"
     },
     "user_tz": 300
    },
    "id": "hDLkCdsapfjV",
    "outputId": "9c973c4a-f764-4d93-f993-baca4a79b6fa"
   },
   "outputs": [
    {
     "data": {
      "image/png": "[encoded data removed]",
      "text/plain": [
       "<Figure size 432x288 with 1 Axes>"
      ]
     },
     "metadata": {
      "needs_background": "light"
     },
     "output_type": "display_data"
    }
   ],
   "source": [
    "x = np.linspace(-5,5,100)\n",
    "y1 = np.square(x) -2 \n",
    "y2 = np.sin(x) + 2*np.cos(x)\n",
    "\n",
    "fig = plt.figure()\n",
    "ax = fig.add_subplot(1,1,1) #creamos un canvas con  1 fila, 1 columna y devolvemos una referencia a la primera grafica\n",
    "#ax = fig.add_subplot(111) \n",
    "\n",
    "ax.grid()\n",
    "ax.set_xlim(-7,7)\n",
    "ax.set_ylim(-5,25)\n",
    "\n",
    "ax.plot(x,y1,label = \"x**2 - 2\") #\n",
    "ax.plot(x,y2,label = \"sin(x) + 2cos(x)\")\n",
    "\n",
    "ax.legend() #si no ejecutamos la función \"legend\" , no se mostraran los labels usados con plot\n",
    "ax.set_xlabel('x')\n",
    "ax.set_ylabel('y')\n",
    "ax.set_title('2 curvas en una grafica')\n",
    "\n",
    "plt.show()"
   ]
  },
  {
   "cell_type": "markdown",
   "metadata": {
    "id": "77N1eAtNpfjV"
   },
   "source": [
    "##### Error Bars\n",
    " \n",
    "Nos hemos enfocado en 2 tipos de gráficas:\n",
    "* plots: para graficar funciones o modelos matemáticos o datos donde queremos que matplotlib una con una línea los puntos\n",
    "* scatterplots: para graficar datos colocando solo los puntos en el espacio sin líneas que los unen, algo común cuando no se conoce ninguna función o modelo para estos datos.\n",
    " \n",
    "Ahora aprenderemos otro tipo de visualización de datos muy utilizada en ciencia de datos: **Barras de error**.\n",
    " \n",
    "Usamos las barras de error en casos en los cuales conocemos el valor real, o el valor esperado además de valores de error o bien datos con \"ruido\" y deseamos comparar en una sola gráfica los datos correctos vrs las observaciones erróneas o ruidosas.\n",
    " \n",
    "De manera resumida, nos ayudan a visualizar incerteza, variabilidad o proveer un estimado del posible error existente en los datos, por ejemplo podríamos usarlo para comparar como se desvían o cuanto error hay entre los valores generados por un modelo vs los datos reales.\n",
    " \n",
    "https://datavizcatalogue.com/methods/error_bars.html\n",
    " \n",
    "En matplotlib usamos la función **errorbar** https://matplotlib.org/api/_as_gen/matplotlib.pyplot.errorbar.html\n",
    " \n",
    "Esto significa que para cada punto (x,y) tenemos adicional al punto, un valor de error en x \"errx\" y un valor en y \"erry\", errorbar graficara el punto (x,y) junto con líneas adicionales que representan el error y que se encuentran en los intervalos:\n",
    " \n",
    "* Para x: x-errx,x+errx\n",
    "* Para y: y-erry,y+erry"
   ]
  },
  {
   "cell_type": "code",
   "execution_count": 5,
   "metadata": {
    "colab": {
     "base_uri": "https://localhost:8080/",
     "height": 264
    },
    "executionInfo": {
     "elapsed": 3183,
     "status": "ok",
     "timestamp": 1617673430288,
     "user": {
      "displayName": "Luis Fernando Leal Hernandez",
      "photoUrl": "",
      "userId": "08643725771405988586"
     },
     "user_tz": 300
    },
    "id": "KYMx4HbfpfjW",
    "outputId": "1b896358-0625-4bd2-bf2b-61af7e240fec"
   },
   "outputs": [
    {
     "data": {
      "image/png": "[encoded data removed]",
      "text/plain": [
       "<Figure size 432x288 with 1 Axes>"
      ]
     },
     "metadata": {
      "needs_background": "light"
     },
     "output_type": "display_data"
    }
   ],
   "source": [
    "x = np.linspace(0,4,4) \n",
    "y = np.exp(-x)\n",
    "\n",
    "x_error = 0.08*np.random.randn(len(x)) #medida del error en x\n",
    "y_error = 0.1*np.random.randn(len(y)) #medida del error en y\n",
    "\n",
    "fig = plt.figure()\n",
    "ax = fig.add_subplot(111)\n",
    "ax.errorbar(x,y,xerr=x_error,yerr=y_error,ecolor=\"g\",fmt=\"bo\",elinewidth=3)\n",
    "\n",
    "plt.show()"
   ]
  },
  {
   "cell_type": "code",
   "execution_count": 6,
   "metadata": {
    "colab": {
     "base_uri": "https://localhost:8080/"
    },
    "executionInfo": {
     "elapsed": 3160,
     "status": "ok",
     "timestamp": 1617673430297,
     "user": {
      "displayName": "Luis Fernando Leal Hernandez",
      "photoUrl": "",
      "userId": "08643725771405988586"
     },
     "user_tz": 300
    },
    "id": "aG1g9jEypfjW",
    "outputId": "26ce64f0-e4ce-4a2f-cca5-86a57e5401dc"
   },
   "outputs": [
    {
     "name": "stdout",
     "output_type": "stream",
     "text": [
      "[0.         1.33333333 2.66666667 4.        ] [ 0.00028342 -0.02177839  0.08291225 -0.14106846]\n"
     ]
    }
   ],
   "source": [
    "print(x,x_error)"
   ]
  },
  {
   "cell_type": "code",
   "execution_count": 7,
   "metadata": {
    "colab": {
     "base_uri": "https://localhost:8080/"
    },
    "executionInfo": {
     "elapsed": 3404,
     "status": "ok",
     "timestamp": 1617673430573,
     "user": {
      "displayName": "Luis Fernando Leal Hernandez",
      "photoUrl": "",
      "userId": "08643725771405988586"
     },
     "user_tz": 300
    },
    "id": "hLdho_e4pfjW",
    "outputId": "098a0804-839a-45d8-bcd6-03430634065f"
   },
   "outputs": [
    {
     "name": "stdout",
     "output_type": "stream",
     "text": [
      "[-2.83415026e-04  1.35511172e+00  2.58375442e+00  4.14106846e+00] [2.83415026e-04 1.31155495e+00 2.74957892e+00 3.85893154e+00]\n"
     ]
    }
   ],
   "source": [
    "print(x-x_error,x+x_error)"
   ]
  },
  {
   "cell_type": "code",
   "execution_count": 8,
   "metadata": {
    "colab": {
     "base_uri": "https://localhost:8080/"
    },
    "executionInfo": {
     "elapsed": 3377,
     "status": "ok",
     "timestamp": 1617673430576,
     "user": {
      "displayName": "Luis Fernando Leal Hernandez",
      "photoUrl": "",
      "userId": "08643725771405988586"
     },
     "user_tz": 300
    },
    "id": "1DutGW9apfjX",
    "outputId": "14b71fc0-78b0-4632-d32a-fe97470d77b1"
   },
   "outputs": [
    {
     "name": "stdout",
     "output_type": "stream",
     "text": [
      "[1.         0.26359714 0.06948345 0.01831564] [-0.00932022 -0.01495625  0.22775912  0.05831471]\n"
     ]
    }
   ],
   "source": [
    "print(y,y_error)"
   ]
  },
  {
   "cell_type": "code",
   "execution_count": 9,
   "metadata": {
    "colab": {
     "base_uri": "https://localhost:8080/"
    },
    "executionInfo": {
     "elapsed": 3341,
     "status": "ok",
     "timestamp": 1617673430579,
     "user": {
      "displayName": "Luis Fernando Leal Hernandez",
      "photoUrl": "",
      "userId": "08643725771405988586"
     },
     "user_tz": 300
    },
    "id": "fKKI_11KpfjX",
    "outputId": "b64d7b68-0514-4eec-f3e5-eaddd46fc415"
   },
   "outputs": [
    {
     "name": "stdout",
     "output_type": "stream",
     "text": [
      "[ 1.00932022  0.27855339 -0.15827567 -0.03999907] [0.99067978 0.24864089 0.29724258 0.07663035]\n"
     ]
    }
   ],
   "source": [
    "print(y-y_error,y+y_error)"
   ]
  },
  {
   "cell_type": "code",
   "execution_count": 10,
   "metadata": {
    "colab": {
     "base_uri": "https://localhost:8080/"
    },
    "executionInfo": {
     "elapsed": 3317,
     "status": "ok",
     "timestamp": 1617673430586,
     "user": {
      "displayName": "Luis Fernando Leal Hernandez",
      "photoUrl": "",
      "userId": "08643725771405988586"
     },
     "user_tz": 300
    },
    "id": "IwNVS5AQpfjX",
    "outputId": "bdedb6ad-6e50-4159-880b-3d1c75f9479b"
   },
   "outputs": [
    {
     "name": "stdout",
     "output_type": "stream",
     "text": [
      "El primer punto es : (0.0, 1.0) Su error en  x va de  -0.0002834150255070607  a  0.0002834150255070607\n"
     ]
    }
   ],
   "source": [
    "print(\"El primer punto es :\",(x[0],y[0]),\"Su error en  x va de \",x[0]-x_error[0] ,\" a \",x[0]+x_error[0])"
   ]
  },
  {
   "cell_type": "markdown",
   "metadata": {
    "id": "wVIfSKNgpfjX"
   },
   "source": [
    "Mismo ejemplo pero con mas observaciones:"
   ]
  },
  {
   "cell_type": "code",
   "execution_count": 11,
   "metadata": {
    "colab": {
     "base_uri": "https://localhost:8080/",
     "height": 264
    },
    "executionInfo": {
     "elapsed": 3279,
     "status": "ok",
     "timestamp": 1617673430588,
     "user": {
      "displayName": "Luis Fernando Leal Hernandez",
      "photoUrl": "",
      "userId": "08643725771405988586"
     },
     "user_tz": 300
    },
    "id": "JEUnxW_OpfjX",
    "outputId": "94b55cdf-497f-4dca-e8b1-c19213d63571"
   },
   "outputs": [
    {
     "data": {
      "image/png": "[encoded data removed]",
      "text/plain": [
       "<Figure size 432x288 with 1 Axes>"
      ]
     },
     "metadata": {
      "needs_background": "light"
     },
     "output_type": "display_data"
    }
   ],
   "source": [
    "x = np.linspace(0,4,20) \n",
    "y = np.exp(-x)\n",
    "\n",
    "x_error = 0.08*np.random.randn(len(x)) #medida del error en x\n",
    "y_error = 0.1*np.random.randn(len(y)) #medida del error en y\n",
    "\n",
    "fig = plt.figure()\n",
    "ax = fig.add_subplot(111)\n",
    "ax.errorbar(x,y,xerr=x_error,yerr=y_error,ecolor=\"r\",fmt=\"bo\",elinewidth=1)\n",
    "\n",
    "plt.show()"
   ]
  },
  {
   "cell_type": "code",
   "execution_count": 12,
   "metadata": {
    "colab": {
     "base_uri": "https://localhost:8080/",
     "height": 294
    },
    "executionInfo": {
     "elapsed": 3648,
     "status": "ok",
     "timestamp": 1617673430990,
     "user": {
      "displayName": "Luis Fernando Leal Hernandez",
      "photoUrl": "",
      "userId": "08643725771405988586"
     },
     "user_tz": 300
    },
    "id": "T9o5ajYVpfjY",
    "outputId": "d8f47c3a-528e-41b2-affd-e1f4cbc5e597"
   },
   "outputs": [
    {
     "data": {
      "image/png": "[encoded data removed]",
      "text/plain": [
       "<Figure size 432x288 with 1 Axes>"
      ]
     },
     "metadata": {
      "needs_background": "light"
     },
     "output_type": "display_data"
    }
   ],
   "source": [
    "x = np.linspace(-5,5,100)\n",
    "y = np.square(x-1) + 5 \n",
    "\n",
    "fig = plt.figure()\n",
    "ax = fig.add_subplot(1,1,1) #creamos un canvas con  1 fila, 1 columna y devolvemos una referencia a la primera grafica\n",
    "#ax = fig.add_subplot(111) \n",
    "\n",
    "ax.grid()\n",
    "ax.set_xlim(-7,7)\n",
    "ax.set_ylim(-5,25)\n",
    "ax.plot(x,y)\n",
    "\n",
    "ax.set_xlabel('x')\n",
    "ax.set_ylabel('y')\n",
    "ax.set_title('Grafica de y = (x-1)**2 + 5')\n",
    "\n",
    "ax.annotate(\"Punto minimo en (1,5)\",xy=(1,5),xytext=(-2,10),arrowprops=dict(facecolor=\"black\",width=1))\n",
    "\n",
    "plt.show()"
   ]
  },
  {
   "cell_type": "markdown",
   "metadata": {
    "id": "gff8EPtNpfjY"
   },
   "source": [
    "##### Visualización de datos en más de 2 dimensiones\n",
    " \n",
    "Comúnmente los datasets con los cuales necesitamos trabajar poseen múltiples dimensiones y es común necesitar visualizar y entender cómo se comportan .\n",
    " \n",
    "##### Curvas de nivel(o mapas de contorno)\n",
    " \n",
    "Las curvas de nivel proveen una forma de visualizar y entender datos en 3 dimensiones a partir de visualizar cómo estos se comportan en el plano 2 dimensiones, esto a través de crear curvas en el plano 2d donde el valor de z es constante(es decir el mismo) .\n",
    " \n",
    "Esto significa que las curvas de nivel son un reflejo en el plano 2d de la gráfica 3d, donde para cierta curva específica de la gráfica en 2d todos todos los puntos que pertenecen a ella corresponden a un mismo valor de z.\n",
    " \n",
    "En matplotlib tenemos 2 funciones para crear curvas de nivel:\n",
    " \n",
    "* contour: https://matplotlib.org/api/_as_gen/matplotlib.axes.Axes.contour.html\n",
    "* contourf(la f significa \"filled\"): https://matplotlib.org/api/_as_gen/matplotlib.axes.Axes.contourf.html\n",
    "\n",
    "\n",
    "<img src=\"http://image.slidesharecdn.com/superficies-140414185353-phpapp01/95/superficies-geometria-analitica-41-638.jpg?cb=1397501875\">\n",
    "\n",
    "<img src=\"https://image.isu.pub/130613213242-77d9b89bd1d7eadb40bb803cc4b0633c/jpg/page_15.jpg\">"
   ]
  },
  {
   "cell_type": "code",
   "execution_count": 13,
   "metadata": {
    "colab": {
     "base_uri": "https://localhost:8080/",
     "height": 294
    },
    "executionInfo": {
     "elapsed": 3927,
     "status": "ok",
     "timestamp": 1617673431300,
     "user": {
      "displayName": "Luis Fernando Leal Hernandez",
      "photoUrl": "",
      "userId": "08643725771405988586"
     },
     "user_tz": 300
    },
    "id": "xc2O5QNepfjY",
    "outputId": "0d78c2c9-2b74-4471-9ac6-5452ae38dd5f"
   },
   "outputs": [
    {
     "data": {
      "image/png": "[encoded data removed]",
      "text/plain": [
       "<Figure size 432x288 with 2 Axes>"
      ]
     },
     "metadata": {
      "needs_background": "light"
     },
     "output_type": "display_data"
    }
   ],
   "source": [
    "xv = np.linspace(-50,50,50)\n",
    "yv = np.linspace(-50,50,50)\n",
    "\n",
    "# creamos el grid con las coordenadas en el plano x,y\n",
    "xx,yy = np.meshgrid(xv,yv)\n",
    "\n",
    "# calculamos el valor de evaluar la función z = f(x,y) sobre las coordenadas en el plano\n",
    "z = xx**2 + yy**2\n",
    "\n",
    "fig = plt.figure()\n",
    "ax = fig.add_subplot(1,1,1)\n",
    "ax.set_xlim(-50,50)\n",
    "ax.set_ylim(-50,50)\n",
    "\n",
    "curvas_nivel = ax.contour(xx,yy,z)#,3,colors=[\"b\",\"r\",\"k\"])\n",
    "#ax.clabel(curvas_nivel)\n",
    "fig.colorbar(curvas_nivel,orientation=\"vertical\")\n",
    "\n",
    "fig.suptitle(\"Curvas de nivel o mapas de contorno de la funcion \",fontsize=15)\n",
    "plt.show()"
   ]
  },
  {
   "cell_type": "code",
   "execution_count": 14,
   "metadata": {
    "colab": {
     "base_uri": "https://localhost:8080/",
     "height": 283
    },
    "executionInfo": {
     "elapsed": 4225,
     "status": "ok",
     "timestamp": 1617673431632,
     "user": {
      "displayName": "Luis Fernando Leal Hernandez",
      "photoUrl": "",
      "userId": "08643725771405988586"
     },
     "user_tz": 300
    },
    "id": "gYMwPCQUpfjZ",
    "outputId": "537a4c6a-1f3c-4f37-d0b7-b7f6f3b81244"
   },
   "outputs": [
    {
     "name": "stderr",
     "output_type": "stream",
     "text": [
      "C:\\Anaconda\\lib\\site-packages\\ipykernel_launcher.py:18: MatplotlibDeprecationWarning: Starting from Matplotlib 3.6, colorbar() will steal space from the mappable's axes, rather than from the current axes, to place the colorbar.  To silence this warning, explicitly pass the 'ax' argument to colorbar().\n"
     ]
    },
    {
     "data": {
      "image/png": "[encoded data removed]",
      "text/plain": [
       "<Figure size 432x288 with 2 Axes>"
      ]
     },
     "metadata": {
      "needs_background": "light"
     },
     "output_type": "display_data"
    }
   ],
   "source": [
    "from mpl_toolkits.mplot3d import Axes3D\n",
    "\n",
    "\n",
    "xv = np.linspace(-10,10,50)\n",
    "yv = np.linspace(-10,10,50)\n",
    "\n",
    "# creamos el grid con las coordenadas en el plano x,y\n",
    "xx,yy = np.meshgrid(xv,yv)\n",
    "\n",
    "# calculamos el valor de evaluar la función z = f(x,y) sobre las coordenadas en el plano\n",
    "z = xx**2 + yy**2\n",
    "\n",
    "fig = plt.figure()\n",
    "ax = fig.add_subplot(1,1,1,projection='3d')\n",
    "\n",
    "ax.contour(xx,yy,z)#,3,colors=[\"b\",\"r\",\"k\"])\n",
    "#ax.clabel(curvas_nivel)\n",
    "fig.colorbar(curvas_nivel,orientation=\"vertical\")\n",
    "\n",
    "fig.suptitle(\"Curvas de nivel o mapas de contorno de la funcion \",fontsize=15)\n",
    "plt.show()"
   ]
  },
  {
   "cell_type": "code",
   "execution_count": 15,
   "metadata": {
    "colab": {
     "base_uri": "https://localhost:8080/",
     "height": 294
    },
    "executionInfo": {
     "elapsed": 4426,
     "status": "ok",
     "timestamp": 1617673431861,
     "user": {
      "displayName": "Luis Fernando Leal Hernandez",
      "photoUrl": "",
      "userId": "08643725771405988586"
     },
     "user_tz": 300
    },
    "id": "gSETmWXWpfjZ",
    "outputId": "40b1cf9d-f984-42f6-db75-eae1bcb81a9d"
   },
   "outputs": [
    {
     "data": {
      "image/png": "[encoded data removed]",
      "text/plain": [
       "<Figure size 432x288 with 2 Axes>"
      ]
     },
     "metadata": {
      "needs_background": "light"
     },
     "output_type": "display_data"
    }
   ],
   "source": [
    "xv = np.linspace(-10,10,100)\n",
    "yv = np.linspace(-10,10,100)\n",
    "\n",
    "# creamos el grid con las coordenadas en el plano x,y\n",
    "xx,yy = np.meshgrid(xv,yv)\n",
    "\n",
    "# calculamos el valor de evaluar la función z = f(x,y) sobre las coordenadas en el plano\n",
    "z = xx**2 - yy**2\n",
    "\n",
    "fig = plt.figure()\n",
    "ax = fig.add_subplot(1,1,1)\n",
    "\n",
    "curvas_nivel = ax.contourf(xx,yy,z,3)#,3,colors=[\"b\",\"r\",\"k\"])\n",
    "\n",
    "fig.colorbar(curvas_nivel,orientation=\"vertical\")\n",
    "\n",
    "fig.suptitle(\"Curvas de nivel o mapas de contorno de la funcion \",fontsize=15)\n",
    "plt.show()"
   ]
  },
  {
   "cell_type": "code",
   "execution_count": 16,
   "metadata": {
    "colab": {
     "base_uri": "https://localhost:8080/",
     "height": 283
    },
    "executionInfo": {
     "elapsed": 4756,
     "status": "ok",
     "timestamp": 1617673432223,
     "user": {
      "displayName": "Luis Fernando Leal Hernandez",
      "photoUrl": "",
      "userId": "08643725771405988586"
     },
     "user_tz": 300
    },
    "id": "l1RfhckUpfja",
    "outputId": "e29a44c1-6895-40e5-e090-37ae4042c636"
   },
   "outputs": [
    {
     "data": {
      "image/png": "[encoded data removed]",
      "text/plain": [
       "<Figure size 432x288 with 2 Axes>"
      ]
     },
     "metadata": {
      "needs_background": "light"
     },
     "output_type": "display_data"
    }
   ],
   "source": [
    "from mpl_toolkits.mplot3d import Axes3D\n",
    "xv = np.linspace(-20,20,50)\n",
    "yv = np.linspace(-20,20,50)\n",
    "\n",
    "# creamos el grid con las coordenadas en el plano x,y\n",
    "xx,yy = np.meshgrid(xv,yv)\n",
    "\n",
    "# calculamos el valor de evaluar la función z = f(x,y) sobre las coordenadas en el plano\n",
    "z = xx**2 - yy**2\n",
    "\n",
    "fig = plt.figure()\n",
    "ax = fig.add_subplot(1,1,1,projection=\"3d\")\n",
    "\n",
    "curvas_nivel = ax.contour(xx,yy,z)#,3,colors=[\"b\",\"r\",\"k\"])\n",
    "\n",
    "fig.colorbar(curvas_nivel,orientation=\"vertical\")\n",
    "\n",
    "fig.suptitle(\"Curvas de nivel o mapas de contorno de la funcion \",fontsize=15)\n",
    "plt.show()"
   ]
  },
  {
   "cell_type": "markdown",
   "metadata": {
    "id": "T6OSGYWJpfja"
   },
   "source": [
    "###### Configurando dinámicamente nuestras gráficas usando sentencias de control:\n",
    " \n",
    "Una de las ventajas de matplotlib sobre otras herramientas de visualización de datos con un enfoque drag-and-drop , es que podemos utilizar todas las herramientas y flexibilidad que la programación nos da para configurar nuestras gráficas de manera dinámica ,por ejemplo en el siguiente caso utilizamos un ciclo for para crear y configurar mas de una grafica de manera dinámica.\n"
   ]
  },
  {
   "cell_type": "code",
   "execution_count": 17,
   "metadata": {
    "colab": {
     "base_uri": "https://localhost:8080/",
     "height": 294
    },
    "executionInfo": {
     "elapsed": 5303,
     "status": "ok",
     "timestamp": 1617673432807,
     "user": {
      "displayName": "Luis Fernando Leal Hernandez",
      "photoUrl": "",
      "userId": "08643725771405988586"
     },
     "user_tz": 300
    },
    "id": "ahfiEJ2qpfja",
    "outputId": "e0a8ac95-1e06-4646-e6a6-4093c5d5ac31"
   },
   "outputs": [
    {
     "data": {
      "image/png": "[encoded data removed]",
      "text/plain": [
       "<Figure size 432x288 with 4 Axes>"
      ]
     },
     "metadata": {
      "needs_background": "light"
     },
     "output_type": "display_data"
    }
   ],
   "source": [
    "xv = np.linspace(-10,10,50)\n",
    "yv = np.linspace(-10,10,50)\n",
    "\n",
    "# creamos el grid con las coordenadas en el plano x,y\n",
    "xx,yy = np.meshgrid(xv,yv)\n",
    "\n",
    "# calculamos el valor de evaluar la función z = f(x,y) sobre las coordenadas en el plano\n",
    "z = xx**2 - yy**2\n",
    "\n",
    "fig = plt.figure()\n",
    "\n",
    "for i in range(1,5):\n",
    "    ax = fig.add_subplot(2,2,i)\n",
    "    curvas_nivel = ax.contour(xx,yy,z,i)\n",
    "\n",
    "fig.suptitle(\"Curvas de nivel o mapas de contorno de la funcion \",fontsize=15)\n",
    "plt.show()"
   ]
  },
  {
   "cell_type": "markdown",
   "metadata": {
    "id": "0XuaPWDXpfjb"
   },
   "source": [
    "##### Gráficas en 3d\n",
    " \n",
    "Las curvas de nivel son una forma de entender  el comportamiento de una gráfica de 3 dimensiones utilizando solamente 2 dimensiones,pero en casos en los que necesitemos visualizar gráficas de 3 dimensiones, por ejemplo para funciones de 2 variables independientes y una variable dependiente .\n",
    " \n",
    "Para crear visualizaciones en 3 dimensiones debemos usar el paquete **mpl_toolkits.mplot3d** el cual es parte de matplotlib por lo cual no hay que instalarlo . Similar a como antes usábamos objetos tipo **Axes** para crear una gráfica, ahora usaremos Axes3D.\n",
    " \n",
    "Existen diversas formas de crear gráficas 3d y algunas de las que hemos estudiado antes como scatterplots pueden extenderse fácilmente y sin modificación a 3d, en esta sección estudiaremos principalmente 2 formas:\n",
    "\n",
    "\n",
    "* plot_surface\n",
    "* plot_wireframe"
   ]
  },
  {
   "cell_type": "code",
   "execution_count": 18,
   "metadata": {
    "colab": {
     "base_uri": "https://localhost:8080/",
     "height": 318
    },
    "executionInfo": {
     "elapsed": 5670,
     "status": "ok",
     "timestamp": 1617673433209,
     "user": {
      "displayName": "Luis Fernando Leal Hernandez",
      "photoUrl": "",
      "userId": "08643725771405988586"
     },
     "user_tz": 300
    },
    "id": "hRhl7Jiqpfjb",
    "outputId": "95dac388-7982-4487-8697-9b1cbf031683"
   },
   "outputs": [
    {
     "name": "stderr",
     "output_type": "stream",
     "text": [
      "C:\\Anaconda\\lib\\site-packages\\ipykernel_launcher.py:13: MatplotlibDeprecationWarning: Axes3D(fig) adding itself to the figure is deprecated since 3.4. Pass the keyword argument auto_add_to_figure=False and use fig.add_axes(ax) to suppress this warning. The default value of auto_add_to_figure will change to False in mpl3.5 and True values will no longer work in 3.6.  This is consistent with other Axes classes.\n",
      "  del sys.path[0]\n"
     ]
    },
    {
     "data": {
      "image/png": "[encoded data removed]",
      "text/plain": [
       "<Figure size 432x288 with 1 Axes>"
      ]
     },
     "metadata": {
      "needs_background": "light"
     },
     "output_type": "display_data"
    }
   ],
   "source": [
    "from mpl_toolkits.mplot3d import Axes3D\n",
    "\n",
    "xv = np.linspace(-10,10,50)\n",
    "yv = np.linspace(-10,10,50)\n",
    "\n",
    "# creamos el grid con las coordenadas en el plano x,y\n",
    "xx,yy = np.meshgrid(xv,yv)\n",
    "\n",
    "# calculamos el valor de evaluar la función z = f(x,y) sobre las coordenadas en el plano\n",
    "z = xx**2 + yy**2\n",
    "\n",
    "fig = plt.figure()\n",
    "ax = Axes3D(fig)\n",
    "\n",
    "ax.plot_surface(xx,yy,z,rstride=10,cstride=10,color=\"c\",alpha=0.85)\n",
    "\n",
    "plt.show()"
   ]
  },
  {
   "cell_type": "code",
   "execution_count": 19,
   "metadata": {
    "colab": {
     "base_uri": "https://localhost:8080/",
     "height": 318
    },
    "executionInfo": {
     "elapsed": 6030,
     "status": "ok",
     "timestamp": 1617673433606,
     "user": {
      "displayName": "Luis Fernando Leal Hernandez",
      "photoUrl": "",
      "userId": "08643725771405988586"
     },
     "user_tz": 300
    },
    "id": "7_mJ_lHTpfjb",
    "outputId": "530be996-3ee9-4f0d-9663-62d9ad403151"
   },
   "outputs": [
    {
     "name": "stderr",
     "output_type": "stream",
     "text": [
      "C:\\Anaconda\\lib\\site-packages\\ipykernel_launcher.py:11: MatplotlibDeprecationWarning: Axes3D(fig) adding itself to the figure is deprecated since 3.4. Pass the keyword argument auto_add_to_figure=False and use fig.add_axes(ax) to suppress this warning. The default value of auto_add_to_figure will change to False in mpl3.5 and True values will no longer work in 3.6.  This is consistent with other Axes classes.\n",
      "  # This is added back by InteractiveShellApp.init_path()\n"
     ]
    },
    {
     "data": {
      "image/png": "[encoded data removed]",
      "text/plain": [
       "<Figure size 432x288 with 1 Axes>"
      ]
     },
     "metadata": {
      "needs_background": "light"
     },
     "output_type": "display_data"
    }
   ],
   "source": [
    "xv = np.linspace(-10,10,50)\n",
    "yv = np.linspace(-10,10,50)\n",
    "\n",
    "# creamos el grid con las coordenadas en el plano x,y\n",
    "xx,yy = np.meshgrid(xv,yv)\n",
    "\n",
    "# calculamos el valor de evaluar la función z = f(x,y) sobre las coordenadas en el plano\n",
    "z = xx**2 + yy**2\n",
    "\n",
    "fig = plt.figure()\n",
    "ax = Axes3D(fig)\n",
    "\n",
    "ax.plot_wireframe(xx,yy,z,rstride=5,cstride=5,color= [\"y\", \"g\"],alpha=0.85)\n",
    "\n",
    "plt.show()"
   ]
  },
  {
   "cell_type": "markdown",
   "metadata": {
    "id": "HK9nJnYPpfjc"
   },
   "source": [
    "Es posible además combinar superficies 3d,wireframes o ambos con curvas de nivel o mapas de contorno , esto se logra a través de usar sobre un mismo objeto **Axes** las funciones correspondientes para  crear la superficie y los mapas de contorno. Este tipo de gráficas son muy sensibles a parámetros de configuración como el rango de valores a graficar por lo cual se recomienda experimentar para obtener un buen resultado."
   ]
  },
  {
   "cell_type": "code",
   "execution_count": 20,
   "metadata": {
    "colab": {
     "base_uri": "https://localhost:8080/",
     "height": 374
    },
    "executionInfo": {
     "elapsed": 6449,
     "status": "ok",
     "timestamp": 1617673434058,
     "user": {
      "displayName": "Luis Fernando Leal Hernandez",
      "photoUrl": "",
      "userId": "08643725771405988586"
     },
     "user_tz": 300
    },
    "id": "5EWeqvdCpfjc",
    "outputId": "50232efc-6d4c-4ea2-9dc1-b8b70afa50f8"
   },
   "outputs": [
    {
     "name": "stderr",
     "output_type": "stream",
     "text": [
      "C:\\Anaconda\\lib\\site-packages\\ipykernel_launcher.py:13: MatplotlibDeprecationWarning: Axes3D(fig) adding itself to the figure is deprecated since 3.4. Pass the keyword argument auto_add_to_figure=False and use fig.add_axes(ax) to suppress this warning. The default value of auto_add_to_figure will change to False in mpl3.5 and True values will no longer work in 3.6.  This is consistent with other Axes classes.\n",
      "  del sys.path[0]\n"
     ]
    },
    {
     "data": {
      "image/png": "[encoded data removed]",
      "text/plain": [
       "<Figure size 432x288 with 1 Axes>"
      ]
     },
     "metadata": {
      "needs_background": "light"
     },
     "output_type": "display_data"
    }
   ],
   "source": [
    "from mpl_toolkits.mplot3d import Axes3D\n",
    "\n",
    "xv = np.linspace(-15,10,50)\n",
    "yv = np.linspace(-10,10,50)\n",
    "\n",
    "# creamos el grid con las coordenadas en el plano x,y\n",
    "xx,yy = np.meshgrid(xv,yv)\n",
    "\n",
    "# calculamos el valor de evaluar la función z = f(x,y) sobre las coordenadas en el plano\n",
    "z = xx**2 + yy**2\n",
    "\n",
    "fig = plt.figure()\n",
    "ax = Axes3D(fig)\n",
    "\n",
    "ax.plot_surface(xx,yy,z,rstride=1,cstride=1,color=\"c\",alpha=0.9)\n",
    "ax.contour(xx,yy,z)\n",
    "ax.contour(xx,yy,z,zdir=\"x\",offset=5.0,colors=\"black\")\n",
    "ax.contour(xx,yy,z,zdir=\"y\",offset=10.0,colors=\"blue\")\n",
    "ax.contour(xx,yy,z,zdir=\"z\",offset=200.0,colors=\"red\")\n",
    "\n",
    "plt.show()"
   ]
  },
  {
   "cell_type": "markdown",
   "metadata": {
    "id": "wCB1Qw9upfjc"
   },
   "source": [
    "### ufuncs(universal functions)\n",
    " \n",
    "Ufuncs son funciones que trabajan de manera general independiente de la dimensión del objeto al que sean aplicadas, esto significa que la misma función puede ser utilizada sobre valores **escalares**  o sobre **tensores** de cualquier dimensión, en este caso sobre matrices. Cuando es aplicada sobre tensores esta trabaja elemento por elemento soportando \"broadcasting\" .\n",
    " \n",
    "NumPy provee una gran colección de ufuncs comunes en ciencias y que serán muy útiles en data science, ya hemos usado algunas por ejemplo: **np.sin(tensor)** , muchas comunes y que te serán familiares son:\n",
    " \n",
    "* np.sign: determinar el signo de un número\n",
    "* np.abs: valor absoluto de un número\n",
    "* np.cos: coseno de un ángulo en radianes\n",
    "* np.sin : seno de un ángulo en radianes\n",
    "* np.tan : tangente de un ángulo en radianes\n",
    "* np.exp : función exponencial e** x\n",
    "* np.log: logaritmo natural\n",
    "* np.log10 : logaritmo base 10\n",
    "* np.log2 : logaritmo base 2\n",
    "* np.sqrt : raíz cuadrada\n",
    "* np.power : potenciación\n",
    " \n",
    "Al ser aplicadas sobre matrices , las ufuncs obtienen como resultado una matriz con la misma forma de la matriz sobre la que se ejecuta la función resultado de aplicar la función elemento por elemento.\n",
    " \n",
    "Al trabajar una aplicación numérica/científica es recomendable tener a la mano la documentación de las funciones disponibles : https://docs.scipy.org/doc/numpy-1.15.1/reference/routines.math.html\n",
    " \n",
    "#### Nota:\n",
    "En algunos casos requerimos crear nuestras propias funciones y es recomendable que se apeguen a las ufuncs, es decir que se puedan aplicar independiente de la dimensión del objeto al que se aplican, que soporten broadcasting y muy importante **que su definición evite ciclos y use operaciones vectorizadas y otras ufuncs** , esto será parte de los criterios de evaluación en tareas y exámenes en este curso."
   ]
  },
  {
   "cell_type": "code",
   "execution_count": 21,
   "metadata": {
    "colab": {
     "base_uri": "https://localhost:8080/"
    },
    "executionInfo": {
     "elapsed": 6420,
     "status": "ok",
     "timestamp": 1617673434065,
     "user": {
      "displayName": "Luis Fernando Leal Hernandez",
      "photoUrl": "",
      "userId": "08643725771405988586"
     },
     "user_tz": 300
    },
    "id": "pLoFkESVpfjc",
    "outputId": "d94123ce-add5-4818-ac8f-6a30457026bd"
   },
   "outputs": [
    {
     "name": "stdout",
     "output_type": "stream",
     "text": [
      "Signo:\n",
      "[[ 1  1  1  1]\n",
      " [ 1  1  1  1]\n",
      " [-1 -1 -1 -1]]\n",
      "Valor absoluto:\n",
      "[[1 2 3 4]\n",
      " [5 6 7 8]\n",
      " [1 2 3 4]]\n",
      "Coseno:\n",
      "[[ 0.54030231 -0.41614684 -0.9899925  -0.65364362]\n",
      " [ 0.28366219  0.96017029  0.75390225 -0.14550003]\n",
      " [ 0.54030231 -0.41614684 -0.9899925  -0.65364362]]\n",
      "Seno:\n",
      "[[ 0.84147098  0.90929743  0.14112001 -0.7568025 ]\n",
      " [-0.95892427 -0.2794155   0.6569866   0.98935825]\n",
      " [-0.84147098 -0.90929743 -0.14112001  0.7568025 ]]\n",
      "Tangente:\n",
      "[[ 1.55740772 -2.18503986 -0.14254654  1.15782128]\n",
      " [-3.38051501 -0.29100619  0.87144798 -6.79971146]\n",
      " [-1.55740772  2.18503986  0.14254654 -1.15782128]]\n",
      "Exponencial:\n",
      "[[2.71828183e+00 7.38905610e+00 2.00855369e+01 5.45981500e+01]\n",
      " [1.48413159e+02 4.03428793e+02 1.09663316e+03 2.98095799e+03]\n",
      " [3.67879441e-01 1.35335283e-01 4.97870684e-02 1.83156389e-02]]\n",
      "Logaritmo natural:\n",
      "[[0.         0.69314718 1.09861229 1.38629436]\n",
      " [1.60943791 1.79175947 1.94591015 2.07944154]\n",
      " [       nan        nan        nan        nan]]\n"
     ]
    },
    {
     "name": "stderr",
     "output_type": "stream",
     "text": [
      "C:\\Anaconda\\lib\\site-packages\\ipykernel_launcher.py:18: RuntimeWarning: invalid value encountered in log\n"
     ]
    }
   ],
   "source": [
    "x = np.matrix([[1,2,3,4],\n",
    "               [5,6,7,8],\n",
    "               [-1,-2,-3,-4]])\n",
    "\n",
    "print(\"Signo:\")\n",
    "print(np.sign(x))\n",
    "print(\"Valor absoluto:\")\n",
    "print(np.abs(x))\n",
    "print(\"Coseno:\")\n",
    "print(np.cos(x))\n",
    "print(\"Seno:\")\n",
    "print(np.sin(x))\n",
    "print(\"Tangente:\")\n",
    "print(np.tan(x))\n",
    "print(\"Exponencial:\")\n",
    "print(np.exp(x))\n",
    "print(\"Logaritmo natural:\")\n",
    "print(np.log(x))"
   ]
  },
  {
   "cell_type": "code",
   "execution_count": 22,
   "metadata": {
    "colab": {
     "base_uri": "https://localhost:8080/"
    },
    "executionInfo": {
     "elapsed": 6391,
     "status": "ok",
     "timestamp": 1617673434070,
     "user": {
      "displayName": "Luis Fernando Leal Hernandez",
      "photoUrl": "",
      "userId": "08643725771405988586"
     },
     "user_tz": 300
    },
    "id": "i3wqPCeMpfjc",
    "outputId": "f2b64c10-5092-4120-8960-400160f3be9f"
   },
   "outputs": [
    {
     "name": "stdout",
     "output_type": "stream",
     "text": [
      "Logaritmo base 2:\n",
      "[[0.         1.         1.5849625  2.        ]\n",
      " [2.32192809 2.5849625  2.80735492 3.        ]\n",
      " [       nan        nan        nan        nan]]\n"
     ]
    },
    {
     "name": "stderr",
     "output_type": "stream",
     "text": [
      "C:\\Anaconda\\lib\\site-packages\\ipykernel_launcher.py:2: RuntimeWarning: invalid value encountered in log2\n",
      "  \n"
     ]
    }
   ],
   "source": [
    "print(\"Logaritmo base 2:\")\n",
    "print(np.log2(x))"
   ]
  },
  {
   "cell_type": "code",
   "execution_count": 23,
   "metadata": {
    "colab": {
     "base_uri": "https://localhost:8080/"
    },
    "executionInfo": {
     "elapsed": 6798,
     "status": "ok",
     "timestamp": 1617673434505,
     "user": {
      "displayName": "Luis Fernando Leal Hernandez",
      "photoUrl": "",
      "userId": "08643725771405988586"
     },
     "user_tz": 300
    },
    "id": "vAnvZd27pfjd",
    "outputId": "2cc2bd22-8cad-4610-8e93-95838715239a"
   },
   "outputs": [
    {
     "name": "stdout",
     "output_type": "stream",
     "text": [
      "Raiz cuadrada:\n",
      "[[1.         1.41421356 1.73205081 2.        ]\n",
      " [2.23606798 2.44948974 2.64575131 2.82842712]\n",
      " [       nan        nan        nan        nan]]\n"
     ]
    },
    {
     "name": "stderr",
     "output_type": "stream",
     "text": [
      "C:\\Anaconda\\lib\\site-packages\\ipykernel_launcher.py:2: RuntimeWarning: invalid value encountered in sqrt\n",
      "  \n"
     ]
    }
   ],
   "source": [
    "print(\"Raiz cuadrada:\")\n",
    "print(np.sqrt(x))"
   ]
  },
  {
   "cell_type": "code",
   "execution_count": 24,
   "metadata": {
    "colab": {
     "base_uri": "https://localhost:8080/"
    },
    "executionInfo": {
     "elapsed": 6771,
     "status": "ok",
     "timestamp": 1617673434505,
     "user": {
      "displayName": "Luis Fernando Leal Hernandez",
      "photoUrl": "",
      "userId": "08643725771405988586"
     },
     "user_tz": 300
    },
    "id": "109yV9zHpfjd",
    "outputId": "b625b7f9-e124-4d94-a428-e0da8ebf87c2"
   },
   "outputs": [
    {
     "name": "stdout",
     "output_type": "stream",
     "text": [
      "Exponenciacion(cuadrado):\n",
      "[[ 1  4  9 16]\n",
      " [25 36 49 64]\n",
      " [ 1  4  9 16]]\n"
     ]
    }
   ],
   "source": [
    "print(\"Exponenciacion(cuadrado):\")\n",
    "print(np.power(x,2))"
   ]
  },
  {
   "cell_type": "markdown",
   "metadata": {
    "id": "zjwYMJyapfjd"
   },
   "source": [
    "#### Nota:\n",
    "En algunos casos requerimos crear nuestras propias funciones y es recomendable que se apeguen a las ufuncs, es decir que se puedan aplicar independiente de la dimensión del objeto al que se aplican, que soporten broadcasting y muy importante **que su definición evite ciclos y use operaciones vectorizadas y otras ufuncs** , esto será parte de los criterios de evaluación en tareas y exámenes en este curso."
   ]
  },
  {
   "cell_type": "markdown",
   "metadata": {
    "id": "fuK1lL4spfjd"
   },
   "source": [
    "## Operaciones, Aritmetica y Algebra Matricial\n",
    " \n",
    "Similar al caso de vectores, cuando trabajamos con matrices hay algunas operaciones existentes tanto en matemática, como en NumPy y también algunas aplicaciones que no están definidas matemáticamente pero que sí están definidas en NumPy para facilitar la programación y realizar operaciones que pueden resultar útiles al crear programas para análisis de datos o procesamiento de estos,una operación en especial necesita especial atención : **multiplicación matricial**\n",
    " \n",
    "### Aritmética elemento por elemento\n",
    " \n",
    "La aritmética elemento por elemento es el tipo de operación más simple entre 2 matrices(del mismo tamanio) ,utiliza los operadores  aritméticos ya conocidos +,-,*,/, % y el resultado como es de esperarse consiste en aplicar la operación aritmética entre elementos correspondientes de ambas matrices.\n",
    " \n",
    "En algebra lineal solo **están definidas la  suma y resta de matrices** y el resultado es el mismo obtenido por NumPy.\n",
    "\n",
    "<img src=\"https://www.unilim.fr/pages_perso/jean.debord/math/matrices/addsub.gif\">"
   ]
  },
  {
   "cell_type": "code",
   "execution_count": 25,
   "metadata": {
    "colab": {
     "base_uri": "https://localhost:8080/"
    },
    "executionInfo": {
     "elapsed": 6747,
     "status": "ok",
     "timestamp": 1617673434506,
     "user": {
      "displayName": "Luis Fernando Leal Hernandez",
      "photoUrl": "",
      "userId": "08643725771405988586"
     },
     "user_tz": 300
    },
    "id": "MF6esWrXpfjd",
    "outputId": "1233abf8-6da0-4033-8b40-daec5d2d1d23"
   },
   "outputs": [
    {
     "name": "stdout",
     "output_type": "stream",
     "text": [
      "[[ 3 -5]\n",
      " [ 5  1]]\n",
      "[[2 1]\n",
      " [8 9]]\n",
      "v+w:\n",
      "[[ 5 -4]\n",
      " [13 10]]\n"
     ]
    }
   ],
   "source": [
    "v = np.array([[3,-5],\n",
    "              [5,1]])\n",
    "w = np.array([[2,1],\n",
    "              [8,9]])\n",
    "\n",
    "c = v + w #operacion si definida matematicamente\n",
    "\n",
    "print(v)\n",
    "print(w)\n",
    "\n",
    "print(\"v+w:\")\n",
    "print(c)"
   ]
  },
  {
   "cell_type": "code",
   "execution_count": 26,
   "metadata": {
    "colab": {
     "base_uri": "https://localhost:8080/"
    },
    "executionInfo": {
     "elapsed": 6720,
     "status": "ok",
     "timestamp": 1617673434507,
     "user": {
      "displayName": "Luis Fernando Leal Hernandez",
      "photoUrl": "",
      "userId": "08643725771405988586"
     },
     "user_tz": 300
    },
    "id": "RWLthVg_pfjd",
    "outputId": "ced65c2f-943a-4191-ee61-725e5f19edbd"
   },
   "outputs": [
    {
     "name": "stdout",
     "output_type": "stream",
     "text": [
      "[[ 3 -5]\n",
      " [ 5  1]]\n",
      "[[2 1]\n",
      " [8 9]]\n",
      "v-w:\n",
      "[[ 1 -6]\n",
      " [-3 -8]]\n"
     ]
    }
   ],
   "source": [
    "v = np.array([[3,-5],\n",
    "              [5,1]])\n",
    "\n",
    "w = np.array([[2,1],\n",
    "              [8,9]])\n",
    "\n",
    "c = v - w #operacion si definida matematicamente\n",
    "\n",
    "print(v)\n",
    "print(w)\n",
    "\n",
    "print(\"v-w:\")\n",
    "print(c)"
   ]
  },
  {
   "cell_type": "markdown",
   "metadata": {
    "id": "CvAcmB12pfje"
   },
   "source": [
    "**Producto Hadamard**\n",
    "\n",
    "La multiplicación o producto elemento por elemento entre 2 matrices del mismo tamaño(no confundir con multiplicación matricial) tiene un nombre especial  de \"producto Hadamard\".\n",
    "\n",
    "<img src=\"https://upload.wikimedia.org/wikipedia/commons/thumb/0/00/Hadamard_product_qtl1.svg/220px-Hadamard_product_qtl1.svg.png\">\n",
    "\n",
    "https://en.wikipedia.org/wiki/Hadamard_product_(matrices)"
   ]
  },
  {
   "cell_type": "code",
   "execution_count": 27,
   "metadata": {
    "colab": {
     "base_uri": "https://localhost:8080/"
    },
    "executionInfo": {
     "elapsed": 6696,
     "status": "ok",
     "timestamp": 1617673434508,
     "user": {
      "displayName": "Luis Fernando Leal Hernandez",
      "photoUrl": "",
      "userId": "08643725771405988586"
     },
     "user_tz": 300
    },
    "id": "sHDs22Pcpfje",
    "outputId": "dce027fa-b1ba-48d8-f3da-79eeff774929"
   },
   "outputs": [
    {
     "name": "stdout",
     "output_type": "stream",
     "text": [
      "[[ 3 -5]\n",
      " [ 5  1]]\n",
      "[[2 1]\n",
      " [8 9]]\n",
      "v o w:\n",
      "[[ 6 -5]\n",
      " [40  9]]\n"
     ]
    }
   ],
   "source": [
    "v = np.array([[3,-5],\n",
    "              [5,1]])\n",
    "w = np.array([[2,1],\n",
    "              [8,9]])\n",
    "\n",
    "c = v * w # operacion no definida en algebra lineal pero si en mate como \"Producto hadamard\" , elemento por elemento.\n",
    "\n",
    "print(v)\n",
    "print(w)\n",
    "\n",
    "print(\"v o w:\")\n",
    "print(c)"
   ]
  },
  {
   "cell_type": "code",
   "execution_count": 28,
   "metadata": {
    "colab": {
     "base_uri": "https://localhost:8080/"
    },
    "executionInfo": {
     "elapsed": 6676,
     "status": "ok",
     "timestamp": 1617673434508,
     "user": {
      "displayName": "Luis Fernando Leal Hernandez",
      "photoUrl": "",
      "userId": "08643725771405988586"
     },
     "user_tz": 300
    },
    "id": "mSBffmVdpfje",
    "outputId": "0a2f6999-6f00-4da1-ed57-7729efddbeb0"
   },
   "outputs": [
    {
     "name": "stdout",
     "output_type": "stream",
     "text": [
      "[[ 3 -5]\n",
      " [ 5  1]]\n",
      "[[2 1]\n",
      " [8 9]]\n",
      "v/w:\n",
      "[[ 1.5        -5.        ]\n",
      " [ 0.625       0.11111111]]\n"
     ]
    }
   ],
   "source": [
    "v = np.array([[3,-5],\n",
    "              [5,1]])\n",
    "w = np.array([[2,1],\n",
    "              [8,9]])\n",
    "\n",
    "c = v / w # operacion no definida matematicamente\n",
    "\n",
    "print(v)\n",
    "print(w)\n",
    "\n",
    "print(\"v/w:\")\n",
    "print(c)"
   ]
  },
  {
   "cell_type": "code",
   "execution_count": 29,
   "metadata": {
    "colab": {
     "base_uri": "https://localhost:8080/"
    },
    "executionInfo": {
     "elapsed": 6650,
     "status": "ok",
     "timestamp": 1617673434509,
     "user": {
      "displayName": "Luis Fernando Leal Hernandez",
      "photoUrl": "",
      "userId": "08643725771405988586"
     },
     "user_tz": 300
    },
    "id": "fG9oQ4VOpfje",
    "outputId": "6e6df5c1-b94f-4a76-db19-e9456819c6f1"
   },
   "outputs": [
    {
     "name": "stdout",
     "output_type": "stream",
     "text": [
      "[[ 3 -5]\n",
      " [ 5  1]]\n",
      "[[2 1]\n",
      " [8 9]]\n",
      "v%w:\n",
      "[[1 0]\n",
      " [5 1]]\n"
     ]
    }
   ],
   "source": [
    "v = np.array([[3,-5],\n",
    "              [5,1]])\n",
    "w = np.array([[2,1],\n",
    "              [8,9]])\n",
    "\n",
    "c = v % w\n",
    "\n",
    "print(v)\n",
    "print(w)\n",
    "\n",
    "print(\"v%w:\")\n",
    "print(c)"
   ]
  },
  {
   "cell_type": "markdown",
   "metadata": {
    "id": "uv9wrvnkpfje"
   },
   "source": [
    "### Multiplicación de matriz por escalar\n",
    " \n",
    "Otra operación común que si está definida matemáticamente es la multiplicación de una matriz por un escalar(o visceversa)  sintácticamente se logra al aplicar el operador \"*\" entre un escalar y una matriz y el resultado consiste en multiplicar cada elemento de la matriz por ese escalar.\n",
    "\n",
    "\n",
    "<img src=\"https://lh5.googleusercontent.com/-2ugN4HFUxlk/TYlR2fRec5I/AAAAAAAAAEk/HXbZycUcU2o/s1600/Sin+t%25C3%25ADtulo1.png\">\n"
   ]
  },
  {
   "cell_type": "code",
   "execution_count": 30,
   "metadata": {
    "colab": {
     "base_uri": "https://localhost:8080/"
    },
    "executionInfo": {
     "elapsed": 6619,
     "status": "ok",
     "timestamp": 1617673434509,
     "user": {
      "displayName": "Luis Fernando Leal Hernandez",
      "photoUrl": "",
      "userId": "08643725771405988586"
     },
     "user_tz": 300
    },
    "id": "MFjTVxXkpfje",
    "outputId": "af90f8bd-b297-4ece-d0a6-aa2f65bb6d87"
   },
   "outputs": [
    {
     "name": "stdout",
     "output_type": "stream",
     "text": [
      "Matriz original:\n",
      "[[ 3 -5]\n",
      " [ 5  1]]\n",
      "Matriz multiplicada por 2:\n",
      "[[  6 -10]\n",
      " [ 10   2]]\n"
     ]
    }
   ],
   "source": [
    "print(\"Matriz original:\")\n",
    "print(v)\n",
    "print(\"Matriz multiplicada por 2:\")\n",
    "\n",
    "multiplicacion_matriz_escalar = 2*v\n",
    "print(multiplicacion_matriz_escalar)"
   ]
  },
  {
   "cell_type": "markdown",
   "metadata": {
    "id": "5h4GO2lxpfjf"
   },
   "source": [
    "**Nota**: este es un ejemplo de \"broadcasting\", tema a tratar con mayor detalle más adelante, el código anterior es equivalente a el siguiente código."
   ]
  },
  {
   "cell_type": "code",
   "execution_count": 31,
   "metadata": {
    "colab": {
     "base_uri": "https://localhost:8080/"
    },
    "executionInfo": {
     "elapsed": 6600,
     "status": "ok",
     "timestamp": 1617673434510,
     "user": {
      "displayName": "Luis Fernando Leal Hernandez",
      "photoUrl": "",
      "userId": "08643725771405988586"
     },
     "user_tz": 300
    },
    "id": "yy_R5uEnpfjf",
    "outputId": "b061248c-af7f-4cdf-f0ea-413c620242c5"
   },
   "outputs": [
    {
     "name": "stdout",
     "output_type": "stream",
     "text": [
      "[[ 3 -5]\n",
      " [ 5  1]]\n",
      "\n",
      "[[2 2]\n",
      " [2 2]]\n",
      "\n",
      "[[  6 -10]\n",
      " [ 10   2]]\n"
     ]
    }
   ],
   "source": [
    "matriz_dos = np.full((v.shape),2) # crear una matriz con la misma forma de v inicializad con el numero 2\n",
    "multiplicacion_matriz_escalar = matriz_dos*v  # aplicar multiplicacion elemento por elemento\n",
    "\n",
    "print(v)\n",
    "print(\"\")\n",
    "print(matriz_dos)\n",
    "print(\"\")\n",
    "print(multiplicacion_matriz_escalar)\n"
   ]
  },
  {
   "cell_type": "markdown",
   "metadata": {
    "id": "1Z7zjwQRpfjf"
   },
   "source": [
    "Podemos crear expresiones  que combinan más de 1 operación matricial, solo debemos recordar tener precaución de que las dimensiones y formas de las matrices y/o vectores."
   ]
  },
  {
   "cell_type": "code",
   "execution_count": 32,
   "metadata": {
    "colab": {
     "base_uri": "https://localhost:8080/"
    },
    "executionInfo": {
     "elapsed": 6580,
     "status": "ok",
     "timestamp": 1617673434510,
     "user": {
      "displayName": "Luis Fernando Leal Hernandez",
      "photoUrl": "",
      "userId": "08643725771405988586"
     },
     "user_tz": 300
    },
    "id": "YxjurAhlpfjf",
    "outputId": "8ded8592-5693-487b-dcd5-cfb8504ff269"
   },
   "outputs": [
    {
     "name": "stdout",
     "output_type": "stream",
     "text": [
      "[[8.5 8.5 8.5]\n",
      " [8.5 8.5 8.5]\n",
      " [8.5 8.5 8.5]]\n"
     ]
    }
   ],
   "source": [
    "A = np.full((3,3),7) #7\n",
    "B = np.ones_like(A) # 1\n",
    "C = np.full((A.shape),2) #2\n",
    "\n",
    "c = 1.5 \n",
    "\n",
    "D = (c*A)  + B - (c*C) #1.5(7) + 1  - 1.5(2)\n",
    "\n",
    "print(D)"
   ]
  },
  {
   "cell_type": "code",
   "execution_count": 33,
   "metadata": {
    "colab": {
     "base_uri": "https://localhost:8080/"
    },
    "executionInfo": {
     "elapsed": 6553,
     "status": "ok",
     "timestamp": 1617673434511,
     "user": {
      "displayName": "Luis Fernando Leal Hernandez",
      "photoUrl": "",
      "userId": "08643725771405988586"
     },
     "user_tz": 300
    },
    "id": "ylIfeemopfjf",
    "outputId": "db358389-0d6a-4b46-ff9d-8192f972b9ba"
   },
   "outputs": [
    {
     "name": "stdout",
     "output_type": "stream",
     "text": [
      "[[ 7.   7.   7. ]\n",
      " [15.5 15.5 15.5]\n",
      " [ 8.5  8.5  8.5]]\n"
     ]
    }
   ],
   "source": [
    "A = np.full((3,3),7) #7\n",
    "A[0] = 6 #cambiamos la primera fila de A para almacenar el valor 6, el resto se queda igual\n",
    "B = np.ones_like(A) # 1\n",
    "B[1] = A[0] + 2 # La segunda fila de B almacenara el valor de la primera de A + 2 ,es decir 8\n",
    "C = np.full((A.shape),2) #2\n",
    "\n",
    "c = 1.5 \n",
    "\n",
    "D = c*A  + B - c*C \n",
    "\n",
    "print(D)"
   ]
  },
  {
   "cell_type": "code",
   "execution_count": 34,
   "metadata": {
    "colab": {
     "base_uri": "https://localhost:8080/"
    },
    "executionInfo": {
     "elapsed": 6532,
     "status": "ok",
     "timestamp": 1617673434511,
     "user": {
      "displayName": "Luis Fernando Leal Hernandez",
      "photoUrl": "",
      "userId": "08643725771405988586"
     },
     "user_tz": 300
    },
    "id": "otFGMk51pfjf",
    "outputId": "c3858a70-0801-4b12-cb67-cf40c4c09c53"
   },
   "outputs": [
    {
     "name": "stdout",
     "output_type": "stream",
     "text": [
      "[[ 1 -6]\n",
      " [-3 -8]]\n",
      "[[ 6 -5]\n",
      " [40  9]]\n",
      "[[ 1.5        -5.        ]\n",
      " [ 0.625       0.11111111]]\n",
      "[[1 0]\n",
      " [5 1]]\n"
     ]
    }
   ],
   "source": [
    "v = np.array([[3,-5],\n",
    "              [5,1]])\n",
    "w = np.array([[2,1],\n",
    "              [8,9]])\n",
    "\n",
    "resta = v - w\n",
    "multiplicacion = v*w # producto hadammard\n",
    "division = v/w\n",
    "div_mod = v%w\n",
    "\n",
    "print(resta)\n",
    "print(multiplicacion)\n",
    "print(division)\n",
    "print(div_mod)"
   ]
  },
  {
   "cell_type": "markdown",
   "metadata": {
    "id": "Lyq_qAE1pfjg"
   },
   "source": [
    "Los operadores +=,-=,*=,/=,%=  , también son validos en vectores con NumPy y son mas eficientes, por ejemplo:\n",
    "\n",
    "a+=b\n",
    "\n",
    "Es mas eficiente que\n",
    "\n",
    "a = a + b\n",
    "\n",
    "Por lo tanto se recomienda usarlos siempre que sea posible :"
   ]
  },
  {
   "cell_type": "code",
   "execution_count": 35,
   "metadata": {
    "colab": {
     "base_uri": "https://localhost:8080/"
    },
    "executionInfo": {
     "elapsed": 6502,
     "status": "ok",
     "timestamp": 1617673434511,
     "user": {
      "displayName": "Luis Fernando Leal Hernandez",
      "photoUrl": "",
      "userId": "08643725771405988586"
     },
     "user_tz": 300
    },
    "id": "dr4GRWfQpfjg",
    "outputId": "0a7a34a2-3d3e-40be-d9da-b33427f4d042"
   },
   "outputs": [
    {
     "name": "stdout",
     "output_type": "stream",
     "text": [
      "[[  9 -15]\n",
      " [ 15   3]]\n"
     ]
    }
   ],
   "source": [
    "v*=3 #v = v*3\n",
    "\n",
    "print(v)"
   ]
  },
  {
   "cell_type": "markdown",
   "metadata": {
    "id": "yzmRJIBapfjg"
   },
   "source": [
    "matmul(A,B) != matmul(B,A)"
   ]
  },
  {
   "cell_type": "markdown",
   "metadata": {
    "id": "iqpBReqUpfjg"
   },
   "source": [
    "### Multiplicación Matricial\n",
    " \n",
    "Una de las operaciones más importantes tanto en matemáticas como en ciencias de la computación y ciencia de datos y también una de las más comunes es la multiplicación matricial, que podemos conceptualizar de 2 maneras:\n",
    " \n",
    "* **Matriz por vector**\n",
    "* **Matriz por matriz** . https://www.youtube.com/watch?v=XkY2DOUCWMU\n",
    " \n",
    "Esta es una operación sumamente utilizada e importante y es diferente de las que hasta ahora habíamos visto: **operaciones elemento por elemento** por lo cual NO ES IGUAL QUE EL PRODUCTO HADAMARD.\n",
    " \n",
    "El producto matricial **AxB** solo está definido para pares de matrices que cumplen con la propiedad de que el número de columnas de A sea igual que el número de filas de B. El resultado es una nueva matriz cuyo número de filas es igual al número de filas de A y el número de columnas es igual al número de columnas de B.\n",
    "\n",
    "<img src=\"https://www.geogebra.org/resource/jyFms9hh/gWfr05GxoKt6c3JS/material-jyFms9hh.png\">\n",
    "\n",
    "La forma de calcular la multiplicación matricial AxB se basa en el producto punto, para la matriz de resultado C el elemento en la fila \"i\" y columna \"j\" consiste en el producto punto entre la fila \"i\" de A y la columna \"j\" de B.\n",
    "\n",
    "Por lo cual contrario a lo que muchos creen, la multiplicación matricial **NO ES LO MISMO QUE EL PRODUCTO PUNTO** pero si lo utiliza ,la matriz resultante es una matriz de productos punto.\n",
    "\n",
    "<img src=\"https://www.mathsisfun.com/algebra/images/matrix-multiply-a.svg\">"
   ]
  },
  {
   "cell_type": "code",
   "execution_count": 36,
   "metadata": {
    "colab": {
     "base_uri": "https://localhost:8080/"
    },
    "executionInfo": {
     "elapsed": 6483,
     "status": "ok",
     "timestamp": 1617673434512,
     "user": {
      "displayName": "Luis Fernando Leal Hernandez",
      "photoUrl": "",
      "userId": "08643725771405988586"
     },
     "user_tz": 300
    },
    "id": "14MGkzchpfjg",
    "outputId": "9be88033-5160-4069-8c3d-153d907948df"
   },
   "outputs": [
    {
     "data": {
      "text/plain": [
       "array([[ 5],\n",
       "       [11]])"
      ]
     },
     "execution_count": 36,
     "metadata": {},
     "output_type": "execute_result"
    }
   ],
   "source": [
    "A = np.array([[1,2],   #matriz 2x2\n",
    "              [3,4]])\n",
    "B = np.array([[1],    # vector 2x1\n",
    "              [2]])\n",
    "\n",
    "np.matmul(A,B) #numero de cols de A debe ser igual al numero de filas de B ,resultado 2x1"
   ]
  },
  {
   "cell_type": "code",
   "execution_count": 37,
   "metadata": {
    "colab": {
     "base_uri": "https://localhost:8080/"
    },
    "executionInfo": {
     "elapsed": 6476,
     "status": "ok",
     "timestamp": 1617673434518,
     "user": {
      "displayName": "Luis Fernando Leal Hernandez",
      "photoUrl": "",
      "userId": "08643725771405988586"
     },
     "user_tz": 300
    },
    "id": "bJAO6jFlpfjg",
    "outputId": "ede5346b-ddd3-4c8f-9cd4-ac3f1eea1ae2"
   },
   "outputs": [
    {
     "data": {
      "text/plain": [
       "array([[ 5],\n",
       "       [11]])"
      ]
     },
     "execution_count": 37,
     "metadata": {},
     "output_type": "execute_result"
    }
   ],
   "source": [
    "np.dot(A,B) #no es lo mismo, evitar usarlo"
   ]
  },
  {
   "cell_type": "code",
   "execution_count": 38,
   "metadata": {
    "colab": {
     "base_uri": "https://localhost:8080/"
    },
    "executionInfo": {
     "elapsed": 6451,
     "status": "ok",
     "timestamp": 1617673434519,
     "user": {
      "displayName": "Luis Fernando Leal Hernandez",
      "photoUrl": "",
      "userId": "08643725771405988586"
     },
     "user_tz": 300
    },
    "id": "7ZSXTzVlpfjg",
    "outputId": "3dc8cd91-ba9b-43df-b8e4-2be59172240e"
   },
   "outputs": [
    {
     "data": {
      "text/plain": [
       "array([[ 1, 12,  7],\n",
       "       [ 4, 33, 22],\n",
       "       [ 7, 54, 37]])"
      ]
     },
     "execution_count": 38,
     "metadata": {},
     "output_type": "execute_result"
    }
   ],
   "source": [
    "A = np.array([[1,2], #matriz de 3x2\n",
    "              [4,5],\n",
    "              [7,8]])\n",
    "B = np.array([[1,2,3], #matriz de 2x3\n",
    "              [0,5,2]])\n",
    "\n",
    "np.matmul(A,B) #resutlado de 3x3"
   ]
  },
  {
   "cell_type": "code",
   "execution_count": 39,
   "metadata": {
    "colab": {
     "base_uri": "https://localhost:8080/"
    },
    "executionInfo": {
     "elapsed": 6441,
     "status": "ok",
     "timestamp": 1617673434520,
     "user": {
      "displayName": "Luis Fernando Leal Hernandez",
      "photoUrl": "",
      "userId": "08643725771405988586"
     },
     "user_tz": 300
    },
    "id": "rePtTiXGJEQM",
    "outputId": "c26b34e2-d8b4-4597-a6bb-434801f8301d"
   },
   "outputs": [
    {
     "data": {
      "text/plain": [
       "((3, 2), (2, 3))"
      ]
     },
     "execution_count": 39,
     "metadata": {},
     "output_type": "execute_result"
    }
   ],
   "source": [
    "A.shape,B.shape"
   ]
  },
  {
   "cell_type": "code",
   "execution_count": 40,
   "metadata": {
    "colab": {
     "base_uri": "https://localhost:8080/"
    },
    "executionInfo": {
     "elapsed": 6423,
     "status": "ok",
     "timestamp": 1617673434521,
     "user": {
      "displayName": "Luis Fernando Leal Hernandez",
      "photoUrl": "",
      "userId": "08643725771405988586"
     },
     "user_tz": 300
    },
    "id": "Xr8bOnA_JSOH",
    "outputId": "8265fb75-010a-4ba5-d596-a77a8865efaf"
   },
   "outputs": [
    {
     "data": {
      "text/plain": [
       "array([[1., 1.],\n",
       "       [1., 1.]])"
      ]
     },
     "execution_count": 40,
     "metadata": {},
     "output_type": "execute_result"
    }
   ],
   "source": [
    "np.corrcoef(A[:,0],A[:,1])"
   ]
  },
  {
   "cell_type": "code",
   "execution_count": 41,
   "metadata": {
    "colab": {
     "base_uri": "https://localhost:8080/"
    },
    "executionInfo": {
     "elapsed": 6402,
     "status": "ok",
     "timestamp": 1617673434522,
     "user": {
      "displayName": "Luis Fernando Leal Hernandez",
      "photoUrl": "",
      "userId": "08643725771405988586"
     },
     "user_tz": 300
    },
    "id": "ethQQvsYpfjh",
    "outputId": "1e2a3c5a-1e38-4197-9a2e-18e77561c31d"
   },
   "outputs": [
    {
     "data": {
      "text/plain": [
       "4"
      ]
     },
     "execution_count": 41,
     "metadata": {},
     "output_type": "execute_result"
    }
   ],
   "source": [
    "np.dot(A[1,],B[:,0])\n",
    "#print(A[0,])\n",
    "#print(B[:,0])"
   ]
  },
  {
   "cell_type": "code",
   "execution_count": 42,
   "metadata": {
    "colab": {
     "base_uri": "https://localhost:8080/"
    },
    "executionInfo": {
     "elapsed": 6383,
     "status": "ok",
     "timestamp": 1617673434523,
     "user": {
      "displayName": "Luis Fernando Leal Hernandez",
      "photoUrl": "",
      "userId": "08643725771405988586"
     },
     "user_tz": 300
    },
    "id": "J1IL4uPtpfjh",
    "outputId": "0f8801b7-3698-4024-d08c-0c21424899ee"
   },
   "outputs": [
    {
     "name": "stdout",
     "output_type": "stream",
     "text": [
      "[[ 58  64]\n",
      " [139 154]]\n"
     ]
    }
   ],
   "source": [
    "A = np.array([[1,2,3], #matriz 2x3\n",
    "              [4,5,6]])\n",
    "B = np.array([[7,8],  #matriz 3x2\n",
    "              [9,10],\n",
    "              [11,12]])\n",
    "C = np.matmul(A,B\n",
    "             ) #matriz de resultado 2x2\n",
    "\n",
    "print(C)"
   ]
  },
  {
   "cell_type": "code",
   "execution_count": 43,
   "metadata": {
    "colab": {
     "base_uri": "https://localhost:8080/"
    },
    "executionInfo": {
     "elapsed": 6370,
     "status": "ok",
     "timestamp": 1617673434527,
     "user": {
      "displayName": "Luis Fernando Leal Hernandez",
      "photoUrl": "",
      "userId": "08643725771405988586"
     },
     "user_tz": 300
    },
    "id": "kJb1g5qfpfjh",
    "outputId": "cf52ae80-cbe1-4f89-c0ae-1ee8c0133a91"
   },
   "outputs": [
    {
     "name": "stdout",
     "output_type": "stream",
     "text": [
      "[[ 39  54  69]\n",
      " [ 49  68  87]\n",
      " [ 59  82 105]]\n"
     ]
    }
   ],
   "source": [
    "A = np.array([[1,2,3], #matriz 2x3\n",
    "              [4,5,6]])\n",
    "B = np.array([[7,8],  #matriz 3x2\n",
    "              [9,10],\n",
    "              [11,12]])\n",
    "C = np.matmul(B,A\n",
    "             ) #matriz de resultado 3x3\n",
    "\n",
    "print(C)"
   ]
  },
  {
   "cell_type": "markdown",
   "metadata": {
    "id": "KIQE5SzQpfjh"
   },
   "source": [
    "A = np.array([[1,2,3], #matriz 2x3\n",
    "              [4,5,6],\n",
    "              [1,2,3]])\n",
    "B = np.array([[7,8],  #matriz 3x2\n",
    "              [9,10],\n",
    "              [11,12]])\n",
    "C = np.matmul(B,A\n",
    "             ) #matriz de resultado 2x2\n",
    "\n",
    "print(C)"
   ]
  },
  {
   "cell_type": "markdown",
   "metadata": {
    "id": "lo0Ru9bVpfjh"
   },
   "source": [
    "\n",
    "\n",
    "**Ejemplo en DS** : en inteligencia artificial y ML en la sub-rama \"reinforcement learning\" la \"ecuacion de bellman\" puede aplicarse de manera vectorizada a traves del operar vectores, matrices y escalares en una sola expresión.\n",
    "\n",
    "<img src=\"https://rebornhugo.github.io/assets/images/post_images/%E5%BC%BA%E5%8C%96%E5%AD%A6%E4%B9%A02/bellman%20equation2.PNG\">\n",
    "\n",
    "* n = número de estados del sistema.\n",
    "* V(s) = vector que representa el valor esperado para cierto estado\n",
    "* R = recompensa inmediata percibida por el agente al salir de cierto estado.(vector)\n",
    "* P = matriz de transicion de la cadena de Markov sub-yacente.(matriz)\n",
    "* γ = factor de descuento de recompensas futuras(escalar)\n",
    "\n",
    "Calcular V(s) para el siguiente sistema aplicando la ecuación de bellman de manera vectorizada."
   ]
  },
  {
   "cell_type": "code",
   "execution_count": 44,
   "metadata": {
    "executionInfo": {
     "elapsed": 6705,
     "status": "ok",
     "timestamp": 1617673434866,
     "user": {
      "displayName": "Luis Fernando Leal Hernandez",
      "photoUrl": "",
      "userId": "08643725771405988586"
     },
     "user_tz": 300
    },
    "id": "6HCh8LBppfjh"
   },
   "outputs": [],
   "source": [
    "V = np.array([0,0,0]) # valor inicial de V(s)\n",
    "R = np.array([10,2,5]) # vector de recompensas\n",
    "P = np.array([[0.5,0.25,0.25],\n",
    "              [0.2,0.40,0.40],\n",
    "              [0.80,0.10,0.10]])  # matriz de transición\n",
    "gamma = 0.99\n"
   ]
  },
  {
   "cell_type": "markdown",
   "metadata": {
    "id": "NQaAKNxEpfji"
   },
   "source": [
    "**Ejercicio aplicado en DS**\n",
    "Se tiene una red neuronal sencilla(y simplificada) como la de la siguiente imagen:\n",
    "<img src=\"https://www.oreilly.com/library/view/practical-convolutional-neural/9781788392303/assets/246151fb-7893-448d-b9bb-7a87b387a24b.png\">\n",
    "\n",
    "Donde:\n",
    "* INPUT LAYER: un vector X de tamaño = 2 que representa los datos de entrada\n",
    "* HIDDEN_LAYER :capa oculta con 2 neuronas definidas por los vectores:\n",
    "    * HL1 = [0.25,0.37]\n",
    "    * HL2 = [-8,14]\n",
    "* OUTPUT_LAYER = capa de salida definida por el vector [4,9]\n",
    "\n",
    "Crear una funcion neural_network(X) para calcular:\n",
    "* Calcule la salida de cada neurona en la capa intermedia aplicada a la capa de entrada.\n",
    "* Use el resultado del paso anterior como entrada para la neurona en la capa de salida\n",
    "\n",
    "Utilizando multiplicación de matrices se debe calcular para cada fila de la matriz de entrada X el valor de las neuronas de la capa intermedia, esto producirá una nueva matriz con el mismo número de filas que X y 2 columnas(1 para cada neurona) , a  los valores de esta matriz se les debe aplicar la función \"sigmoid\"(descrita a continuación) para limitarlos al intervalo de 0 a 1, esto produce una matriz del mismo tamaño pero con valores entre 0 a 1, esta matriz se multiplica matricialmente por la matriz que representa los pesos de la capa de salida  y este proceso produce un nuevo tensor al cual se debe aplicar nuevamente la función sigmoid. El resultado debe ser un tensor con el mismo número de filas que la matriz X y una sola columna(una predicción para cada fila de X.\n",
    "\n",
    "<img src=\"https://cdn-images-1.medium.com/max/1600/1*Xu7B5y9gp0iL5ooBj7LtWw.png\">"
   ]
  },
  {
   "cell_type": "code",
   "execution_count": 45,
   "metadata": {
    "executionInfo": {
     "elapsed": 6701,
     "status": "ok",
     "timestamp": 1617673434867,
     "user": {
      "displayName": "Luis Fernando Leal Hernandez",
      "photoUrl": "",
      "userId": "08643725771405988586"
     },
     "user_tz": 300
    },
    "id": "S8gql2zqpfji"
   },
   "outputs": [],
   "source": [
    "def sigmoid(x): #convertir los valores de x al rango de 0 a 1\n",
    "    \n",
    "    return 1/(1+np.exp(-x))"
   ]
  },
  {
   "cell_type": "code",
   "execution_count": 46,
   "metadata": {
    "colab": {
     "base_uri": "https://localhost:8080/"
    },
    "executionInfo": {
     "elapsed": 6693,
     "status": "ok",
     "timestamp": 1617673434868,
     "user": {
      "displayName": "Luis Fernando Leal Hernandez",
      "photoUrl": "",
      "userId": "08643725771405988586"
     },
     "user_tz": 300
    },
    "id": "seGuG6K8pfji",
    "outputId": "261df662-8cf3-4758-82c6-267381c687e3"
   },
   "outputs": [
    {
     "name": "stdout",
     "output_type": "stream",
     "text": [
      "[[0.99995577]\n",
      " [0.99999332]]\n"
     ]
    }
   ],
   "source": [
    "H1_W = np.array([[0.25,-8],\n",
    "                 [0.37,14]])\n",
    "OL_W = np.array([[4],[9]])\n",
    "\n",
    "X =  np.array([[0.1,0.2],\n",
    "               [1,2]])\n",
    "\n",
    "H1 = np.matmul(X,H1_W)\n",
    "H1 = sigmoid(H1)  # funcion de activacion: convertir a valores en el intervalo de 0 a 1\n",
    "OL = np.matmul(H1,OL_W)\n",
    "OL = sigmoid(OL)  # funcion de activacion: convertir a valores en el intervalo de 0 a 1\n",
    "\n",
    "\n",
    "print(OL)"
   ]
  },
  {
   "cell_type": "markdown",
   "metadata": {
    "id": "2uRzik0Npfji"
   },
   "source": [
    "### Ejercicio \n",
    "\n",
    "Implementar en una funcion neural_network(X) la red neuronal definida por la siguiente arquitectura:\n",
    "\n",
    "<img src=\"http://i.imgur.com/UNlffE1.png\">\n",
    "\n",
    "Podemos validar si fue correctamente implementada si usamos como entrada el vector x=[1,1] . Debemos obtener el resultado mostrado en la imagen.\n",
    "\n",
    "Una vez tenemos la implementacion correcta, cambiar la funcion de activacion de la capa de salida por la funcion de activacion ReLu(https://en.wikipedia.org/wiki/Rectifier_(neural_networks)):\n",
    "\n",
    "<img src=\"https://cdn-images-1.medium.com/max/1600/1*DfMRHwxY1gyyDmrIAd-gjQ.png\">\n",
    "\n",
    "Luego evaluar la red neuronal sobre la matriz de datos X(de manera vectorizada):"
   ]
  },
  {
   "cell_type": "markdown",
   "metadata": {},
   "source": [
    "## Resolución ejercicio NEURAL_NETWORK(X) ##"
   ]
  },
  {
   "cell_type": "code",
   "execution_count": 54,
   "metadata": {},
   "outputs": [],
   "source": [
    "def neural_network(x):\n",
    "  \n",
    "  #Se crea arreglo con los pesos\n",
    "  input_weight = np.array([[0.712, 0.355, 0.268],\n",
    "                   [0.112, 0.855, 0.468]])\n",
    "  \n",
    "  hidden_layer = np.array([[0.116], [0.329], [0.708]])\n",
    "\n",
    "  hidden_1 = np.matmul(x,input_weight) #producto punto\n",
    "  hidden_1 = sigmoid(hidden_1)  # Sigmoid -> convertir a valores en el intervalo de 0 a 1\n",
    "  output_layer = np.matmul(hidden_1,hidden_layer)\n",
    "  output_layer = sigmoid(output_layer)  # funcion de activacion: convertir a valores en el intervalo de 0 a 1\n",
    "\n",
    "  return output_layer\n",
    "\n"
   ]
  },
  {
   "cell_type": "code",
   "execution_count": 55,
   "metadata": {},
   "outputs": [
    {
     "name": "stdout",
     "output_type": "stream",
     "text": [
      "[[0.69269553]\n",
      " [0.69269553]]\n",
      "(2, 1)\n"
     ]
    }
   ],
   "source": [
    "X =  np.array([[1,1],\n",
    "               [1,1]])\n",
    "\n",
    "A = neural_network(X)\n",
    "print(A)\n",
    "print(A.shape)"
   ]
  },
  {
   "cell_type": "markdown",
   "metadata": {},
   "source": [
    "## Resolución ejercicio con ReLu ##"
   ]
  },
  {
   "cell_type": "code",
   "execution_count": 58,
   "metadata": {},
   "outputs": [],
   "source": [
    "def neural_network(X):\n",
    "  \n",
    "  input_weight = np.array([[0.712, 0.355, 0.268],\n",
    "                   [0.112, 0.855, 0.468]])\n",
    "  \n",
    "  hidden_layer = np.array([[0.116], [0.329], [0.708]])\n",
    "\n",
    "  hidden_1 = np.matmul(X,input_weight)\n",
    "  hidden_1 = sigmoid(hidden_1)  # funcion de activacion: convertir a valores en el intervalo de 0 a 1\n",
    "  output_layer = np.matmul(hidden_1,hidden_layer)\n",
    "  output_layer = max(output_layer)  # funcion de activacion\n",
    "\n",
    "  return output_layer\n"
   ]
  },
  {
   "cell_type": "code",
   "execution_count": 59,
   "metadata": {
    "executionInfo": {
     "elapsed": 6691,
     "status": "ok",
     "timestamp": 1617673434869,
     "user": {
      "displayName": "Luis Fernando Leal Hernandez",
      "photoUrl": "",
      "userId": "08643725771405988586"
     },
     "user_tz": 300
    },
    "id": "U94PGMS_pfji",
    "tags": []
   },
   "outputs": [
    {
     "name": "stdout",
     "output_type": "stream",
     "text": [
      "[0.81275154]\n",
      "(1,)\n"
     ]
    }
   ],
   "source": [
    "X =  np.array([[1,1],\n",
    "               [1,1]])\n",
    "\n",
    "A = neural_network(X)\n",
    "print(A)\n",
    "print(A.shape)"
   ]
  },
  {
   "cell_type": "code",
   "execution_count": 48,
   "metadata": {
    "colab": {
     "base_uri": "https://localhost:8080/"
    },
    "executionInfo": {
     "elapsed": 6673,
     "status": "ok",
     "timestamp": 1617673434869,
     "user": {
      "displayName": "Luis Fernando Leal Hernandez",
      "photoUrl": "",
      "userId": "08643725771405988586"
     },
     "user_tz": 300
    },
    "id": "wd_XXehDpfji",
    "outputId": "c6992ae4-b84c-4edc-d3d7-3a84664ccc69"
   },
   "outputs": [
    {
     "name": "stdout",
     "output_type": "stream",
     "text": [
      "[0.01 0.01 0.01 0.01]\n"
     ]
    }
   ],
   "source": [
    "y = np.array([100,200,300,800])\n",
    "x = np.array([1,2,3,8])\n",
    "unos = np.array([1,1,1,1])\n",
    "\n",
    "\n",
    "#y_aprox = mx + b*(1)\n",
    "\n",
    "parametros = np.array([100,0.01])\n",
    "x_modificado = np.vstack((x,unos)).T\n",
    "y_aprox = np.matmul(x_modificado,parametros)\n",
    "\n",
    "print(y_aprox -y)\n"
   ]
  },
  {
   "cell_type": "markdown",
   "metadata": {
    "id": "NOVxPtaVpfji"
   },
   "source": [
    "### Broadcasting\n",
    "\n",
    "Python utiliza un mecanismo conocido como **\"broadcasting\"** para algunas operaciones cuando el tamaño de los operandos no coincide, por ejemplo el caso de una suma entre una matriz y un vector, broadcasting \"expande\"(siempre que sea posible) el vector para que tenga la misma forma que la matriz replicando el vector cuantas veces sea necesario para tener la misma forma y luego aplica la operación **\"elementwise\"** (elemento a elemento).\n",
    "\n",
    "Para cuando se trabaja con matrices y una matriz A se opera con algún vector B broadcasting busca replicar o copiar el vector las veces que sea necesario para obtener una matriz del mismo tamaño , por ejemplo si se tiene una matriz de tamaño 4x5 , y un vector de 4 elementos, broadcasting creará una matriz que consiste en copiar el vector de 4 elementos 5 veces.\n",
    "\n",
    "Broadcasting no funciona en casos donde las dimensiones no son compatibles, por ejemplo para el caso anterior, broadcasting no  hubiera funcionado si el vector tuviera 3 elementos y hubiera resultado en un error: **operands could not be broadcast together with shapes ... **\n",
    "\n",
    "* https://www.youtube.com/watch?v=YrOrAcMjFB4\n",
    "* https://docs.scipy.org/doc/numpy/user/basics.broadcasting.html"
   ]
  },
  {
   "cell_type": "code",
   "execution_count": 49,
   "metadata": {
    "collapsed": true,
    "executionInfo": {
     "elapsed": 6670,
     "status": "ok",
     "timestamp": 1617673434870,
     "user": {
      "displayName": "Luis Fernando Leal Hernandez",
      "photoUrl": "",
      "userId": "08643725771405988586"
     },
     "user_tz": 300
    },
    "id": "DxzFaqHmpfjj",
    "jupyter": {
     "outputs_hidden": true
    }
   },
   "outputs": [],
   "source": [
    "matriz = np.array([[1,2,3,10],  #matriz de 3x4\n",
    "                   [4,5,6,11],\n",
    "                   [7,8,9,12]])\n",
    "colum_vector = np.array(  # vector orientado columnarmente\n",
    "                  [1,\n",
    "                   2,\n",
    "                   3,]).reshape((3,1))\n",
    "                   \n",
    "row_vector = np.array([1,2,3,4]).reshape((1,4)) # vector orientado por filas"
   ]
  },
  {
   "cell_type": "code",
   "execution_count": 50,
   "metadata": {
    "colab": {
     "base_uri": "https://localhost:8080/"
    },
    "executionInfo": {
     "elapsed": 6652,
     "status": "ok",
     "timestamp": 1617673434870,
     "user": {
      "displayName": "Luis Fernando Leal Hernandez",
      "photoUrl": "",
      "userId": "08643725771405988586"
     },
     "user_tz": 300
    },
    "id": "pQp3tQ-vpfjj",
    "outputId": "a809e24c-0f72-4c35-d862-78dcd8627065"
   },
   "outputs": [
    {
     "name": "stdout",
     "output_type": "stream",
     "text": [
      "(3, 4)\n",
      "(3, 1)\n",
      "(1, 4)\n"
     ]
    }
   ],
   "source": [
    "print(matriz.shape)\n",
    "print(colum_vector.shape)\n",
    "print(row_vector.shape)"
   ]
  },
  {
   "cell_type": "code",
   "execution_count": 51,
   "metadata": {
    "colab": {
     "base_uri": "https://localhost:8080/"
    },
    "executionInfo": {
     "elapsed": 6643,
     "status": "ok",
     "timestamp": 1617673434871,
     "user": {
      "displayName": "Luis Fernando Leal Hernandez",
      "photoUrl": "",
      "userId": "08643725771405988586"
     },
     "user_tz": 300
    },
    "id": "7l1d4XTupfjj",
    "outputId": "baa009c2-a7d1-4639-f47f-77e86a6cba7c"
   },
   "outputs": [
    {
     "data": {
      "text/plain": [
       "array([[ 1,  2,  3, 10],\n",
       "       [ 4,  5,  6, 11],\n",
       "       [ 7,  8,  9, 12]])"
      ]
     },
     "execution_count": 51,
     "metadata": {
      "tags": []
     },
     "output_type": "execute_result"
    }
   ],
   "source": [
    "matriz"
   ]
  },
  {
   "cell_type": "code",
   "execution_count": 52,
   "metadata": {
    "colab": {
     "base_uri": "https://localhost:8080/"
    },
    "executionInfo": {
     "elapsed": 6632,
     "status": "ok",
     "timestamp": 1617673434872,
     "user": {
      "displayName": "Luis Fernando Leal Hernandez",
      "photoUrl": "",
      "userId": "08643725771405988586"
     },
     "user_tz": 300
    },
    "id": "9XYGKGOSpfjj",
    "outputId": "cc0ca75c-bc4c-43a9-df17-4398a35e43f6"
   },
   "outputs": [
    {
     "data": {
      "text/plain": [
       "array([[1],\n",
       "       [2],\n",
       "       [3]])"
      ]
     },
     "execution_count": 52,
     "metadata": {
      "tags": []
     },
     "output_type": "execute_result"
    }
   ],
   "source": [
    "colum_vector"
   ]
  },
  {
   "cell_type": "code",
   "execution_count": 53,
   "metadata": {
    "colab": {
     "base_uri": "https://localhost:8080/"
    },
    "executionInfo": {
     "elapsed": 6618,
     "status": "ok",
     "timestamp": 1617673434873,
     "user": {
      "displayName": "Luis Fernando Leal Hernandez",
      "photoUrl": "",
      "userId": "08643725771405988586"
     },
     "user_tz": 300
    },
    "id": "cWnE6ABPpfjj",
    "outputId": "106c293b-f824-49b6-ccb0-b2dd362e3224"
   },
   "outputs": [
    {
     "data": {
      "text/plain": [
       "array([[ 2,  3,  4, 11],\n",
       "       [ 6,  7,  8, 13],\n",
       "       [10, 11, 12, 15]])"
      ]
     },
     "execution_count": 53,
     "metadata": {
      "tags": []
     },
     "output_type": "execute_result"
    }
   ],
   "source": [
    "matriz + colum_vector #operación no definida matemáticamente pero posible con broadcasting"
   ]
  },
  {
   "cell_type": "code",
   "execution_count": 54,
   "metadata": {
    "colab": {
     "base_uri": "https://localhost:8080/"
    },
    "executionInfo": {
     "elapsed": 6607,
     "status": "ok",
     "timestamp": 1617673434874,
     "user": {
      "displayName": "Luis Fernando Leal Hernandez",
      "photoUrl": "",
      "userId": "08643725771405988586"
     },
     "user_tz": 300
    },
    "id": "1OK9bahNpfjj",
    "outputId": "0eb80df6-9b90-4d39-d73d-0c6b7ece9061"
   },
   "outputs": [
    {
     "data": {
      "text/plain": [
       "array([[ 1,  2,  3, 10],\n",
       "       [ 4,  5,  6, 11],\n",
       "       [ 7,  8,  9, 12]])"
      ]
     },
     "execution_count": 54,
     "metadata": {
      "tags": []
     },
     "output_type": "execute_result"
    }
   ],
   "source": [
    "matriz\n"
   ]
  },
  {
   "cell_type": "code",
   "execution_count": 55,
   "metadata": {
    "colab": {
     "base_uri": "https://localhost:8080/"
    },
    "executionInfo": {
     "elapsed": 6596,
     "status": "ok",
     "timestamp": 1617673434875,
     "user": {
      "displayName": "Luis Fernando Leal Hernandez",
      "photoUrl": "",
      "userId": "08643725771405988586"
     },
     "user_tz": 300
    },
    "id": "rrvg7bb1pfjk",
    "outputId": "932834f1-d15f-4ade-8ea7-17a75db01bd5"
   },
   "outputs": [
    {
     "data": {
      "text/plain": [
       "array([[1, 2, 3, 4]])"
      ]
     },
     "execution_count": 55,
     "metadata": {
      "tags": []
     },
     "output_type": "execute_result"
    }
   ],
   "source": [
    "row_vector"
   ]
  },
  {
   "cell_type": "code",
   "execution_count": 56,
   "metadata": {
    "colab": {
     "base_uri": "https://localhost:8080/"
    },
    "executionInfo": {
     "elapsed": 6579,
     "status": "ok",
     "timestamp": 1617673434875,
     "user": {
      "displayName": "Luis Fernando Leal Hernandez",
      "photoUrl": "",
      "userId": "08643725771405988586"
     },
     "user_tz": 300
    },
    "id": "aGZihYKMpfjk",
    "outputId": "04a4206f-bf01-4130-9479-1839e1c51de6"
   },
   "outputs": [
    {
     "data": {
      "text/plain": [
       "array([[ 2,  4,  6, 14],\n",
       "       [ 5,  7,  9, 15],\n",
       "       [ 8, 10, 12, 16]])"
      ]
     },
     "execution_count": 56,
     "metadata": {
      "tags": []
     },
     "output_type": "execute_result"
    }
   ],
   "source": [
    "matriz + row_vector #operación no definida matemáticamente pero posible con broadcasting"
   ]
  },
  {
   "cell_type": "code",
   "execution_count": 57,
   "metadata": {
    "colab": {
     "base_uri": "https://localhost:8080/"
    },
    "executionInfo": {
     "elapsed": 6558,
     "status": "ok",
     "timestamp": 1617673434876,
     "user": {
      "displayName": "Luis Fernando Leal Hernandez",
      "photoUrl": "",
      "userId": "08643725771405988586"
     },
     "user_tz": 300
    },
    "id": "al_slBIzpfjk",
    "outputId": "be577f19-c807-4cac-e964-d47f349a9b48"
   },
   "outputs": [
    {
     "data": {
      "text/plain": [
       "array([[0, 1, 2, 9],\n",
       "       [2, 3, 4, 9],\n",
       "       [4, 5, 6, 9]])"
      ]
     },
     "execution_count": 57,
     "metadata": {
      "tags": []
     },
     "output_type": "execute_result"
    }
   ],
   "source": [
    "matriz - colum_vector #operación no definida matemáticamente pero posible con broadcasting "
   ]
  },
  {
   "cell_type": "code",
   "execution_count": 58,
   "metadata": {
    "colab": {
     "base_uri": "https://localhost:8080/"
    },
    "executionInfo": {
     "elapsed": 6544,
     "status": "ok",
     "timestamp": 1617673434876,
     "user": {
      "displayName": "Luis Fernando Leal Hernandez",
      "photoUrl": "",
      "userId": "08643725771405988586"
     },
     "user_tz": 300
    },
    "id": "7qo68peQpfjk",
    "outputId": "e1233511-d95d-47a0-9775-7272c1d2bc8c"
   },
   "outputs": [
    {
     "data": {
      "text/plain": [
       "array([[ 1,  4,  9, 40],\n",
       "       [ 4, 10, 18, 44],\n",
       "       [ 7, 16, 27, 48]])"
      ]
     },
     "execution_count": 58,
     "metadata": {
      "tags": []
     },
     "output_type": "execute_result"
    }
   ],
   "source": [
    "matriz * row_vector #operación no definida matemáticamente pero posible con broadcasting"
   ]
  },
  {
   "cell_type": "code",
   "execution_count": 59,
   "metadata": {
    "collapsed": true,
    "executionInfo": {
     "elapsed": 6540,
     "status": "ok",
     "timestamp": 1617673434877,
     "user": {
      "displayName": "Luis Fernando Leal Hernandez",
      "photoUrl": "",
      "userId": "08643725771405988586"
     },
     "user_tz": 300
    },
    "id": "0ee55wvbpfjk",
    "jupyter": {
     "outputs_hidden": true
    }
   },
   "outputs": [],
   "source": [
    "colum_vector = np.array(  # vector orientado columnarmente\n",
    "                  [1,\n",
    "                   2,\n",
    "                   3,\n",
    "                   4]).reshape((4,1))\n",
    "# la siguiente linea intentaa operar una matriz de 3x4 con un vector incompatible de 4x1 resultando en error\n",
    "#matriz + colum_vector"
   ]
  },
  {
   "cell_type": "markdown",
   "metadata": {
    "id": "GY8FS-uNpfjl"
   },
   "source": [
    "### Funciones misceláneas(agregación y estadística descriptiva básica)\n",
    " \n",
    "Ya hemos trabajado algunas funciones de NumPy pero han sido funciones \"elementwise\" cuyo vector resultante tiene el mismo tamaño que el vector de entrada, existen muchas otras funciones que utilizamos en casos en los que necesitamos agregar,resumir cierta matriz,incluyendo en este tipo de funciones algunas de estadística descriptiva básica.\n",
    " \n",
    "En esta sección estudiamos funciones ya estudiadas previamente con vectores ,pero como veremos podemos configurar su comportamiento para lograr comportamientos específicos para matrices.\n",
    " \n",
    "Podemos utilizar un segundo parámetro llamado **axis** para especificar sobre qué dimensión o eje del vector queremos operar, para el caso de matrices podemos hacerlo por:\n",
    " \n",
    "* axis = 0 : filas,calcula la función deseada a través de filas y devuelve para cada columna un resultado, el resultado es un vector cuyo tamaño es igual al número de columnas de la matriz original.\n",
    "* axis = 1 : columnas,calcula la función deseada a través de columnas ,y devuelve para cada fila un resultado,el resultado es un vector cuyo tamaño es igual al número de de filas de la matriz original.\n",
    "* axis = None: si especificamos axis = None ( o no lo especificamos) el  comportamiento es similar al caso de vectores, se obtiene un único resultado(escalar) para todo el tensor.\n",
    "\n",
    "\n",
    "<img src=\"https://vrzkj25a871bpq7t1ugcgmn9-wpengine.netdna-ssl.com/wp-content/uploads/2018/11/numpy-arrays-have-axes.png\">\n",
    "\n",
    "<img src=\"https://vrzkj25a871bpq7t1ugcgmn9-wpengine.netdna-ssl.com/wp-content/uploads/2018/12/numpy-axes-np-sum-axis-0.png\">"
   ]
  },
  {
   "cell_type": "code",
   "execution_count": 60,
   "metadata": {
    "collapsed": true,
    "executionInfo": {
     "elapsed": 6535,
     "status": "ok",
     "timestamp": 1617673434877,
     "user": {
      "displayName": "Luis Fernando Leal Hernandez",
      "photoUrl": "",
      "userId": "08643725771405988586"
     },
     "user_tz": 300
    },
    "id": "9ycu5wQtpfjl",
    "jupyter": {
     "outputs_hidden": true
    }
   },
   "outputs": [],
   "source": [
    "x = np.array([[1,2,3,4,5],\n",
    "              [6,7,8,9,2]])\n",
    "\n",
    "x_nan = np.array([[1,2,3,4,np.nan],\n",
    "                  [6,8,2,2,16]])"
   ]
  },
  {
   "cell_type": "markdown",
   "metadata": {
    "id": "gKS4c_tGpfjl"
   },
   "source": [
    "Si no especificamos el parametro axis, el comportamiento es similar al obtenido con vectores."
   ]
  },
  {
   "cell_type": "code",
   "execution_count": 61,
   "metadata": {
    "colab": {
     "base_uri": "https://localhost:8080/"
    },
    "executionInfo": {
     "elapsed": 6520,
     "status": "ok",
     "timestamp": 1617673434877,
     "user": {
      "displayName": "Luis Fernando Leal Hernandez",
      "photoUrl": "",
      "userId": "08643725771405988586"
     },
     "user_tz": 300
    },
    "id": "wBIkHKwhpfjl",
    "outputId": "192e4ef1-c44e-4c0a-a7ab-30bcab43eb45"
   },
   "outputs": [
    {
     "name": "stdout",
     "output_type": "stream",
     "text": [
      "9\n",
      "9\n",
      "nan\n",
      "9\n",
      "16.0\n"
     ]
    }
   ],
   "source": [
    "print(np.max(x))\n",
    "print(x.max())\n",
    "print(np.max(x_nan))\n",
    "print(np.nanmax(x))\n",
    "print(np.nanmax(x_nan))"
   ]
  },
  {
   "cell_type": "code",
   "execution_count": 62,
   "metadata": {
    "colab": {
     "base_uri": "https://localhost:8080/"
    },
    "executionInfo": {
     "elapsed": 6493,
     "status": "ok",
     "timestamp": 1617673434878,
     "user": {
      "displayName": "Luis Fernando Leal Hernandez",
      "photoUrl": "",
      "userId": "08643725771405988586"
     },
     "user_tz": 300
    },
    "id": "VfvWfB8dpfjl",
    "outputId": "d5abc757-9727-42b1-ca8c-ccb73ee268eb"
   },
   "outputs": [
    {
     "data": {
      "text/plain": [
       "array([[1, 2, 3, 4, 5],\n",
       "       [6, 7, 8, 9, 2]])"
      ]
     },
     "execution_count": 62,
     "metadata": {
      "tags": []
     },
     "output_type": "execute_result"
    }
   ],
   "source": [
    "x"
   ]
  },
  {
   "cell_type": "code",
   "execution_count": 63,
   "metadata": {
    "colab": {
     "base_uri": "https://localhost:8080/"
    },
    "executionInfo": {
     "elapsed": 6846,
     "status": "ok",
     "timestamp": 1617673435254,
     "user": {
      "displayName": "Luis Fernando Leal Hernandez",
      "photoUrl": "",
      "userId": "08643725771405988586"
     },
     "user_tz": 300
    },
    "id": "Tnb2MRGypfjl",
    "outputId": "84e5f72f-5740-4d2b-b600-332b2a4e48ee"
   },
   "outputs": [
    {
     "name": "stdout",
     "output_type": "stream",
     "text": [
      "Maximo de cada fíla de x a traves de las columnas:\n",
      "[5 9]\n",
      "Maximo de cada cada columna de x a traves de las filas:\n",
      "[6 7 8 9 5]\n",
      "Maximo de cada cada columna de x_nan a traves de las filas:\n",
      "[ 6.  8.  3.  4. nan]\n",
      "Maximo ignorando nans de cada fíla de x a traves de las columnas:\n",
      "[5 9]\n",
      "Maximo de cada fila a traves de columnas de x_nan,ignorando nans:\n",
      "[ 4. 16.]\n"
     ]
    }
   ],
   "source": [
    "#al usar axis con matrices que contienen nan se obtiene nan solo en la fila o columna que posea valores nan\n",
    "#siimlar al caso de vectores podemos usar nanmax para ignorar nans\n",
    "\n",
    "print(\"Maximo de cada fíla de x a traves de las columnas:\")\n",
    "print(np.max(x,axis = 1))\n",
    "print(\"Maximo de cada cada columna de x a traves de las filas:\")\n",
    "print(x.max(axis=0))\n",
    "print(\"Maximo de cada cada columna de x_nan a traves de las filas:\")\n",
    "print(np.max(x_nan,axis=0))\n",
    "print(\"Maximo ignorando nans de cada fíla de x a traves de las columnas:\")\n",
    "print(np.nanmax(x,axis=1))\n",
    "print(\"Maximo de cada fila a traves de columnas de x_nan,ignorando nans:\")\n",
    "print(np.nanmax(x_nan,axis=1))"
   ]
  },
  {
   "cell_type": "code",
   "execution_count": 64,
   "metadata": {
    "colab": {
     "base_uri": "https://localhost:8080/"
    },
    "executionInfo": {
     "elapsed": 6830,
     "status": "ok",
     "timestamp": 1617673435255,
     "user": {
      "displayName": "Luis Fernando Leal Hernandez",
      "photoUrl": "",
      "userId": "08643725771405988586"
     },
     "user_tz": 300
    },
    "id": "IP37WtvJpfjl",
    "outputId": "6325aaa2-f642-4ed0-d095-977ad4bb5794"
   },
   "outputs": [
    {
     "name": "stdout",
     "output_type": "stream",
     "text": [
      "Minimo general de la matriz x:\n",
      "1\n",
      "Minimo general ignorando valores nan de la matriz x_nan:\n",
      "4\n",
      "Minimo de cada fíla de x a traves de las columnas:\n",
      "[1 2]\n",
      "Minimo de cada cada columna de x a traves de las filas:\n",
      "[1 2 3 4 2]\n",
      "Minimo de cada cada columna de x_nan a traves de las filas:\n",
      "[ 1.  2.  2.  2. nan]\n",
      "Minimo ignorando nans de cada fíla de x a traves de las columnas:\n",
      "[1 2]\n",
      "Minimo de cada fila a traves de columnas de x_nan,ignorando nans:\n",
      "[1. 2.]\n"
     ]
    }
   ],
   "source": [
    "#al usar axis con matrices que contienen nan se obtiene nan solo en la fila o columna que posea valores nan\n",
    "#siimlar al caso de vectores podemos usar nanmin para ignorar nans\n",
    "\n",
    "print(\"Minimo general de la matriz x:\")\n",
    "print(np.min(x))\n",
    "print(\"Minimo general ignorando valores nan de la matriz x_nan:\")\n",
    "print(np.argmin(x_nan))\n",
    "print(\"Minimo de cada fíla de x a traves de las columnas:\")\n",
    "print(np.min(x,axis = 1))\n",
    "print(\"Minimo de cada cada columna de x a traves de las filas:\")\n",
    "print(x.min(axis=0))\n",
    "print(\"Minimo de cada cada columna de x_nan a traves de las filas:\")\n",
    "print(np.min(x_nan,axis=0))\n",
    "print(\"Minimo ignorando nans de cada fíla de x a traves de las columnas:\")\n",
    "print(np.nanmin(x,axis=1))\n",
    "print(\"Minimo de cada fila a traves de columnas de x_nan,ignorando nans:\")\n",
    "print(np.nanmin(x_nan,axis=1))"
   ]
  },
  {
   "cell_type": "markdown",
   "metadata": {
    "id": "vy-nCXxapfjm"
   },
   "source": [
    "#### argmax y argmin para matrices\n",
    " \n",
    "Al estudiar vectores las funciones argmax y argmin nos proveían una forma de encontrar la posición(o índice) del valor máximo o mínimo del vector. Para matrices debemos especificar el comportamiento deseado nuevamente a través del parámetro axis, cuando este es 0 o 1 el comportamiento es similar al ya visto previamente, pero cuando este no es especificado o se usa el valor None necesitamos poner atención al comportamiento: **La matriz es interpretada como un vector obtenido al colapsar todas las filas de la matriz** y argmax,argmin se comportará como si se aplicaran sobre este vector."
   ]
  },
  {
   "cell_type": "code",
   "execution_count": 65,
   "metadata": {
    "colab": {
     "base_uri": "https://localhost:8080/"
    },
    "executionInfo": {
     "elapsed": 6806,
     "status": "ok",
     "timestamp": 1617673435256,
     "user": {
      "displayName": "Luis Fernando Leal Hernandez",
      "photoUrl": "",
      "userId": "08643725771405988586"
     },
     "user_tz": 300
    },
    "id": "3UtMvJtjpfjm",
    "outputId": "a6fc4348-8489-4f3b-8877-02140e2de426"
   },
   "outputs": [
    {
     "name": "stdout",
     "output_type": "stream",
     "text": [
      "[[ 4  6  3]\n",
      " [ 2  1 11]\n",
      " [ 5  9 10]]\n"
     ]
    }
   ],
   "source": [
    "x = np.array([[4,6,3],\n",
    "              [2,1,11],\n",
    "              [5,9,10]])\n",
    "print(x)"
   ]
  },
  {
   "cell_type": "code",
   "execution_count": 66,
   "metadata": {
    "colab": {
     "base_uri": "https://localhost:8080/"
    },
    "executionInfo": {
     "elapsed": 6788,
     "status": "ok",
     "timestamp": 1617673435257,
     "user": {
      "displayName": "Luis Fernando Leal Hernandez",
      "photoUrl": "",
      "userId": "08643725771405988586"
     },
     "user_tz": 300
    },
    "id": "7jSFTekRpfjm",
    "outputId": "7e38fc5b-8b47-4856-cc97-cd2155a4e68c"
   },
   "outputs": [
    {
     "data": {
      "text/plain": [
       "array([1, 2, 2])"
      ]
     },
     "execution_count": 66,
     "metadata": {
      "tags": []
     },
     "output_type": "execute_result"
    }
   ],
   "source": [
    "np.argmax(x,axis = 1)"
   ]
  },
  {
   "cell_type": "code",
   "execution_count": 67,
   "metadata": {
    "colab": {
     "base_uri": "https://localhost:8080/"
    },
    "executionInfo": {
     "elapsed": 6766,
     "status": "ok",
     "timestamp": 1617673435257,
     "user": {
      "displayName": "Luis Fernando Leal Hernandez",
      "photoUrl": "",
      "userId": "08643725771405988586"
     },
     "user_tz": 300
    },
    "id": "gHg_ffQVpfjm",
    "outputId": "be8ff841-a393-4686-d557-77c9ffdc7e8c"
   },
   "outputs": [
    {
     "name": "stdout",
     "output_type": "stream",
     "text": [
      "[2 1 3]\n",
      "[1 1 0]\n"
     ]
    }
   ],
   "source": [
    "print(x.min(axis=0))\n",
    "print(np.argmin(x,axis=0))\n"
   ]
  },
  {
   "cell_type": "code",
   "execution_count": 68,
   "metadata": {
    "colab": {
     "base_uri": "https://localhost:8080/"
    },
    "executionInfo": {
     "elapsed": 6745,
     "status": "ok",
     "timestamp": 1617673435258,
     "user": {
      "displayName": "Luis Fernando Leal Hernandez",
      "photoUrl": "",
      "userId": "08643725771405988586"
     },
     "user_tz": 300
    },
    "id": "qBSWjXMppfjm",
    "outputId": "a11c62f6-cf29-47fe-d0fc-24f51126a66e"
   },
   "outputs": [
    {
     "name": "stdout",
     "output_type": "stream",
     "text": [
      "[ 6 11 10]\n",
      "[1 2 2]\n"
     ]
    }
   ],
   "source": [
    "print(x.max(axis=1))\n",
    "print(np.argmax(x,axis=1))\n"
   ]
  },
  {
   "cell_type": "code",
   "execution_count": 69,
   "metadata": {
    "colab": {
     "base_uri": "https://localhost:8080/"
    },
    "executionInfo": {
     "elapsed": 6715,
     "status": "ok",
     "timestamp": 1617673435258,
     "user": {
      "displayName": "Luis Fernando Leal Hernandez",
      "photoUrl": "",
      "userId": "08643725771405988586"
     },
     "user_tz": 300
    },
    "id": "BpUjJPwnpfjn",
    "outputId": "6c6dd9b2-8442-4a8e-8e46-1eb06cffde0c"
   },
   "outputs": [
    {
     "data": {
      "text/plain": [
       "array([[ 4,  6,  3],\n",
       "       [ 2,  1, 11],\n",
       "       [ 5,  9, 10]])"
      ]
     },
     "execution_count": 69,
     "metadata": {
      "tags": []
     },
     "output_type": "execute_result"
    }
   ],
   "source": [
    "x"
   ]
  },
  {
   "cell_type": "code",
   "execution_count": 70,
   "metadata": {
    "colab": {
     "base_uri": "https://localhost:8080/"
    },
    "executionInfo": {
     "elapsed": 6700,
     "status": "ok",
     "timestamp": 1617673435259,
     "user": {
      "displayName": "Luis Fernando Leal Hernandez",
      "photoUrl": "",
      "userId": "08643725771405988586"
     },
     "user_tz": 300
    },
    "id": "SZlAlS8upfjn",
    "outputId": "adeb8fde-e4af-4f00-d2e3-562a4362755e"
   },
   "outputs": [
    {
     "name": "stdout",
     "output_type": "stream",
     "text": [
      "4 5\n"
     ]
    }
   ],
   "source": [
    "print(np.argmin(x),np.argmax(x))"
   ]
  },
  {
   "cell_type": "markdown",
   "metadata": {
    "id": "4ri8moU5pfjn"
   },
   "source": [
    "El resultado de aplicar argmin y argmax sobre la matriz sin especificar el axis es equivalente a el siguiente código:"
   ]
  },
  {
   "cell_type": "code",
   "execution_count": 71,
   "metadata": {
    "colab": {
     "base_uri": "https://localhost:8080/"
    },
    "executionInfo": {
     "elapsed": 6672,
     "status": "ok",
     "timestamp": 1617673435259,
     "user": {
      "displayName": "Luis Fernando Leal Hernandez",
      "photoUrl": "",
      "userId": "08643725771405988586"
     },
     "user_tz": 300
    },
    "id": "urj8DVKYpfjn",
    "outputId": "8c148eaf-ab63-4710-d84d-cde503374de8"
   },
   "outputs": [
    {
     "data": {
      "text/plain": [
       "array([ 4,  6,  3,  2,  1, 11,  5,  9, 10])"
      ]
     },
     "execution_count": 71,
     "metadata": {
      "tags": []
     },
     "output_type": "execute_result"
    }
   ],
   "source": [
    "x_vector = np.reshape(x,-1)\n",
    "\n",
    "x_vector"
   ]
  },
  {
   "cell_type": "code",
   "execution_count": 72,
   "metadata": {
    "colab": {
     "base_uri": "https://localhost:8080/"
    },
    "executionInfo": {
     "elapsed": 6656,
     "status": "ok",
     "timestamp": 1617673435260,
     "user": {
      "displayName": "Luis Fernando Leal Hernandez",
      "photoUrl": "",
      "userId": "08643725771405988586"
     },
     "user_tz": 300
    },
    "id": "bJU-vqBapfjn",
    "outputId": "50e9d947-2211-496d-9af9-208c78c632b1"
   },
   "outputs": [
    {
     "name": "stdout",
     "output_type": "stream",
     "text": [
      "4 5\n"
     ]
    }
   ],
   "source": [
    "print(np.argmin(x_vector),np.argmax(x_vector))"
   ]
  },
  {
   "cell_type": "markdown",
   "metadata": {
    "id": "EHdS43NCpfjn"
   },
   "source": [
    "## Ejemplo función de valor Q\n",
    "\n",
    "Q(s,a) = "
   ]
  },
  {
   "cell_type": "code",
   "execution_count": 73,
   "metadata": {
    "colab": {
     "base_uri": "https://localhost:8080/"
    },
    "executionInfo": {
     "elapsed": 6631,
     "status": "ok",
     "timestamp": 1617673435261,
     "user": {
      "displayName": "Luis Fernando Leal Hernandez",
      "photoUrl": "",
      "userId": "08643725771405988586"
     },
     "user_tz": 300
    },
    "id": "b1Yj7X28pfjo",
    "outputId": "f56c2753-bc0a-4613-8e5a-1c5b66e203a0"
   },
   "outputs": [
    {
     "data": {
      "text/plain": [
       "array([[0.782289  , 0.8662205 , 0.60819003, 0.39167915, 0.04089593],\n",
       "       [0.98454353, 0.62264408, 0.63968661, 0.59425323, 0.83118824],\n",
       "       [0.17661367, 0.11671888, 0.15590146, 0.5409211 , 0.16033541],\n",
       "       [0.59340957, 0.89456387, 0.08252445, 0.35136422, 0.36513397],\n",
       "       [0.30133465, 0.77679389, 0.5197116 , 0.00146407, 0.61231147],\n",
       "       [0.8677813 , 0.3498152 , 0.63820216, 0.08973862, 0.8132594 ],\n",
       "       [0.52685086, 0.51416734, 0.38178882, 0.65709656, 0.56951966],\n",
       "       [0.13473498, 0.7666816 , 0.48760857, 0.98670294, 0.43169942],\n",
       "       [0.98936896, 0.67732833, 0.61119575, 0.737321  , 0.82425952],\n",
       "       [0.7985759 , 0.27947643, 0.99480814, 0.29134909, 0.32193445]])"
      ]
     },
     "execution_count": 73,
     "metadata": {
      "tags": []
     },
     "output_type": "execute_result"
    }
   ],
   "source": [
    "Q  = np.random.rand(10,5)\n",
    "Q"
   ]
  },
  {
   "cell_type": "markdown",
   "metadata": {
    "id": "hcRu-MuIpfjo"
   },
   "source": [
    "Si estoy en el estado 6, cual acción debo tomar?"
   ]
  },
  {
   "cell_type": "code",
   "execution_count": 74,
   "metadata": {
    "colab": {
     "base_uri": "https://localhost:8080/"
    },
    "executionInfo": {
     "elapsed": 6602,
     "status": "ok",
     "timestamp": 1617673435262,
     "user": {
      "displayName": "Luis Fernando Leal Hernandez",
      "photoUrl": "",
      "userId": "08643725771405988586"
     },
     "user_tz": 300
    },
    "id": "r-LjvgYOpfjo",
    "outputId": "e0ca6299-2e0d-4079-955f-268f0851a7e0"
   },
   "outputs": [
    {
     "data": {
      "text/plain": [
       "array([1, 0, 3, 1, 1, 0, 3, 3, 0, 2])"
      ]
     },
     "execution_count": 74,
     "metadata": {
      "tags": []
     },
     "output_type": "execute_result"
    }
   ],
   "source": [
    "mejores_acciones = np.argmax(Q,axis = 1)\n",
    "mejores_acciones"
   ]
  },
  {
   "cell_type": "code",
   "execution_count": 75,
   "metadata": {
    "colab": {
     "base_uri": "https://localhost:8080/"
    },
    "executionInfo": {
     "elapsed": 6577,
     "status": "ok",
     "timestamp": 1617673435263,
     "user": {
      "displayName": "Luis Fernando Leal Hernandez",
      "photoUrl": "",
      "userId": "08643725771405988586"
     },
     "user_tz": 300
    },
    "id": "feZQhW7Gpfjo",
    "outputId": "ff7d71b0-5bb9-49bb-ac2d-be1e5fbbb3a2"
   },
   "outputs": [
    {
     "name": "stdout",
     "output_type": "stream",
     "text": [
      "En estado 6 la acción a tomar es : 3\n"
     ]
    }
   ],
   "source": [
    "\n",
    "print(\"En estado 6 la acción a tomar es :\",mejores_acciones[6]) "
   ]
  },
  {
   "cell_type": "markdown",
   "metadata": {
    "id": "NzFlArQipfjo"
   },
   "source": [
    "https://docs.scipy.org/doc/numpy/reference/generated/numpy.corrcoef.html"
   ]
  },
  {
   "cell_type": "markdown",
   "metadata": {
    "id": "JmijL42Kpfjo"
   },
   "source": [
    "#### suma,producto(normal y acumulativa) para matrices.\n",
    "\n",
    "Nuevamente tenemos en el caso de matrices funciones que también existian en vectores y que pueden ser configuradas para trabajar a través de filas,columnas o general a través del parámetro axis, en este caso tratamos con suma y producto a través de las filas(axis=0), columnas(axis=1) o sobre toda la matriz(axis=None)"
   ]
  },
  {
   "cell_type": "code",
   "execution_count": null,
   "metadata": {
    "id": "rkU_3czRpfjp",
    "outputId": "1e4d6f20-2c08-4a36-fbde-c86f2bfe1a98"
   },
   "outputs": [
    {
     "name": "stdout",
     "output_type": "stream",
     "text": [
      "[[ 4  6  9]\n",
      " [ 2  1 11]]\n"
     ]
    }
   ],
   "source": [
    "x = np.array([[4,6,9],\n",
    "              [2,1,11]])\n",
    "print(x)"
   ]
  },
  {
   "cell_type": "code",
   "execution_count": null,
   "metadata": {
    "id": "iqjzkGZUpfjp",
    "outputId": "4247ab26-2690-49b8-97ba-5a3721581815"
   },
   "outputs": [
    {
     "name": "stdout",
     "output_type": "stream",
     "text": [
      "Dos formas de obtener la suma de todos los elementos de la matriz x:\n",
      "51\n",
      "51\n",
      "Si aplicamos sum() sobre una matriz con al menos un elemento 'nan' el resultado es nan:\n",
      "nan\n",
      "Para ignorar valores 'nan' y sumar el resto podemos usar nansum() en lugar de sum():\n",
      "44.0\n"
     ]
    }
   ],
   "source": [
    "print(\"Dos formas de obtener la suma de todos los elementos de la matriz x:\")\n",
    "print(np.sum(x))\n",
    "print(x.sum())\n",
    "print(\"Si aplicamos sum() sobre una matriz con al menos un elemento 'nan' el resultado es nan:\")\n",
    "print(np.sum(x_nan))\n",
    "print(\"Para ignorar valores 'nan' y sumar el resto podemos usar nansum() en lugar de sum():\")\n",
    "print(np.nansum(x_nan))"
   ]
  },
  {
   "cell_type": "code",
   "execution_count": 76,
   "metadata": {
    "colab": {
     "base_uri": "https://localhost:8080/"
    },
    "executionInfo": {
     "elapsed": 306,
     "status": "ok",
     "timestamp": 1617673529397,
     "user": {
      "displayName": "Luis Fernando Leal Hernandez",
      "photoUrl": "",
      "userId": "08643725771405988586"
     },
     "user_tz": 300
    },
    "id": "HoAdIsMjpfjp",
    "outputId": "62b63550-c178-4d75-cccf-7dca14b3eeb0"
   },
   "outputs": [
    {
     "data": {
      "text/plain": [
       "array([[ 4,  6,  3],\n",
       "       [ 2,  1, 11],\n",
       "       [ 5,  9, 10]])"
      ]
     },
     "execution_count": 76,
     "metadata": {
      "tags": []
     },
     "output_type": "execute_result"
    }
   ],
   "source": [
    "x"
   ]
  },
  {
   "cell_type": "code",
   "execution_count": null,
   "metadata": {
    "id": "7AECnQAHpfjp",
    "outputId": "b29b5f5b-a8ed-4042-a8be-a63fc9dda154"
   },
   "outputs": [
    {
     "name": "stdout",
     "output_type": "stream",
     "text": [
      "[11 16 24]\n",
      "[13 14 24]\n",
      "[ 7. 10.  5.  6. nan]\n",
      "[10. 34.]\n"
     ]
    }
   ],
   "source": [
    "print(np.sum(x,axis=0))\n",
    "print(x.sum(axis=1))\n",
    "print(np.sum(x_nan,axis=0))\n",
    "print(np.nansum(x_nan,axis=1))"
   ]
  },
  {
   "cell_type": "code",
   "execution_count": 79,
   "metadata": {
    "colab": {
     "base_uri": "https://localhost:8080/"
    },
    "executionInfo": {
     "elapsed": 344,
     "status": "ok",
     "timestamp": 1617673663226,
     "user": {
      "displayName": "Luis Fernando Leal Hernandez",
      "photoUrl": "",
      "userId": "08643725771405988586"
     },
     "user_tz": 300
    },
    "id": "fi_EeeS23R-E",
    "outputId": "c64da486-d640-43bb-b532-8e28bc24643d"
   },
   "outputs": [
    {
     "name": "stdout",
     "output_type": "stream",
     "text": [
      "[[ 4  6  3]\n",
      " [ 2  1 11]\n",
      " [ 5  9 10]]\n"
     ]
    }
   ],
   "source": [
    "print(x)"
   ]
  },
  {
   "cell_type": "code",
   "execution_count": 77,
   "metadata": {
    "colab": {
     "base_uri": "https://localhost:8080/"
    },
    "executionInfo": {
     "elapsed": 429,
     "status": "ok",
     "timestamp": 1617673638960,
     "user": {
      "displayName": "Luis Fernando Leal Hernandez",
      "photoUrl": "",
      "userId": "08643725771405988586"
     },
     "user_tz": 300
    },
    "id": "9viSGFqE3Fn7",
    "outputId": "c304b11d-7499-4b60-c22a-1a961b56fea3"
   },
   "outputs": [
    {
     "data": {
      "text/plain": [
       "array([[ 4,  6,  3],\n",
       "       [ 6,  7, 14],\n",
       "       [11, 16, 24]])"
      ]
     },
     "execution_count": 77,
     "metadata": {
      "tags": []
     },
     "output_type": "execute_result"
    }
   ],
   "source": [
    "np.cumsum(x,axis=0)"
   ]
  },
  {
   "cell_type": "code",
   "execution_count": 78,
   "metadata": {
    "colab": {
     "base_uri": "https://localhost:8080/"
    },
    "executionInfo": {
     "elapsed": 470,
     "status": "ok",
     "timestamp": 1617673649971,
     "user": {
      "displayName": "Luis Fernando Leal Hernandez",
      "photoUrl": "",
      "userId": "08643725771405988586"
     },
     "user_tz": 300
    },
    "id": "VMutZSBJ3OZ9",
    "outputId": "338800d9-2322-41ec-fe89-bb57dea87059"
   },
   "outputs": [
    {
     "data": {
      "text/plain": [
       "array([[ 4, 10, 13],\n",
       "       [ 2,  3, 14],\n",
       "       [ 5, 14, 24]])"
      ]
     },
     "execution_count": 78,
     "metadata": {
      "tags": []
     },
     "output_type": "execute_result"
    }
   ],
   "source": [
    "np.cumsum(x,axis=1)"
   ]
  },
  {
   "cell_type": "code",
   "execution_count": 80,
   "metadata": {
    "colab": {
     "base_uri": "https://localhost:8080/"
    },
    "executionInfo": {
     "elapsed": 337,
     "status": "ok",
     "timestamp": 1617673851796,
     "user": {
      "displayName": "Luis Fernando Leal Hernandez",
      "photoUrl": "",
      "userId": "08643725771405988586"
     },
     "user_tz": 300
    },
    "id": "rPZg8WaFpfjq",
    "outputId": "2f020a4a-24ec-4899-eb1c-3968d5ef05b4"
   },
   "outputs": [
    {
     "name": "stdout",
     "output_type": "stream",
     "text": [
      "[ 40  54 330]\n",
      "712800\n",
      "nan\n",
      "73728.0\n"
     ]
    }
   ],
   "source": [
    "print(np.prod(x,axis=0))\n",
    "print(x.prod())\n",
    "print(np.prod(x_nan))\n",
    "print(np.nanprod(x_nan))"
   ]
  },
  {
   "cell_type": "markdown",
   "metadata": {
    "id": "wdeBvX0Opfjq"
   },
   "source": [
    "## Variables categóricas/discretas\n",
    " \n",
    "Hasta ahora hemos trabajado con numpy exclusivamente usando variables numéricas y continuas y hemos dejado por un lado variables categóricas y/o discretas ,pero es necesario también poder trabajar con este tipo de variables ya que están presentes en muchos problemas y por lo tanto en muchos sets de datos.\n",
    " \n",
    "La razón por la cual hemos dejado de lado estas ,es que en programacion numerica/científica(y por lo tanto en ciencia de datos) las variables categóricas y discretas son de cualquier manera convertidas a un equivalente numérico  y este equivalente numérico es usado posteriormente para análisis,modelado,simulación, etc.\n",
    " \n",
    "La representación numérica equivalente para una variable categórica  se llama de manera general : **embedding** , y hay múltiples tipos de embedding así como formas y metodos de calcularlos, una familia muy común es la familia **2vec** por ejemplo:\n",
    "\n",
    "* **word2vec** : convierte una palabra a un vector.\n",
    "* **sentence2vec**: convierte una oracion o frase en un vector.\n",
    "* **doc2vec** : convierte un documento completo en un vector.\n",
    "\n",
    "<img src = \"https://cdn-images-1.medium.com/max/2400/1*2r1yj0zPAuaSGZeQfG6Wtw.png\">\n",
    "\n",
    "<img src =\"https://samyzaf.com/ML/nlp/word2vec2.png\">\n",
    "\n",
    "<img src =\"https://cdn-images-1.medium.com/max/1600/1*e9fy52nkSy9A9AIN3WZSpw.png\">\n",
    "\n",
    "\n",
    "Debido a la influencia y alta relación entre ciencia de datos,machine learning, etc y ciencias básicas como matemática y estadística , es común toparse con otros términos con origen estadístico ,por ejemplo: **variables dummy** que nos llevan a la misma idea: **una representación numérica de una variable categórica y/o discreta**.\n",
    "\n",
    "\n",
    "En data science y machine learning, el tipo mas comun y conocido es:\n",
    "\n",
    "### one-hot encoding\n",
    "\n",
    "One-hot encoding consiste en convertir una variable categórica a un vector de 0s y 1s, el vector tiene tantos elementos como posibles valores puede tomar la variable y se asigna 1 a la posición del vector que representa la categoria \"presente\" en cierta observación y 0 en el resto. Esto queda mejor explicado bajo un ejemplo:\n",
    "\n",
    "<img src=\"https://cdn-images-1.medium.com/max/1600/0*T5jaa2othYfXZX9W.\">\n",
    "\n",
    "<img src=\"https://naadispeaks.files.wordpress.com/2018/04/mtimfxh.png?w=471&h=151\">\n",
    "\n",
    "La implementación en Python puede hacerse de diversas formas y hay paquetes como Tensorflow o Pytorch que nos permiten  hacerlo sobre sus tensores usando funciones pre-definidas, cuando se usa NumPy podemos auxiliarnos  de una matriz identidad para lograrlo."
   ]
  },
  {
   "cell_type": "code",
   "execution_count": 82,
   "metadata": {
    "colab": {
     "base_uri": "https://localhost:8080/"
    },
    "executionInfo": {
     "elapsed": 322,
     "status": "ok",
     "timestamp": 1617675234120,
     "user": {
      "displayName": "Luis Fernando Leal Hernandez",
      "photoUrl": "",
      "userId": "08643725771405988586"
     },
     "user_tz": 300
    },
    "id": "esz0q3Kq9LoO",
    "outputId": "4cf500df-05b6-4275-f62b-1a53524d1445"
   },
   "outputs": [
    {
     "data": {
      "text/plain": [
       "array([[1., 0., 0.],\n",
       "       [0., 1., 0.],\n",
       "       [0., 0., 1.]])"
      ]
     },
     "execution_count": 82,
     "metadata": {
      "tags": []
     },
     "output_type": "execute_result"
    }
   ],
   "source": [
    "categorias = [\"manzana\",\"pollo\",\"brocoli\"]\n",
    "numero_categorias = len(categorias)\n",
    " \n",
    "np.identity(numero_categorias)"
   ]
  },
  {
   "cell_type": "code",
   "execution_count": 84,
   "metadata": {
    "colab": {
     "base_uri": "https://localhost:8080/"
    },
    "executionInfo": {
     "elapsed": 356,
     "status": "ok",
     "timestamp": 1617675383809,
     "user": {
      "displayName": "Luis Fernando Leal Hernandez",
      "photoUrl": "",
      "userId": "08643725771405988586"
     },
     "user_tz": 300
    },
    "id": "yHmrytBApfjq",
    "outputId": "6ed9fef5-cf29-4df9-a386-cfb754251869"
   },
   "outputs": [
    {
     "name": "stdout",
     "output_type": "stream",
     "text": [
      "Vector con numero de categoria:\n",
      "[0 1 1 2 2]\n",
      "Equivalente one-hot encoding:\n",
      "[[1. 0. 0.]\n",
      " [0. 1. 0.]\n",
      " [0. 1. 0.]\n",
      " [0. 0. 1.]\n",
      " [0. 0. 1.]]\n"
     ]
    }
   ],
   "source": [
    "categorias = [\"manzana\",\"pollo\",\"brocoli\"]\n",
    "numero_categorias = len(categorias)\n",
    "\n",
    "numero_categoria = np.array([0,1,1,2,2])\n",
    "categoria_one_hot = np.identity(numero_categorias)[numero_categoria]\n",
    "\n",
    "print(\"Vector con numero de categoria:\")\n",
    "print(numero_categoria)\n",
    "print(\"Equivalente one-hot encoding:\")\n",
    "print(categoria_one_hot)"
   ]
  },
  {
   "cell_type": "code",
   "execution_count": 85,
   "metadata": {
    "colab": {
     "base_uri": "https://localhost:8080/"
    },
    "executionInfo": {
     "elapsed": 361,
     "status": "ok",
     "timestamp": 1617675478497,
     "user": {
      "displayName": "Luis Fernando Leal Hernandez",
      "photoUrl": "",
      "userId": "08643725771405988586"
     },
     "user_tz": 300
    },
    "id": "PT20kglnpfjq",
    "outputId": "836ed985-5db9-4e4d-bfd7-3416016cfed9"
   },
   "outputs": [
    {
     "name": "stdout",
     "output_type": "stream",
     "text": [
      "Vector con numero de categoria:\n",
      "[0 0 1 2 1]\n",
      "Equivalente one-hot encoding:\n",
      "[[1. 0. 0.]\n",
      " [1. 0. 0.]\n",
      " [0. 1. 0.]\n",
      " [0. 0. 1.]\n",
      " [0. 1. 0.]]\n"
     ]
    }
   ],
   "source": [
    "categorias = [\"rojo\",\"amarillo\",\"verde\"]\n",
    "numero_categorias = len(categorias)\n",
    "\n",
    "numero_categoria = np.array([0,0,1,2,1])\n",
    "categoria_one_hot = np.identity(numero_categorias)[numero_categoria]\n",
    "\n",
    "print(\"Vector con numero de categoria:\")\n",
    "print(numero_categoria)\n",
    "print(\"Equivalente one-hot encoding:\")\n",
    "print(categoria_one_hot)"
   ]
  },
  {
   "cell_type": "code",
   "execution_count": null,
   "metadata": {
    "collapsed": true,
    "id": "sxZqP0nnpfjr",
    "jupyter": {
     "outputs_hidden": true
    }
   },
   "outputs": [],
   "source": []
  }
 ],
 "metadata": {
  "colab": {
   "name": "Clase_08_Numpy_y_linalg-Matrices-parte2.ipynb",
   "provenance": []
  },
  "kernelspec": {
   "display_name": "Python 3 (ipykernel)",
   "language": "python",
   "name": "python3"
  },
  "language_info": {
   "codemirror_mode": {
    "name": "ipython",
    "version": 3
   },
   "file_extension": ".py",
   "mimetype": "text/x-python",
   "name": "python",
   "nbconvert_exporter": "python",
   "pygments_lexer": "ipython3",
   "version": "3.7.4"
  }
 },
 "nbformat": 4,
 "nbformat_minor": 4
}
