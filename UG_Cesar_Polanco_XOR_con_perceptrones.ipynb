{
  "nbformat": 4,
  "nbformat_minor": 0,
  "metadata": {
    "colab": {
      "provenance": []
    },
    "kernelspec": {
      "name": "python3",
      "display_name": "Python 3"
    }
  },
  "cells": [
    {
      "cell_type": "markdown",
      "source": [
        "#**Universidad Galileo**\n",
        "##Statistical Learning II - Tarea extra XOR\n",
        "###César Luis Polanco\n",
        "###20062088\n"
      ],
      "metadata": {
        "id": "z1zttUWIF2RE"
      }
    },
    {
      "cell_type": "code",
      "source": [
        "import numpy as np\n",
        "import matplotlib.pyplot as plt\n",
        "import seaborn as sb"
      ],
      "metadata": {
        "id": "AJMXotkKSrCH"
      },
      "execution_count": 43,
      "outputs": []
    },
    {
      "cell_type": "markdown",
      "source": [
        "## Definición de funciones"
      ],
      "metadata": {
        "id": "I-iq6wcQTCb_"
      }
    },
    {
      "cell_type": "code",
      "metadata": {
        "id": "NQWMY-_vMqgx"
      },
      "source": [
        "def operacion_not_vector(x):\n",
        "    b = np.ones(x.shape) #Matriz de 1\n",
        "    b = np.vstack((x,b)).astype(int) #forzar 0-1\n",
        "    a = np.array([[-1,1]])\n",
        "    return np.matmul(a,b)"
      ],
      "execution_count": 9,
      "outputs": []
    },
    {
      "cell_type": "code",
      "source": [
        "m = np.array([1,1,1,0,0,0,0,1,0,1,0,1,1])\n",
        "print(operacion_not_vector(m))"
      ],
      "metadata": {
        "colab": {
          "base_uri": "https://localhost:8080/"
        },
        "id": "FJV7IW0uSjXJ",
        "outputId": "9be5f0bc-8038-40ea-9144-2d5a25f2a7eb"
      },
      "execution_count": 10,
      "outputs": [
        {
          "output_type": "stream",
          "name": "stdout",
          "text": [
            "[[0 0 0 1 1 1 1 0 1 0 1 0 0]]\n"
          ]
        }
      ]
    },
    {
      "cell_type": "code",
      "source": [
        "def operacion_and(x1, x2):\n",
        "    return np.int_((x1 * x2)> 0)"
      ],
      "metadata": {
        "id": "JMKo8u3BSmcU"
      },
      "execution_count": 11,
      "outputs": []
    },
    {
      "cell_type": "code",
      "source": [
        "a= np.array([1,0,1,0,1,0])\n",
        "b= np.array([0,1,0,1,1,0])\n",
        "\n",
        "operacion_and(a, b)\n"
      ],
      "metadata": {
        "colab": {
          "base_uri": "https://localhost:8080/"
        },
        "id": "iTk2GFjTSonF",
        "outputId": "4983fcc4-b4dd-4b32-c386-8a700da29410"
      },
      "execution_count": 12,
      "outputs": [
        {
          "output_type": "execute_result",
          "data": {
            "text/plain": [
              "array([0, 0, 0, 0, 1, 0])"
            ]
          },
          "metadata": {},
          "execution_count": 12
        }
      ]
    },
    {
      "cell_type": "code",
      "source": [
        "def operacion_or(x1,x2):\n",
        "    return np.int_((x1 + x2)> 0)"
      ],
      "metadata": {
        "id": "2FQHCKp-SuYr"
      },
      "execution_count": 15,
      "outputs": []
    },
    {
      "cell_type": "code",
      "source": [
        "a= np.array([1,0,1,0,1,0])\n",
        "b= np.array([0,1,0,1,1,0])\n",
        "\n",
        "operacion_or(a, b)"
      ],
      "metadata": {
        "colab": {
          "base_uri": "https://localhost:8080/"
        },
        "id": "8YsEddcESwg6",
        "outputId": "f9becb82-dd27-44b7-cb80-467625c632d3"
      },
      "execution_count": 16,
      "outputs": [
        {
          "output_type": "execute_result",
          "data": {
            "text/plain": [
              "array([1, 1, 1, 1, 1, 0])"
            ]
          },
          "metadata": {},
          "execution_count": 16
        }
      ]
    },
    {
      "cell_type": "code",
      "source": [
        "def operacion_xor(x1,x2): \n",
        "    return operacion_and(operacion_not_vector(operacion_and(x1,x2)),operacion_or(x1,x2))"
      ],
      "metadata": {
        "id": "aaOdnbESS0YH"
      },
      "execution_count": 17,
      "outputs": []
    },
    {
      "cell_type": "code",
      "source": [
        "a= np.array([1,0,1,0,1,0])\n",
        "b= np.array([0,1,0,1,1,0])\n",
        "operacion_xor(a, b)"
      ],
      "metadata": {
        "colab": {
          "base_uri": "https://localhost:8080/"
        },
        "id": "TVjOWGSPS25E",
        "outputId": "b20fd89b-6d03-4654-af8c-a9297dea60ed"
      },
      "execution_count": 18,
      "outputs": [
        {
          "output_type": "execute_result",
          "data": {
            "text/plain": [
              "array([[1, 1, 1, 1, 0, 0]])"
            ]
          },
          "metadata": {},
          "execution_count": 18
        }
      ]
    },
    {
      "cell_type": "markdown",
      "source": [
        "## Definición de perceptrones"
      ],
      "metadata": {
        "id": "4InNBW6HTFFX"
      }
    },
    {
      "cell_type": "code",
      "source": [
        "def perceptron_and(a,b):\n",
        "    c = np.vstack((a,b)) #stack\n",
        "    w = np.ones(c.shape[0])\n",
        "    return np.int_(np.matmul(w,c)> 1) #Step-function"
      ],
      "metadata": {
        "id": "gGjuXvT8TWuN"
      },
      "execution_count": 32,
      "outputs": []
    },
    {
      "cell_type": "code",
      "source": [
        "a= np.array([1,0,1,0,1,0])\n",
        "b= np.array([0,1,1,1,1,0])\n",
        "perceptron_and(a, b)"
      ],
      "metadata": {
        "colab": {
          "base_uri": "https://localhost:8080/"
        },
        "id": "YOH6GHI7T8ZB",
        "outputId": "6d20c675-accd-4217-e3b7-1c2d97e1b986"
      },
      "execution_count": 31,
      "outputs": [
        {
          "output_type": "execute_result",
          "data": {
            "text/plain": [
              "array([0, 0, 1, 0, 1, 0])"
            ]
          },
          "metadata": {},
          "execution_count": 31
        }
      ]
    },
    {
      "cell_type": "code",
      "source": [
        "def perceptron_or(a,b):    \n",
        "  c = np.vstack((a,b))\n",
        "  w = np.ones(c.shape[0])\n",
        "  return np.int_(np.matmul(w,c)> 0) #Step-function"
      ],
      "metadata": {
        "id": "FSw5DC7DU56j"
      },
      "execution_count": 33,
      "outputs": []
    },
    {
      "cell_type": "code",
      "source": [
        "a= np.array([1,0,1,0,1,0])\n",
        "b= np.array([0,1,1,1,1,0])\n",
        "perceptron_or(a, b)"
      ],
      "metadata": {
        "colab": {
          "base_uri": "https://localhost:8080/"
        },
        "id": "ZAjxJ59_VSTZ",
        "outputId": "3c612690-c65a-4bac-dbe3-87757865a5f9"
      },
      "execution_count": 34,
      "outputs": [
        {
          "output_type": "execute_result",
          "data": {
            "text/plain": [
              "array([1, 1, 1, 1, 1, 0])"
            ]
          },
          "metadata": {},
          "execution_count": 34
        }
      ]
    },
    {
      "cell_type": "code",
      "source": [
        "def perceptron_xor(a,b):\n",
        "  return perceptron_and(operacion_not_vector(perceptron_and(a,b)),perceptron_or(a,b))"
      ],
      "metadata": {
        "id": "WyPl2fJKVwm4"
      },
      "execution_count": 41,
      "outputs": []
    },
    {
      "cell_type": "code",
      "source": [
        "a= np.array([1,0,1,0,1,0])\n",
        "b= np.array([0,1,1,1,1,0])\n",
        "perceptron_xor(a, b)"
      ],
      "metadata": {
        "colab": {
          "base_uri": "https://localhost:8080/"
        },
        "id": "Gaqpc76_WIk8",
        "outputId": "90329472-6b3e-49c6-ddcc-1dece2fc7c5c"
      },
      "execution_count": 42,
      "outputs": [
        {
          "output_type": "execute_result",
          "data": {
            "text/plain": [
              "array([1, 1, 0, 1, 0, 0])"
            ]
          },
          "metadata": {},
          "execution_count": 42
        }
      ]
    },
    {
      "cell_type": "markdown",
      "source": [
        "## Graficar resultados"
      ],
      "metadata": {
        "id": "7i2cFf0LXTTq"
      }
    },
    {
      "cell_type": "code",
      "source": [
        "a= np.array([1,1,0,0])\n",
        "b= np.array([0,1,0,1])\n",
        "\n",
        "p_and = perceptron_and(a,b)\n",
        "p_or = perceptron_or(a,b)\n",
        "vnot = operacion_not_vector(p_and)\n",
        "\n",
        "sb.scatterplot(x=p_and, y=p_or,s=25, hue=xor)"
      ],
      "metadata": {
        "colab": {
          "base_uri": "https://localhost:8080/",
          "height": 282
        },
        "id": "GaaKtG-SXU6t",
        "outputId": "14619201-0657-468b-8716-c72e4da05d29"
      },
      "execution_count": 46,
      "outputs": [
        {
          "output_type": "execute_result",
          "data": {
            "text/plain": [
              "<matplotlib.axes._subplots.AxesSubplot at 0x7fc8dec39fd0>"
            ]
          },
          "metadata": {},
          "execution_count": 46
        },
        {
          "output_type": "display_data",
          "data": {
            "text/plain": [
              "<Figure size 432x288 with 1 Axes>"
            ],
            "image/png": "[encoded data removed]"
          },
          "metadata": {
            "needs_background": "light"
          }
        }
      ]
    },
    {
      "cell_type": "markdown",
      "source": [
        "## Conclusiones\n",
        "\n",
        "El manejo de la función step en conjunto con la descomposición de funciones (and,not,or) facilita encontrar la linealidad de los datos. De esta manera se puede separar los valores 0 y 1"
      ],
      "metadata": {
        "id": "iHq-ylEZYERy"
      }
    }
  ]
}