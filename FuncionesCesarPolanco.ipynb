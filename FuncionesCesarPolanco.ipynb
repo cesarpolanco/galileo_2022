{
 "cells": [
  {
   "cell_type": "markdown",
   "id": "f2072a19-ed49-41d5-8314-d050ceb6d316",
   "metadata": {},
   "source": [
    "# Universidad Galileo"
   ]
  },
  {
   "cell_type": "markdown",
   "id": "6b542ac7-7232-4689-a8fa-d1e6b3957f51",
   "metadata": {},
   "source": [
    "### César Luis Polanco - 20062088"
   ]
  },
  {
   "cell_type": "markdown",
   "id": "89270505-5c0c-4418-a2d6-c1441c190bf1",
   "metadata": {},
   "source": [
    "\n",
    "# Funciones en Python"
   ]
  },
  {
   "cell_type": "markdown",
   "id": "f780ebaf-6130-48df-9e3e-75616bda851f",
   "metadata": {},
   "source": [
    "## Definción de una función"
   ]
  },
  {
   "cell_type": "markdown",
   "id": "dce50943-4710-48e3-962f-c5395cbe6f3c",
   "metadata": {},
   "source": [
    "Es el conjunto de código que se puede agrupar , cada función lleva por lo general el nombre, el tipo de dato que esta pueda devolver así y en algunas ocaciones los parámetros necesarios para poder ejecutarlas.\n",
    "\n",
    "La mayor ventaja de utilizar las funciones es la encapsulación de código, así como la reutilización del mismo.\n",
    "\n",
    "En python, como en cualquier lenguaje de programación, existen múltiples funciones predefinidas que se pueden utilizar, así como la posibilidad de poder crear nuevas funciones de acuerdo a los distintos casos de uso.\n"
   ]
  },
  {
   "cell_type": "markdown",
   "id": "74576dd9-db0e-4898-abd3-80f4e9e4a2c8",
   "metadata": {
    "tags": []
   },
   "source": [
    "### Sintaxis para crear una función\n",
    " **def** *[Nombre]* ( *[Parametro1],[Parametro2]...[ParametroN]* ):<br>\n",
    "    [Return]"
   ]
  },
  {
   "cell_type": "markdown",
   "id": "9ab6292e-61d2-4c9c-b9cb-3cf0ea637518",
   "metadata": {},
   "source": [
    "Como se puede observar , en python a diferencia de otros lenguaje de programación, únicamente es obligatorio la palabra reservada def y el nombre, tanto el tipo de datos y el el retorno son opcionales."
   ]
  },
  {
   "cell_type": "markdown",
   "id": "b98979f1-686d-4b00-a2a3-2b597b6a4d41",
   "metadata": {},
   "source": [
    "### Ejmemplos para crear funciones"
   ]
  },
  {
   "cell_type": "code",
   "execution_count": 7,
   "id": "6dc66f4d-8b26-4943-a463-d960754c5e38",
   "metadata": {},
   "outputs": [],
   "source": [
    "def funcionSinParametrosNiRetorno ():\n",
    "    print(\"Esta fue una función que no recibió ningún parámetro o retorno\")"
   ]
  },
  {
   "cell_type": "code",
   "execution_count": 12,
   "id": "f57b901d-22e6-4ab4-afc5-605f4e9b9f5b",
   "metadata": {},
   "outputs": [],
   "source": [
    "def funcionConParametro(a,b):\n",
    "    return a-b"
   ]
  },
  {
   "cell_type": "markdown",
   "id": "2ee7a1a8-b4d1-401d-91da-e093ec0dee74",
   "metadata": {},
   "source": [
    "En el primer ejemplo, se da a conocer lo mínimo que puede llevar una función para que pueda realizar una operación.\n",
    "\n",
    "En el segundo ejemplo se obtiene dos parámetros y estos se suman (caso muy particular del ejemplo).\n",
    "\n",
    "Punto adicional, ejecutar las funciones no realiza las operaciones dentro de la función, al igual que otros lenguajes de programación, definir una función (escribir su código) no ejecuta el código dentro de la misma hasta que se hace un llamado dentro del programa."
   ]
  },
  {
   "cell_type": "markdown",
   "id": "455c0ab8-bfbb-4a0c-aabf-fcf1180e907f",
   "metadata": {},
   "source": [
    "### Ejecutando funciones"
   ]
  },
  {
   "cell_type": "code",
   "execution_count": 10,
   "id": "3c36b0ba-f13d-4b3d-bb93-b772df8fdfff",
   "metadata": {},
   "outputs": [
    {
     "name": "stdout",
     "output_type": "stream",
     "text": [
      "Esta fue una función que no recibió ningún parámetro o retorno\n"
     ]
    }
   ],
   "source": [
    "#Primer ejemplo\n",
    "funcionSinParametrosNiRetorno()"
   ]
  },
  {
   "cell_type": "code",
   "execution_count": 14,
   "id": "6795054a-ede7-43ad-b46d-37c4f3cc209c",
   "metadata": {},
   "outputs": [
    {
     "data": {
      "text/plain": [
       "1"
      ]
     },
     "execution_count": 14,
     "metadata": {},
     "output_type": "execute_result"
    }
   ],
   "source": [
    "#Segundo ejemplo\n",
    "funcionConParametro(3,2)"
   ]
  },
  {
   "cell_type": "markdown",
   "id": "c11fecb8-8b14-4638-8c03-43d410b4e1f2",
   "metadata": {},
   "source": [
    "En el código anterior, se calcula la resta de los números enviados en los parámetros el cual puede ser un valor capturado (almacenado en una variable para su posterior uso)"
   ]
  },
  {
   "cell_type": "markdown",
   "id": "3ecc3b11-1d20-46c7-8f04-643a09beef04",
   "metadata": {},
   "source": [
    "## Tipos de Funciones"
   ]
  },
  {
   "cell_type": "markdown",
   "id": "ef6800b5-606c-48b1-a699-081223ed45ad",
   "metadata": {},
   "source": [
    "### Funciones con parámetros posicionales"
   ]
  },
  {
   "cell_type": "markdown",
   "id": "6bd4fa30-ebb4-4d89-8374-a8e37fde893a",
   "metadata": {},
   "source": [
    "Tomando la ejecución del segundo ejemplo, **funcionConParametro(3,2)** \n",
    "\n",
    "Por definición, se considera una función con parámetros posicionales dado que el valor de 3 y 2 serán almacenados en la variable a y b respectivamente *(a y b se encuentran definidos en ese orden en la definición de la función)*\n",
    "\n",
    "No olvidemos $a-b$ $\\not=$ $b-a$ donde $a \\not= b$\n"
   ]
  },
  {
   "cell_type": "markdown",
   "id": "7b50e82f-2361-41da-a01a-9f3b1782c434",
   "metadata": {},
   "source": [
    "### Funciones con parámetros nombrados"
   ]
  },
  {
   "cell_type": "markdown",
   "id": "93ce2ce8-d705-409f-a521-77101008e8f4",
   "metadata": {},
   "source": [
    "Para convertir la ejecución  **funcionConParametro(3,2)** a un parámetro nombrado basta con hacer un pequeño ajuste\n",
    "\n",
    "**funcionConParametro(b=3,a=2)**"
   ]
  },
  {
   "cell_type": "code",
   "execution_count": 17,
   "id": "e5d07c2d-0412-4695-a7f4-65db13076a34",
   "metadata": {},
   "outputs": [
    {
     "data": {
      "text/plain": [
       "-1"
      ]
     },
     "execution_count": 17,
     "metadata": {},
     "output_type": "execute_result"
    }
   ],
   "source": [
    "#Ejecutando la función parámetros nombrados\n",
    "funcionConParametro(b=3,a=2)"
   ]
  },
  {
   "cell_type": "markdown",
   "id": "2774753f-f66a-4dab-b217-2231a4aaec0d",
   "metadata": {},
   "source": [
    "El resultado fue cambiado a -1 porque se nombró el valor de cada parámetro de acuerdo al valor."
   ]
  },
  {
   "cell_type": "markdown",
   "id": "84410dc9-ef96-4993-9790-94e2ddde5431",
   "metadata": {},
   "source": [
    "### Funciones con múltiples retornos"
   ]
  },
  {
   "cell_type": "markdown",
   "id": "50a5daea-e60c-4ce8-b365-98663c90ebf9",
   "metadata": {},
   "source": [
    "Las funciones en python pueden devolver 1 o más valores y cada uno de los valores puede ser de tipo distinto\n",
    "\n",
    "Por ejemplo"
   ]
  },
  {
   "cell_type": "code",
   "execution_count": 21,
   "id": "cb6afc8d-4f08-417e-89e6-e808100667c9",
   "metadata": {},
   "outputs": [],
   "source": [
    "def fun_varios_Param(a,b):\n",
    "    l=[]\n",
    "    l.append(a)\n",
    "    l.append(b)\n",
    "    return a*5, l , b"
   ]
  },
  {
   "cell_type": "markdown",
   "id": "11620494-d78c-4d5a-9c2e-87d137743d5e",
   "metadata": {},
   "source": [
    "para capturar los tres valores, basta con enumerarlos en el orden que se reciben de la función:"
   ]
  },
  {
   "cell_type": "code",
   "execution_count": 22,
   "id": "d0c0335c-9208-4418-b717-07d753cdb666",
   "metadata": {},
   "outputs": [],
   "source": [
    "val1,val2,val3 = fun_varios_Param(2,\"Hola\")"
   ]
  },
  {
   "cell_type": "code",
   "execution_count": 23,
   "id": "1eab8602-5014-4505-ae77-6d9b141a8b4a",
   "metadata": {},
   "outputs": [
    {
     "name": "stdout",
     "output_type": "stream",
     "text": [
      "10\n"
     ]
    }
   ],
   "source": [
    "print(val1)"
   ]
  },
  {
   "cell_type": "code",
   "execution_count": 24,
   "id": "459c9457-4385-420e-992a-4604d86adc78",
   "metadata": {},
   "outputs": [
    {
     "name": "stdout",
     "output_type": "stream",
     "text": [
      "[2, 'Hola']\n"
     ]
    }
   ],
   "source": [
    "print(val2)"
   ]
  },
  {
   "cell_type": "code",
   "execution_count": 25,
   "id": "0863f85e-d8b4-4165-abd4-0369af6a3ea5",
   "metadata": {},
   "outputs": [
    {
     "name": "stdout",
     "output_type": "stream",
     "text": [
      "Hola\n"
     ]
    }
   ],
   "source": [
    "print(val3)"
   ]
  },
  {
   "cell_type": "markdown",
   "id": "5af48c5d-77e3-4691-9da4-f94b6127570a",
   "metadata": {},
   "source": [
    "En el caso anterior, se puede observar varias cosas:\n",
    " \n",
    " 1. La función tiene 2 parámetro distintos , número entero y una cadena de caracteres\n",
    " 2. La función crea un tercer objeto que fue creado en la función pero devuelto en la función\n",
    " 3. El retorno de la función no necesita un orden, pero si se debe de tener cuidado en la asignación de las variables."
   ]
  },
  {
   "cell_type": "markdown",
   "id": "6f95173b-740c-4345-a548-2f2807849adb",
   "metadata": {},
   "source": [
    "### Funciones como objetos"
   ]
  },
  {
   "cell_type": "markdown",
   "id": "a6f26c5e-8d44-449a-a4f1-e0e231ba9f12",
   "metadata": {},
   "source": [
    "El ejemplo más común para entender este concepto, es pensar en funciones que se ejecutan en parámetros de otras funciones.\n",
    "\n",
    "*No olvidar que al momento de defininir una función , dependiendo de la cantidad de valores y sus tipos de retorno se puede realizar esta funcionalidad*"
   ]
  },
  {
   "cell_type": "code",
   "execution_count": 30,
   "id": "e007aa3d-1208-4c92-9052-ec97bfe5ec40",
   "metadata": {},
   "outputs": [],
   "source": [
    "def isScreaming(a):\n",
    "    if a.isupper():\n",
    "        print(\"Please lower your voice\")\n",
    "    else:\n",
    "        print(\"Hello there\")"
   ]
  },
  {
   "cell_type": "code",
   "execution_count": 32,
   "id": "3fe8b907-127b-4f33-af16-4a7522c3d13f",
   "metadata": {},
   "outputs": [
    {
     "name": "stdout",
     "output_type": "stream",
     "text": [
      "Please lower your voice\n",
      "Hello there\n"
     ]
    }
   ],
   "source": [
    "message = \"hola\"\n",
    "isScreaming(message.upper())\n",
    "isScreaming(message)"
   ]
  },
  {
   "cell_type": "markdown",
   "id": "2b282787-ff1f-4445-a28d-f3a0e7ed24f7",
   "metadata": {},
   "source": [
    "### Funciones Lambda"
   ]
  },
  {
   "cell_type": "markdown",
   "id": "034762cb-ee15-4598-938b-2ac9d04c1801",
   "metadata": {},
   "source": [
    "Tambien conocidas como funciones anónimas, su principal diferencia es que no se definen con la palabra reservada \"**def**\", dado que no se generan con un nombre se dicen que son anónimas. Otra característica importante es que se ejecutan en una línea de código.\n",
    "\n",
    "Por último es necesario afirmar que son utilizadas para hacer operaciones simples, por las características antes remarcadas."
   ]
  },
  {
   "cell_type": "markdown",
   "id": "4dcb94df-207c-40c6-87f5-0b29dbe077e6",
   "metadata": {},
   "source": [
    "#### Sintaxis"
   ]
  },
  {
   "cell_type": "markdown",
   "id": "088405b6-6d7e-4106-8d40-40c77bada9ff",
   "metadata": {},
   "source": [
    "Las funciones lambda se utilizan con la palabra reservada \"**lambda**\", a continuación de la acción a realizar por dicha función.\n",
    "\n",
    "*lambda parámetros : acción*\n",
    "\n",
    "Por último, estas funciones pueden ser capturadas en una variable y se pueden reutilizar al momento de ser capturadas en la variable."
   ]
  },
  {
   "cell_type": "code",
   "execution_count": 34,
   "id": "aff12da3-214c-4a67-a4e5-13d7a4c52497",
   "metadata": {},
   "outputs": [],
   "source": [
    "resta = lambda x, y : x - y"
   ]
  },
  {
   "cell_type": "code",
   "execution_count": 38,
   "id": "5476efc8-e382-45c6-8ddd-131dfabc8831",
   "metadata": {},
   "outputs": [
    {
     "data": {
      "text/plain": [
       "1"
      ]
     },
     "execution_count": 38,
     "metadata": {},
     "output_type": "execute_result"
    }
   ],
   "source": [
    "resta(2,1)"
   ]
  },
  {
   "cell_type": "code",
   "execution_count": null,
   "id": "7d374f4f-8b22-4df1-a3cc-0ea9176466a9",
   "metadata": {},
   "outputs": [
    {
     "data": {
      "text/plain": [
       "function"
      ]
     },
     "execution_count": 39,
     "metadata": {},
     "output_type": "execute_result"
    }
   ],
   "source": [
    "#Para rectificar que se trata de una función basta con ejecutar el siguiente comando\n",
    "type(resta)"
   ]
  }
 ],
 "metadata": {
  "kernelspec": {
   "display_name": "Python 3 (ipykernel)",
   "language": "python",
   "name": "python3"
  },
  "language_info": {
   "codemirror_mode": {
    "name": "ipython",
    "version": 3
   },
   "file_extension": ".py",
   "mimetype": "text/x-python",
   "name": "python",
   "nbconvert_exporter": "python",
   "pygments_lexer": "ipython3",
   "version": "3.7.4"
  }
 },
 "nbformat": 4,
 "nbformat_minor": 5
}
