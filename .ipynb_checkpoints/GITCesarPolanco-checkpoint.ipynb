{
 "cells": [
  {
   "cell_type": "markdown",
   "id": "6e73f85e-cfc3-4263-a7d1-8f88117cd25a",
   "metadata": {},
   "source": [
    "# Universidad Galileo"
   ]
  },
  {
   "cell_type": "markdown",
   "id": "ef044cb3-a732-4ae0-81ff-10e0b4513155",
   "metadata": {},
   "source": [
    "### César Luis Polanco - 20062088"
   ]
  },
  {
   "cell_type": "markdown",
   "id": "8f74fd8f-a45e-4f37-b7e7-296df5bba86f",
   "metadata": {},
   "source": [
    "# Control de versiones y GIT"
   ]
  },
  {
   "cell_type": "markdown",
   "id": "97e0900f-2d42-4743-91c6-522adac31129",
   "metadata": {},
   "source": [
    "## Sistemas de control de versiones"
   ]
  },
  {
   "cell_type": "markdown",
   "id": "a34ee517-ba84-4afc-993b-e8861974d639",
   "metadata": {},
   "source": [
    "Los sistemas de control de versiones se utilizan para revisar los cambios ocurridos en algún archivo, se utiliza especialmente en todos los archivos con el código fuente necesario a controla. \n",
    "\n",
    "Estos sistemas permiten el control de proyectos completos organizanizados entre branch (ramas), estos proyectos y sus respectivas ramas pueden ser utilizados de forma colaborativa, controlando los cambios realizados por cada recursos que modificó los archivos o bien carpetas dentro del proyecto. Las ramas (branch) se pueden unificar, dividir entre más ramas de acuerdo al caso de uso que sea necesario.\n",
    "\n",
    "La metadata almacenada es valiosa para realizar auditorías a los cambios, esta metadada graba información relevante como usuario que creó|cambio|eliminó el archivo , fecha y hora de dicho cambio, así como una breve descripción del cambio realizado."
   ]
  },
  {
   "cell_type": "markdown",
   "id": "405dd766-960f-40c9-abe9-2ebd84b2b45f",
   "metadata": {},
   "source": [
    "## GIT"
   ]
  },
  {
   "cell_type": "markdown",
   "id": "9beb4ee0-616a-4800-b42c-1c5012bb6144",
   "metadata": {},
   "source": [
    "Es uno de los sistemas controles de versiones más utilizados a nivel mundial, de tal manera que GITHUB, es una immplementación de GIT en la nube.\n",
    "\n",
    "GIT, maneja los snapshot siendo los históricos de cada repositorio de archivos controlado con la herramienta. GIT utiliza DAG (Directed Acyclic Graph) el cual se caracteriza por ser un grado dirigido que fluyen únicamente en una sola dirección.\n",
    "\n",
    "GIT realiza **COMMIT**  el cual genera un snapshot, estos no pueden ser cambiados lo cual implica que cualquier cambio necesario necesita realizar un nuevo **COMMIT**\n",
    "\n",
    "GIT maneja *REPOSITORIOS* donde se puede definir como la data de los objetos y las referencias.\n",
    "\n",
    "El *STAGING AREA* se puede decidir cuales son las modificaciones que se realizará snapshot en el próximo commit.\n",
    "\n"
   ]
  },
  {
   "cell_type": "markdown",
   "id": "be75cde2-4e0e-417e-b195-f654c1b1ff66",
   "metadata": {},
   "source": [
    "## COMANDOS DE GIT"
   ]
  },
  {
   "cell_type": "code",
   "execution_count": 1,
   "id": "cbd0a6c8-1374-42b3-83a6-b209d9a3f610",
   "metadata": {},
   "outputs": [
    {
     "name": "stdout",
     "output_type": "stream",
     "text": [
      "C:\\Users\\lpolanco\\Documents\\MSC\\github\n"
     ]
    }
   ],
   "source": [
    "#Cambiar el directorio de trabajo\n",
    "%cd C:\\Users\\lpolanco\\Documents\\MSC\\github"
   ]
  },
  {
   "cell_type": "code",
   "execution_count": 3,
   "id": "df22f097-03b6-4368-abce-0904dddf96ea",
   "metadata": {},
   "outputs": [
    {
     "name": "stdout",
     "output_type": "stream",
     "text": [
      " El volumen de la unidad C no tiene etiqueta.\n",
      " El número de serie del volumen es: 5A6D-8A54\n",
      "\n",
      " Directorio de C:\\Users\\lpolanco\\Documents\\MSC\\github\n",
      "\n",
      "04/03/2022  19:09    <DIR>          .\n",
      "04/03/2022  19:09    <DIR>          ..\n",
      "04/03/2022  19:09    <DIR>          .ipynb_checkpoints\n",
      "04/03/2022  18:14            13,243 FuncionesCesarPolanco.ipynb\n",
      "04/03/2022  19:08             3,975 GITCesarPolanco.ipynb\n",
      "27/01/2022  10:48                14 README.md\n",
      "27/01/2022  10:53                 5 texto.txt\n",
      "31/01/2022  08:40            64,257 UG_CDP_TAREA01_CESAR_POLANCO.pdf\n",
      "               5 archivos         81,494 bytes\n",
      "               3 dirs  29,914,894,336 bytes libres\n"
     ]
    }
   ],
   "source": [
    "%ls"
   ]
  },
  {
   "cell_type": "code",
   "execution_count": 5,
   "id": "827e9d05-0a25-41bd-8517-533a7d3c1508",
   "metadata": {},
   "outputs": [
    {
     "name": "stdout",
     "output_type": "stream",
     "text": [
      "On branch main\n",
      "Your branch is up to date with 'origin/main'.\n",
      "\n",
      "Untracked files:\n",
      "  (use \"git add <file>...\" to include in what will be committed)\n",
      "\t.ipynb_checkpoints/\n",
      "\tGITCesarPolanco.ipynb\n",
      "\n",
      "nothing added to commit but untracked files present (use \"git add\" to track)\n"
     ]
    }
   ],
   "source": [
    "#Para concer el estado de nuestro branch\n",
    "!git status"
   ]
  },
  {
   "cell_type": "code",
   "execution_count": 7,
   "id": "4ecf2d75-64ed-4fa7-bf7d-ee3c4b9c7733",
   "metadata": {},
   "outputs": [
    {
     "name": "stdout",
     "output_type": "stream",
     "text": [
      "commit eb0204b63a9d80e28b6816dda742e6a3bd957b01\n",
      "Author: MAGDALENA\\LPolanco <pccl87@gmail.com>\n",
      "Date:   Fri Mar 4 18:18:25 2022 -0600\n",
      "\n",
      "    Tarea funciones Python\n",
      "\n",
      "commit 343ad77f7a80a0a2f067ec3add2d7566efd22039\n",
      "Author: MAGDALENA\\LPolanco <pccl87@gmail.com>\n",
      "Date:   Mon Jan 31 08:44:49 2022 -0600\n",
      "\n",
      "    Tarea 01 git github anaconda\n",
      "\n",
      "commit d9c5df120b99f5bb0b321d5c520cb8947178e90f\n",
      "Author: MAGDALENA\\LPolanco <pccl87@gmail.com>\n",
      "Date:   Thu Jan 27 10:52:00 2022 -0600\n",
      "\n",
      "    prueba\n",
      "\n",
      "commit a420b893a6c4ad0862643e056e41c44c0fbdb9db\n",
      "Author: cesarpolanco <79123845+cesarpolanco@users.noreply.github.com>\n",
      "Date:   Wed Jan 26 20:07:58 2022 -0600\n",
      "\n",
      "    Initial commit\n"
     ]
    }
   ],
   "source": [
    "#Para mostrar los cambios realizados en el branch \n",
    "!git log"
   ]
  },
  {
   "cell_type": "code",
   "execution_count": 20,
   "id": "3a624e57-204e-42b0-b29a-72fe0f3dc370",
   "metadata": {},
   "outputs": [],
   "source": [
    "#Hacer un archivo dummy en Windows\n",
    "! notepad DummyFile.txt"
   ]
  },
  {
   "cell_type": "code",
   "execution_count": 21,
   "id": "096146f6-5666-4bd2-b96f-5a2415f54e29",
   "metadata": {},
   "outputs": [],
   "source": [
    "#Agregar contenido al archivo vacío\n",
    "!echo \"DUMMY FILE , FILE IS DUMMY\" > DummyFile.txt"
   ]
  },
  {
   "cell_type": "code",
   "execution_count": 22,
   "id": "e75b0523-7ed2-4be9-930d-266164d46b67",
   "metadata": {},
   "outputs": [],
   "source": [
    "#Rectificar contenido\n",
    "! notepad DummyFile.txt"
   ]
  },
  {
   "cell_type": "code",
   "execution_count": 23,
   "id": "1201852b-3e13-4eb7-91cf-ea636216e358",
   "metadata": {},
   "outputs": [
    {
     "name": "stdout",
     "output_type": "stream",
     "text": [
      "On branch main\n",
      "Your branch is up to date with 'origin/main'.\n",
      "\n",
      "Changes to be committed:\n",
      "  (use \"git restore --staged <file>...\" to unstage)\n",
      "\tnew file:   GITCesarPolanco.ipynb\n",
      "\n",
      "Changes not staged for commit:\n",
      "  (use \"git add <file>...\" to update what will be committed)\n",
      "  (use \"git restore <file>...\" to discard changes in working directory)\n",
      "\tmodified:   GITCesarPolanco.ipynb\n",
      "\n",
      "Untracked files:\n",
      "  (use \"git add <file>...\" to include in what will be committed)\n",
      "\t.ipynb_checkpoints/\n",
      "\tDummyFile.txt\n",
      "\n"
     ]
    }
   ],
   "source": [
    "!git status"
   ]
  },
  {
   "cell_type": "code",
   "execution_count": 24,
   "id": "9f2587cd-526f-4b32-a267-73da8edc2c92",
   "metadata": {},
   "outputs": [],
   "source": [
    "!git add DummyFile.txt"
   ]
  },
  {
   "cell_type": "code",
   "execution_count": 25,
   "id": "e32bfe5b-9933-45f3-91bc-85c2caac6f4d",
   "metadata": {},
   "outputs": [
    {
     "name": "stdout",
     "output_type": "stream",
     "text": [
      "On branch main\n",
      "Your branch is up to date with 'origin/main'.\n",
      "\n",
      "Changes to be committed:\n",
      "  (use \"git restore --staged <file>...\" to unstage)\n",
      "\tnew file:   DummyFile.txt\n",
      "\tnew file:   GITCesarPolanco.ipynb\n",
      "\n",
      "Changes not staged for commit:\n",
      "  (use \"git add <file>...\" to update what will be committed)\n",
      "  (use \"git restore <file>...\" to discard changes in working directory)\n",
      "\tmodified:   GITCesarPolanco.ipynb\n",
      "\n",
      "Untracked files:\n",
      "  (use \"git add <file>...\" to include in what will be committed)\n",
      "\t.ipynb_checkpoints/\n",
      "\n"
     ]
    }
   ],
   "source": [
    "!git status"
   ]
  },
  {
   "cell_type": "code",
   "execution_count": 26,
   "id": "e3c32ed0-67a0-43d2-8a2a-3ba2a85c0580",
   "metadata": {},
   "outputs": [
    {
     "name": "stdout",
     "output_type": "stream",
     "text": [
      "[main 618823e] Se realiza commit desde Notebook\n",
      " 2 files changed, 230 insertions(+)\n",
      " create mode 100644 DummyFile.txt\n",
      " create mode 100644 GITCesarPolanco.ipynb\n"
     ]
    }
   ],
   "source": [
    "!git commit -m \"Se realiza commit desde Notebook\""
   ]
  },
  {
   "cell_type": "code",
   "execution_count": 27,
   "id": "6107e6c3-92a8-4ab3-aea9-cf27a4620c0a",
   "metadata": {},
   "outputs": [
    {
     "name": "stdout",
     "output_type": "stream",
     "text": [
      "On branch main\n",
      "Your branch is ahead of 'origin/main' by 1 commit.\n",
      "  (use \"git push\" to publish your local commits)\n",
      "\n",
      "Changes not staged for commit:\n",
      "  (use \"git add <file>...\" to update what will be committed)\n",
      "  (use \"git restore <file>...\" to discard changes in working directory)\n",
      "\tmodified:   GITCesarPolanco.ipynb\n",
      "\n",
      "Untracked files:\n",
      "  (use \"git add <file>...\" to include in what will be committed)\n",
      "\t.ipynb_checkpoints/\n",
      "\n",
      "no changes added to commit (use \"git add\" and/or \"git commit -a\")\n"
     ]
    }
   ],
   "source": [
    "!git status"
   ]
  },
  {
   "cell_type": "code",
   "execution_count": 28,
   "id": "e689c15b-595b-4873-a186-52584d6ca181",
   "metadata": {},
   "outputs": [
    {
     "name": "stdout",
     "output_type": "stream",
     "text": [
      "commit 618823e63c046e7c88bc5e189d03c0dbc8ccdabc\n",
      "Author: MAGDALENA\\LPolanco <pccl87@gmail.com>\n",
      "Date:   Fri Mar 4 19:32:17 2022 -0600\n",
      "\n",
      "    Se realiza commit desde Notebook\n",
      "\n",
      "commit eb0204b63a9d80e28b6816dda742e6a3bd957b01\n",
      "Author: MAGDALENA\\LPolanco <pccl87@gmail.com>\n",
      "Date:   Fri Mar 4 18:18:25 2022 -0600\n",
      "\n",
      "    Tarea funciones Python\n",
      "\n",
      "commit 343ad77f7a80a0a2f067ec3add2d7566efd22039\n",
      "Author: MAGDALENA\\LPolanco <pccl87@gmail.com>\n",
      "Date:   Mon Jan 31 08:44:49 2022 -0600\n",
      "\n",
      "    Tarea 01 git github anaconda\n",
      "\n",
      "commit d9c5df120b99f5bb0b321d5c520cb8947178e90f\n",
      "Author: MAGDALENA\\LPolanco <pccl87@gmail.com>\n",
      "Date:   Thu Jan 27 10:52:00 2022 -0600\n",
      "\n",
      "    prueba\n",
      "\n",
      "commit a420b893a6c4ad0862643e056e41c44c0fbdb9db\n",
      "Author: cesarpolanco <79123845+cesarpolanco@users.noreply.github.com>\n",
      "Date:   Wed Jan 26 20:07:58 2022 -0600\n",
      "\n",
      "    Initial commit\n"
     ]
    }
   ],
   "source": [
    "!git log"
   ]
  },
  {
   "cell_type": "markdown",
   "id": "bd0d5cb0-a03d-42f7-8342-3836e6bfb69b",
   "metadata": {},
   "source": [
    "## Comentarios Finales\n",
    "\n",
    "Con GIT podemos realizar el control de cambios de los distintos repositorios en nuestro proyecto, ahora con GITHUB, el repositorio en la nube podemos realizar distintos desarrollos que se pueden visualizar de acuerdo a los permisos que otorguemos y de esta manera socializar nuestro trabajo."
   ]
  },
  {
   "cell_type": "code",
   "execution_count": null,
   "id": "e30374eb-5ceb-45da-989d-5470154d995e",
   "metadata": {},
   "outputs": [],
   "source": []
  }
 ],
 "metadata": {
  "kernelspec": {
   "display_name": "Python 3 (ipykernel)",
   "language": "python",
   "name": "python3"
  },
  "language_info": {
   "codemirror_mode": {
    "name": "ipython",
    "version": 3
   },
   "file_extension": ".py",
   "mimetype": "text/x-python",
   "name": "python",
   "nbconvert_exporter": "python",
   "pygments_lexer": "ipython3",
   "version": "3.7.4"
  }
 },
 "nbformat": 4,
 "nbformat_minor": 5
}
