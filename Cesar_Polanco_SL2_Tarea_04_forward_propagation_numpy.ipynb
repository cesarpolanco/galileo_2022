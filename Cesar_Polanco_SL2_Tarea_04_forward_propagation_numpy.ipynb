{
  "nbformat": 4,
  "nbformat_minor": 0,
  "metadata": {
    "colab": {
      "provenance": [],
      "collapsed_sections": []
    },
    "kernelspec": {
      "name": "python3",
      "display_name": "Python 3"
    }
  },
  "cells": [
    {
      "cell_type": "markdown",
      "source": [
        "#**Universidad Galileo**\n",
        "##Statistical Learning II Tarea No 4\n",
        "###César Luis Polanco\n",
        "###20062088\n"
      ],
      "metadata": {
        "id": "AnMWXT7_myOe"
      }
    },
    {
      "cell_type": "markdown",
      "metadata": {
        "id": "-xJPhEzbqWp9"
      },
      "source": [
        "Igorando el sesgo/bias y asumiendo activación sigmoidal implementar la siguiente red neuronal en NumPy\n",
        "\n",
        "https://gadictos.com/neural-network-pt1/\n",
        "<img src=\"https://gadictos.com/wp-content/uploads/2019/05/bp1.png\">"
      ]
    },
    {
      "cell_type": "code",
      "metadata": {
        "id": "Q1yAwOc4qPLs"
      },
      "source": [
        "import numpy as np\n",
        "import matplotlib.pyplot as plt\n",
        "import matplotlib.patches as mpatches"
      ],
      "execution_count": 54,
      "outputs": []
    },
    {
      "cell_type": "code",
      "metadata": {
        "id": "hir96PwIqZOB",
        "colab": {
          "base_uri": "https://localhost:8080/"
        },
        "outputId": "b7659e97-5790-4920-8501-cfba1da3a656"
      },
      "source": [
        "def sigmoid(X):\n",
        "  return 1/(1+np.exp(-X))\n",
        "\n",
        "sigmoid(np.array([2,3,4]))"
      ],
      "execution_count": null,
      "outputs": [
        {
          "output_type": "execute_result",
          "data": {
            "text/plain": [
              "array([0.88079708, 0.95257413, 0.98201379])"
            ]
          },
          "metadata": {},
          "execution_count": 3
        }
      ]
    },
    {
      "cell_type": "code",
      "metadata": {
        "id": "O7GP_nCsq1PK"
      },
      "source": [
        "Wc1 = np.array([\n",
        "   [0.9,0.3,0.2],\n",
        "   [0.8,0.5,0.4],\n",
        "   [0.1,0.6,0.7]\n",
        "])"
      ],
      "execution_count": null,
      "outputs": []
    },
    {
      "cell_type": "code",
      "metadata": {
        "id": "dvgUY50uruJm"
      },
      "source": [
        "Wc2 = np.array([0.3,0.5,0.9])"
      ],
      "execution_count": null,
      "outputs": []
    },
    {
      "cell_type": "code",
      "metadata": {
        "id": "h2gQk06wr-2U"
      },
      "source": [
        "# 4 observaciones, 3 variables\n",
        "X = np.array([\n",
        "      [1,0,1],\n",
        "      [1,2,3],\n",
        "      [4,5,6],\n",
        "      [6,7,8],\n",
        "])"
      ],
      "execution_count": null,
      "outputs": []
    },
    {
      "cell_type": "markdown",
      "metadata": {
        "id": "83lprDqdsXS9"
      },
      "source": [
        "### Forward-propagation(inferencia, prediccion, o estimacion)\n"
      ]
    },
    {
      "cell_type": "code",
      "metadata": {
        "id": "6YQQehtksWIh"
      },
      "source": [
        "H = np.matmul(X,Wc1)"
      ],
      "execution_count": null,
      "outputs": []
    },
    {
      "cell_type": "code",
      "metadata": {
        "id": "Yk6tcrDVspc5",
        "colab": {
          "base_uri": "https://localhost:8080/"
        },
        "outputId": "97549796-045a-472f-fa80-eb7af455d9f0"
      },
      "source": [
        "X.shape"
      ],
      "execution_count": null,
      "outputs": [
        {
          "output_type": "execute_result",
          "data": {
            "text/plain": [
              "(4, 3)"
            ]
          },
          "metadata": {},
          "execution_count": 8
        }
      ]
    },
    {
      "cell_type": "code",
      "metadata": {
        "id": "N-N_C7E2ssQQ",
        "colab": {
          "base_uri": "https://localhost:8080/"
        },
        "outputId": "50e9d677-327d-4968-b77e-175eac6e112e"
      },
      "source": [
        "Wc1.shape"
      ],
      "execution_count": null,
      "outputs": [
        {
          "output_type": "execute_result",
          "data": {
            "text/plain": [
              "(3, 3)"
            ]
          },
          "metadata": {},
          "execution_count": 9
        }
      ]
    },
    {
      "cell_type": "code",
      "metadata": {
        "id": "JNLhgYB6styV",
        "colab": {
          "base_uri": "https://localhost:8080/"
        },
        "outputId": "ba083982-a6c1-459b-a1ef-50b82e84b26e"
      },
      "source": [
        "H.shape"
      ],
      "execution_count": null,
      "outputs": [
        {
          "output_type": "execute_result",
          "data": {
            "text/plain": [
              "(4, 3)"
            ]
          },
          "metadata": {},
          "execution_count": 10
        }
      ]
    },
    {
      "cell_type": "code",
      "metadata": {
        "colab": {
          "base_uri": "https://localhost:8080/"
        },
        "id": "hl3ppyjaIVgE",
        "outputId": "3094e30c-e8cb-4b35-cba1-b53b1e9011b7"
      },
      "source": [
        "H"
      ],
      "execution_count": null,
      "outputs": [
        {
          "output_type": "execute_result",
          "data": {
            "text/plain": [
              "array([[ 1. ,  0.9,  0.9],\n",
              "       [ 2.8,  3.1,  3.1],\n",
              "       [ 8.2,  7.3,  7. ],\n",
              "       [11.8, 10.1,  9.6]])"
            ]
          },
          "metadata": {},
          "execution_count": 11
        }
      ]
    },
    {
      "cell_type": "code",
      "metadata": {
        "id": "K1BwUuoxs1K9"
      },
      "source": [
        "A = sigmoid(H)"
      ],
      "execution_count": null,
      "outputs": []
    },
    {
      "cell_type": "code",
      "metadata": {
        "id": "-JrD3ICAtLfY",
        "colab": {
          "base_uri": "https://localhost:8080/"
        },
        "outputId": "8e283042-b71e-488d-bdc7-16348c90a422"
      },
      "source": [
        "A"
      ],
      "execution_count": null,
      "outputs": [
        {
          "output_type": "execute_result",
          "data": {
            "text/plain": [
              "array([[0.73105858, 0.7109495 , 0.7109495 ],\n",
              "       [0.94267582, 0.95689275, 0.95689275],\n",
              "       [0.99972542, 0.99932492, 0.99908895],\n",
              "       [0.9999925 , 0.99995892, 0.99993228]])"
            ]
          },
          "metadata": {},
          "execution_count": 13
        }
      ]
    },
    {
      "cell_type": "code",
      "metadata": {
        "id": "Rhk8mrKutMYa"
      },
      "source": [
        "y_aprox = sigmoid(np.matmul(\n",
        "    A,Wc2\n",
        "))"
      ],
      "execution_count": null,
      "outputs": []
    },
    {
      "cell_type": "code",
      "metadata": {
        "id": "RlJksB9Bt2kU",
        "colab": {
          "base_uri": "https://localhost:8080/"
        },
        "outputId": "17b9c506-cc21-4097-f40c-2b53de311c55"
      },
      "source": [
        "y_aprox"
      ],
      "execution_count": null,
      "outputs": [
        {
          "output_type": "execute_result",
          "data": {
            "text/plain": [
              "array([0.77112013, 0.83513309, 0.84537273, 0.8455238 ])"
            ]
          },
          "metadata": {},
          "execution_count": 15
        }
      ]
    },
    {
      "cell_type": "code",
      "metadata": {
        "id": "xi3gkqIyugog"
      },
      "source": [
        "def g(X):\n",
        "  return sigmoid(np.matmul(X,Wc1))"
      ],
      "execution_count": null,
      "outputs": []
    },
    {
      "cell_type": "code",
      "metadata": {
        "id": "bXoXpxdUuM44"
      },
      "source": [
        "def f(g):\n",
        "  return sigmoid(np.matmul(g,Wc2))"
      ],
      "execution_count": null,
      "outputs": []
    },
    {
      "cell_type": "code",
      "metadata": {
        "id": "D3XYAyaWt4Dq"
      },
      "source": [
        "y_aprox = f(g(X))"
      ],
      "execution_count": null,
      "outputs": []
    },
    {
      "cell_type": "code",
      "metadata": {
        "id": "VLV6mCnXu0Uq",
        "colab": {
          "base_uri": "https://localhost:8080/"
        },
        "outputId": "f3e1e08c-7546-4ea1-9f3f-dfbb9d831db6"
      },
      "source": [
        "y_aprox"
      ],
      "execution_count": null,
      "outputs": [
        {
          "output_type": "execute_result",
          "data": {
            "text/plain": [
              "array([0.77112013, 0.83513309, 0.84537273, 0.8455238 ])"
            ]
          },
          "metadata": {},
          "execution_count": 19
        }
      ]
    },
    {
      "cell_type": "markdown",
      "metadata": {
        "id": "ET5Q69rqTRqN"
      },
      "source": [
        "#### Orientado a objetos"
      ]
    },
    {
      "cell_type": "code",
      "metadata": {
        "id": "YQoIIfoDu19e"
      },
      "source": [
        "class RedNeuronal:\n",
        "  def __init__(self):\n",
        "    self.Wc1 = np.array([\n",
        "                         [0.8, 0.4, 0.3],\n",
        "                         [0.2, 0.9, 0.5]\n",
        "    ])\n",
        "\n",
        "    self.Wc2 = np.array([0.3, 0.5, 0.9])\n",
        "\n",
        "  def forward_propagation(self,X):\n",
        "    A = sigmoid(np.matmul(X,self.Wc1))\n",
        "    y_aprox = sigmoid(np.matmul(A,self.Wc2))\n",
        "\n",
        "    return A,y_aprox"
      ],
      "execution_count": 34,
      "outputs": []
    },
    {
      "cell_type": "code",
      "source": [
        "# 4 observaciones, 2 variables\n",
        "X = np.array([\n",
        "      [1,1],\n",
        "      [1,2],\n",
        "      [4,5],\n",
        "      [6,7],\n",
        "])"
      ],
      "metadata": {
        "id": "WS2zId6R452a"
      },
      "execution_count": 35,
      "outputs": []
    },
    {
      "cell_type": "code",
      "metadata": {
        "id": "S9QeAwizUOQ1"
      },
      "source": [
        "NeuralNet = RedNeuronal()\n",
        "A,NeuralNet = NeuralNet.forward_propagation(X)"
      ],
      "execution_count": 37,
      "outputs": []
    },
    {
      "cell_type": "code",
      "source": [
        "print('Capa intermedia: \\n', A, '\\n')\n",
        "print('Capa con mayor presencia: \\n', np.max(A[:,:2], axis=1), '\\n')\n",
        "print('y aproximado: \\n', NeuralNet)"
      ],
      "metadata": {
        "colab": {
          "base_uri": "https://localhost:8080/"
        },
        "id": "BwGtZq5q5F8t",
        "outputId": "8d9e3db8-74ea-4ff7-e86c-53d637375264"
      },
      "execution_count": 40,
      "outputs": [
        {
          "output_type": "stream",
          "name": "stdout",
          "text": [
            "Capa intermedia: \n",
            " [[0.73105858 0.78583498 0.68997448]\n",
            " [0.76852478 0.90024951 0.78583498]\n",
            " [0.98522597 0.99776215 0.97587298]\n",
            " [0.99797468 0.99983344 0.9950332 ]] \n",
            "\n",
            "Capa con mayor presencia: \n",
            " [0.78583498 0.90024951 0.99776215 0.99983344] \n",
            "\n",
            "y aproximado: \n",
            " [0.77438027 0.80026216 0.84194007 0.84485948]\n"
          ]
        }
      ]
    },
    {
      "cell_type": "markdown",
      "metadata": {
        "id": "zzvKRkK8EQBI"
      },
      "source": [
        "<img src=\"https://i.imgur.com/IDFRq5a.png\">"
      ]
    },
    {
      "cell_type": "markdown",
      "metadata": {
        "id": "mOthS-Y8SxaV"
      },
      "source": [
        "[0.73105858 0.78583498 0.68997448]"
      ]
    },
    {
      "cell_type": "code",
      "metadata": {
        "id": "JqwT9ScPUnTc"
      },
      "source": [
        "class RedNeuronal:\n",
        "  def __init__(self):\n",
        "    # 1 fila por neurona , 1 columna por variable de entrada\n",
        "    self.Wc1 = np.array([\n",
        "        [0.8,0.2],\n",
        "        [0.4,0.9],\n",
        "        [0.3,0.5]    \n",
        "    ])\n",
        "\n",
        "    # 1 elemento para cada neurona intermedia\n",
        "    self. Wc2  = np.array([0.3,0.5,0.9])\n",
        "\n",
        "  def forward_propagation(self,X):\n",
        "    print(X.shape)\n",
        "    print(self.Wc1.T.shape)\n",
        "    A = sigmoid(np.matmul(X,self.Wc1.T)) # 1 fila por observacion, 1 columna por representacion intermedia [4,3]\n",
        "    print(A)\n",
        "    print(A.shape)\n",
        "    y_aprox = sigmoid(np.matmul(A,self.Wc2)) # 1 fila por observacion,  1 unica salida [4,1]\n",
        "    print(y_aprox.shape)\n",
        "    return y_aprox"
      ],
      "execution_count": 30,
      "outputs": []
    },
    {
      "cell_type": "code",
      "metadata": {
        "id": "ErGGNxXUOmm1"
      },
      "source": [
        "# 4 observaciones, 2 variables\n",
        "X = np.array([\n",
        "      [1,1],\n",
        "      [1,2],\n",
        "      [4,5],\n",
        "      [6,7],\n",
        "])"
      ],
      "execution_count": 31,
      "outputs": []
    },
    {
      "cell_type": "code",
      "metadata": {
        "id": "EJ8aX9rtP8UL",
        "colab": {
          "base_uri": "https://localhost:8080/"
        },
        "outputId": "68b810fd-4329-4054-f10e-f0f4cc1eafe5"
      },
      "source": [
        "red = RedNeuronal()\n",
        "y_aprox = red.forward_propagation(X)"
      ],
      "execution_count": 32,
      "outputs": [
        {
          "output_type": "stream",
          "name": "stdout",
          "text": [
            "(4, 2)\n",
            "(2, 3)\n",
            "[[0.73105858 0.78583498 0.68997448]\n",
            " [0.76852478 0.90024951 0.78583498]\n",
            " [0.98522597 0.99776215 0.97587298]\n",
            " [0.99797468 0.99983344 0.9950332 ]]\n",
            "(4, 3)\n",
            "(4,)\n"
          ]
        }
      ]
    },
    {
      "cell_type": "code",
      "metadata": {
        "id": "bqvVlr8nQG83",
        "colab": {
          "base_uri": "https://localhost:8080/"
        },
        "outputId": "9475495e-9c8f-45c8-b609-9d21bbc3262b"
      },
      "source": [
        "y_aprox"
      ],
      "execution_count": 33,
      "outputs": [
        {
          "output_type": "execute_result",
          "data": {
            "text/plain": [
              "array([0.77438027, 0.80026216, 0.84194007, 0.84485948])"
            ]
          },
          "metadata": {},
          "execution_count": 33
        }
      ]
    },
    {
      "cell_type": "markdown",
      "source": [
        "## Sigmoid"
      ],
      "metadata": {
        "id": "ONPtC91O7hxI"
      }
    },
    {
      "cell_type": "code",
      "metadata": {
        "id": "AWBZdfJRSAvT"
      },
      "source": [
        "class RedNeuronal:\n",
        "  def __init__(self):\n",
        "    self.Wc1 = np.array([\n",
        "                         [5, 7],\n",
        "                         [-2, -3],\n",
        "                         [-8, 1]\n",
        "    ])\n",
        "\n",
        "    self.Wc2 = np.array([7, 5, -6])\n",
        "\n",
        "  def forward_propagation(self,X):\n",
        "    X = np.c_[X, np.ones(X.shape[0])]\n",
        "    A = sigmoid(np.matmul(X,self.Wc1))\n",
        "    A = np.c_[A, np.ones(A.shape[0])]\n",
        "\n",
        "    y_aprox = sigmoid(np.matmul(A,self.Wc2))\n",
        "\n",
        "    return A, y_aprox"
      ],
      "execution_count": 41,
      "outputs": []
    },
    {
      "cell_type": "code",
      "source": [
        "# 4 observaciones, 2 variables\n",
        "X = np.array([\n",
        "      [1, 1],\n",
        "      [1, 2],\n",
        "      [4, 5],\n",
        "      [6, 7],\n",
        "])"
      ],
      "metadata": {
        "id": "QvwpbEZv68e3"
      },
      "execution_count": 42,
      "outputs": []
    },
    {
      "cell_type": "code",
      "source": [
        "NeuralNet2 = RedNeuronal()\n",
        "A, NeuralNet2 = NeuralNet2.forward_propagation(X)\n",
        "\n",
        "print('Capa intermedia: \\n', A, '\\n')\n",
        "print('Capa con mayor presencia: \\n', np.max(A[:,:2], axis=1), '\\n')\n",
        "print('y aproximado: \\n', NeuralNet2)"
      ],
      "metadata": {
        "colab": {
          "base_uri": "https://localhost:8080/"
        },
        "id": "zJI6UTQ_7MVU",
        "outputId": "f07d1da3-3f53-44db-bc84-ccbf9ab4dee4"
      },
      "execution_count": 44,
      "outputs": [
        {
          "output_type": "stream",
          "name": "stdout",
          "text": [
            "Capa intermedia: \n",
            " [[6.69285092e-03 9.93307149e-01 1.00000000e+00]\n",
            " [9.11051194e-04 8.80797078e-01 1.00000000e+00]\n",
            " [8.80797078e-01 9.99999168e-01 1.00000000e+00]\n",
            " [9.99664650e-01 1.00000000e+00 1.00000000e+00]] \n",
            "\n",
            "Capa con mayor presencia: \n",
            " [0.99330715 0.88079708 0.99999917 1.        ] \n",
            "\n",
            "y aproximado: \n",
            " [0.27158134 0.16943494 0.99432264 0.99752158]\n"
          ]
        }
      ]
    },
    {
      "cell_type": "markdown",
      "source": [
        "## XOR"
      ],
      "metadata": {
        "id": "eQ00hB5M7n1e"
      }
    },
    {
      "cell_type": "code",
      "source": [
        "class RedNeuronal:\n",
        "  def __init__(self):\n",
        "    self.Wc1 = np.array([\n",
        "                         [20, -20],\n",
        "                         [20, -20]\n",
        "    ])\n",
        "\n",
        "    self.B1 = np.array([-10, 30])\n",
        "\n",
        "    self.Wc2 = np.array([20, 20])\n",
        "\n",
        "    self.B2 = np.array([-30])\n",
        "\n",
        "  def forward_propagation(self,X):\n",
        "    A = sigmoid(np.matmul(X,self.Wc1) + self.B1)\n",
        "    y_aprox = sigmoid(np.matmul(A,self.Wc2) + self.B2)\n",
        "\n",
        "    return A, y_aprox"
      ],
      "metadata": {
        "id": "VjyOrDda7pNX"
      },
      "execution_count": 50,
      "outputs": []
    },
    {
      "cell_type": "code",
      "source": [
        "# 4 observaciones, 2 variables\n",
        "X = np.array([\n",
        "      [1, 1],\n",
        "      [1, 0],\n",
        "      [0, 1],\n",
        "      [0, 0],\n",
        "])"
      ],
      "metadata": {
        "id": "L8GsVFH07sxU"
      },
      "execution_count": 51,
      "outputs": []
    },
    {
      "cell_type": "code",
      "source": [
        "NeuralNet3 = RedNeuronal()\n",
        "A, NeuralNet3 = NeuralNet3.forward_propagation(X)\n",
        "\n",
        "print('Capa intermedia: \\n', A, '\\n')\n",
        "print('Capa con mayor presencia: \\n', np.max(A[:,:2], axis=1), '\\n')\n",
        "print('y aproximado: \\n', NeuralNet3)"
      ],
      "metadata": {
        "colab": {
          "base_uri": "https://localhost:8080/"
        },
        "id": "KsYZk5Zi7u4F",
        "outputId": "c6bb4d19-3456-492a-d313-0cfcaae8dab1"
      },
      "execution_count": 53,
      "outputs": [
        {
          "output_type": "stream",
          "name": "stdout",
          "text": [
            "Capa intermedia: \n",
            " [[1.00000000e+00 4.53978687e-05]\n",
            " [9.99954602e-01 9.99954602e-01]\n",
            " [9.99954602e-01 9.99954602e-01]\n",
            " [4.53978687e-05 1.00000000e+00]] \n",
            "\n",
            "Capa con mayor presencia: \n",
            " [1.        0.9999546 0.9999546 1.       ] \n",
            "\n",
            "y aproximado: \n",
            " [4.54391049e-05 9.99954520e-01 9.99954520e-01 4.54391049e-05]\n"
          ]
        }
      ]
    },
    {
      "cell_type": "markdown",
      "source": [
        "## Graficar XOR"
      ],
      "metadata": {
        "id": "I3JJKOVG9IhV"
      }
    },
    {
      "cell_type": "code",
      "source": [
        "colors = np.where(np.prod(A, axis=1) > 0.5, 'c', 'r')\n",
        "true = mpatches.Patch(color='c', label='1, True')\n",
        "false = mpatches.Patch(color='r', label='0, False')\n",
        "\n",
        "plt.scatter(X[:,0], X[:,1], color=colors)\n",
        "plt.title(\"XOR\")\n",
        "plt.xlabel('h1')\n",
        "plt.ylabel('h2')\n",
        "plt.legend(handles=[true, false])\n",
        "plt.show()"
      ],
      "metadata": {
        "colab": {
          "base_uri": "https://localhost:8080/",
          "height": 295
        },
        "id": "3nw15R778CHH",
        "outputId": "55ac6517-c550-4203-d6ec-e03c53f0c67e"
      },
      "execution_count": 66,
      "outputs": [
        {
          "output_type": "display_data",
          "data": {
            "text/plain": [
              "<Figure size 432x288 with 1 Axes>"
            ],
            "image/png": "[encoded data removed]"
          },
          "metadata": {
            "needs_background": "light"
          }
        }
      ]
    },
    {
      "cell_type": "markdown",
      "source": [
        "## Capa intermedia"
      ],
      "metadata": {
        "id": "dcGrPbXi9MB_"
      }
    },
    {
      "cell_type": "code",
      "source": [
        "colors = np.where(np.prod(A, axis=1) > 0.5, 'c', 'r')\n",
        "true = mpatches.Patch(color='c', label='1, True')\n",
        "false = mpatches.Patch(color='r', label='0, False')\n",
        "\n",
        "plt.scatter(A[:,0], A[:,1], color=colors)\n",
        "plt.title(\"Capa Intermedia\")\n",
        "plt.xlabel('h1')\n",
        "plt.ylabel('h2')\n",
        "plt.legend(handles=[true, false])\n",
        "plt.show()"
      ],
      "metadata": {
        "colab": {
          "base_uri": "https://localhost:8080/",
          "height": 295
        },
        "id": "F-Iux3ha9N7N",
        "outputId": "22b5ba9e-7679-4cfd-81bd-0e4b94a3724e"
      },
      "execution_count": 67,
      "outputs": [
        {
          "output_type": "display_data",
          "data": {
            "text/plain": [
              "<Figure size 432x288 with 1 Axes>"
            ],
            "image/png": "[encoded data removed]"
          },
          "metadata": {
            "needs_background": "light"
          }
        }
      ]
    },
    {
      "cell_type": "markdown",
      "source": [
        "## Conclusiones\n",
        "\n",
        "Luego de visualizar la gráfica de XOR se puede evidenciar que no es posible separar linealmente el resultado de aplicar a los Input esta operación, pero al analizar la capa intermedia se puede ver una separación lineal entre los puntos rojos."
      ],
      "metadata": {
        "id": "gxAyOW3Z9mT7"
      }
    }
  ]
}